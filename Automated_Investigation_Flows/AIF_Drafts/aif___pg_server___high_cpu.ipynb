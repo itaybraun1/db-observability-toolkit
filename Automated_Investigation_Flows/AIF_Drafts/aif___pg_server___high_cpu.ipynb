{
 "cells": [
  {
   "cell_type": "markdown",
   "metadata": {},
   "source": [
    "# RunBook - High CPU\n",
    "Flow\n",
    "- Find the DB that uses many active connections\n",
    "- Find the top CPU utilization queries. \n",
    "Resources\n",
    "- https://jfrog.com/community/data-science/troubleshooting-high-cpu-utilization-in-postgresql-databases-a-how-to-guide/ "
   ]
  },
  {
   "cell_type": "markdown",
   "metadata": {},
   "source": [
    "One of the patterns of PostgreSQL DB’s leading to high CPU utilization is a high number of active connections."
   ]
  },
  {
   "cell_type": "code",
   "execution_count": null,
   "metadata": {},
   "outputs": [],
   "source": [
    "sql_connections_overview = \"\"\"\n",
    "SELECT * \n",
    "FROM ( \n",
    "select \n",
    "\tcount(1) as total_connections, \n",
    "  sum(case when state!='idle' then 1 else 0 end) as non_idle_connections, \n",
    "  sum(case when state='idle' then 1 else 0 end) as idle_connections, \n",
    "  round( sum(case when state='idle' then 1 else 0 end)::numeric / count(1), 2) as idle_connections_pct\n",
    "from pg_stat_activity\n",
    ") AS t1\n",
    "CROSS JOIN   \n",
    "\t (select setting as max_connections \n",
    "    from pg_settings \n",
    "    where name='max_connections') as s\n",
    "    \"\"\";\n",
    "\n"
   ]
  },
  {
   "cell_type": "markdown",
   "metadata": {},
   "source": [
    "Show the number of non-idle connections per DB"
   ]
  },
  {
   "cell_type": "code",
   "execution_count": null,
   "metadata": {},
   "outputs": [],
   "source": [
    "SELECT \n",
    "\tdatname as db_name, \n",
    "\tcount(1) as num_non_idle_connections \n",
    "FROM pg_stat_activity \n",
    "WHERE state!='idle' \n",
    "GROUP BY 1 \n",
    "ORDER BY num_non_idle_connections DESC;"
   ]
  }
 ],
 "metadata": {
  "language_info": {
   "name": "python"
  },
  "orig_nbformat": 4
 },
 "nbformat": 4,
 "nbformat_minor": 2
}
