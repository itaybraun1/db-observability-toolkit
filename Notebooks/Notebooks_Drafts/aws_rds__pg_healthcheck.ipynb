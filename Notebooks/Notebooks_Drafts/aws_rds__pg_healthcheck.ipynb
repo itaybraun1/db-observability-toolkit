{
 "cells": [
  {
   "cell_type": "markdown",
   "metadata": {},
   "source": [
    "# aws_rds_pg_healthcheck\n",
    "This notebook runs basic checks of the CONFIGURATION of the AWS RDS instance. The checks are relevant to your production env only. Another Perofrmance Healthcheck should be used to analyze the peroformance of the system.\n",
    "It contains the textual explanation of what should be done. If possible, it also run a script to collect the data and run the test.   \n",
    "\n",
    "The Notebook is still under development!\n"
   ]
  },
  {
   "cell_type": "markdown",
   "metadata": {},
   "source": [
    "# The Healthcheck\n",
    "- Postgres Version - should be supported. As of today (Sep 23') it is 12.4\n",
    "- CloudWatch configured to collect history of at least 30 days. \n",
    "- The hard drive is SSD\n",
    "- The RDS has at least one Read-only instance\n",
    "- Slow Query log is configured: sample rate of 0.001 (1 out of a 1000 queries), min duration of 10ms. \n",
    "- Auto Explain is configured: estimated plans\n",
    "- Loaded extensions: The user can create extensions as their code is in the shared lib: pg_stat_statement, pg_buffercache, pg_cron, ph_hint_plan\n",
    "- Configure Statement timeout \n",
    "- Configure a Connection Pooler. \n",
    "- Configure Alerts - High CPU, Low memory. "
   ]
  },
  {
   "cell_type": "code",
   "execution_count": null,
   "metadata": {},
   "outputs": [],
   "source": []
  }
 ],
 "metadata": {
  "language_info": {
   "name": "python"
  },
  "orig_nbformat": 4
 },
 "nbformat": 4,
 "nbformat_minor": 2
}
