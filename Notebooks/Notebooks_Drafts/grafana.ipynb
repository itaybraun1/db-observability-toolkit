{
 "cells": [
  {
   "cell_type": "markdown",
   "metadata": {},
   "source": [
    "# Send Metrics to Prmetheus\n",
    "The Grafana cloud supports an API to allow pushing data just like influx: api/v1/push/influx/write \n",
    "Notice that by default you can't send the time. Some configuration is needed, but it is possible to send the original time too. **Missing link**"
   ]
  },
  {
   "cell_type": "code",
   "execution_count": 12,
   "metadata": {},
   "outputs": [
    {
     "name": "stdout",
     "output_type": "stream",
     "text": [
      "Status Code: 204\n",
      "Response Message: \n"
     ]
    }
   ],
   "source": [
    "import requests\n",
    "import base64\n",
    "\n",
    "USER_ID = 584133\n",
    "API_KEY = \"glc_eyJvIjoiNzE0ODU2IiwibiI6ImFwaS10ZXN0LTEiLCJrIjoiNDF6czgwdjFjdDRSczMyTzkyc21OWEhZIiwibSI6eyJyIjoidXMifX0=\"\n",
    "\n",
    "# body = 'test,bar_label=abc,source=grafana_cloud_docs metric=35.2'\n",
    "body = 'database_activity,apikey=apikey_1,host=pg_host_1,database=db8 db_inserts=100000,db_updates=60000,db_delete=0,db_read=4006000\\n' \\\n",
    "       'database_activity,apikey=apikey_1,host=pg_host_1,database=db9 db_inserts=75000,db_updates=45000,db_delete=100,db_read=3580000'\n",
    "\n",
    "\n",
    "response = requests.post('https://influx-prod-10-prod-us-central-0.grafana.net/api/v1/push/influx/write', \n",
    "                         headers = {\n",
    "                           'Content-Type': 'text/plain',\n",
    "                         },\n",
    "                         data = str(body),\n",
    "                         auth = (USER_ID, API_KEY)\n",
    ")\n",
    "\n",
    "status_code = response.status_code\n",
    "response_message = response.text  # Get the response message\n",
    "\n",
    "print(\"Status Code:\", status_code)\n",
    "print(\"Response Message:\", response_message)\n"
   ]
  }
 ],
 "metadata": {
  "kernelspec": {
   "display_name": "Python 3",
   "language": "python",
   "name": "python3"
  },
  "language_info": {
   "codemirror_mode": {
    "name": "ipython",
    "version": 3
   },
   "file_extension": ".py",
   "mimetype": "text/x-python",
   "name": "python",
   "nbconvert_exporter": "python",
   "pygments_lexer": "ipython3",
   "version": "3.10.2"
  },
  "orig_nbformat": 4
 },
 "nbformat": 4,
 "nbformat_minor": 2
}
