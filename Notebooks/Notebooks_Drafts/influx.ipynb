{
 "cells": [
  {
   "cell_type": "markdown",
   "metadata": {},
   "source": [
    "Testing influx. \n",
    "https://docs.influxdata.com/influxdb/cloud/api-guide/client-libraries/python/#:~:text=Write%20data%20to%20InfluxDB%20with%20Python&text=In%20your%20Python%20program%2C%20import,to%20write%20data%20to%20InfluxDB.&text=Define%20a%20few%20variables%20with,bucket%2C%20organization%2C%20and%20token.&text=Instantiate%20the%20client.,url%20%2C%20org%20%2C%20and%20token%20."
   ]
  },
  {
   "cell_type": "code",
   "execution_count": 5,
   "metadata": {},
   "outputs": [
    {
     "name": "stdout",
     "output_type": "stream",
     "text": [
      "[('temperature', 25.3), ('temperature', 25.3), ('temperature', 25.3), ('temperature', 25.3)]\n"
     ]
    }
   ],
   "source": [
    "import influxdb_client\n",
    "import certifi # we need it to support their F**** certification problems. \n",
    "from influxdb_client.client.write_api import SYNCHRONOUS\n",
    "\n",
    "bucket = \"pg_test_1\"\n",
    "org = \"Metis_Light\"\n",
    "token = \"7tNrDTloBmDAX4cjAWUW34zk6LrGt_d3doSYylzNonuZslNL7txoDQzwylYBAZYxMEPKWLDvAxAvY3z_2BEmzQ==\"\n",
    "# Store the URL of your InfluxDB instance\n",
    "# url=\"https://us-west-2-1.aws.cloud2.influxdata.com\" # from the original demo\n",
    "url=\"https://us-east-1-1.aws.cloud2.influxdata.com/\" # The actual cloud\n",
    "\n",
    "client = influxdb_client.InfluxDBClient(\n",
    "    url=url,\n",
    "    token=token,\n",
    "    org=org,\n",
    "    # https://stackoverflow.com/questions/69401104/influxdb-2-0-certificate-verify-failed-certificate-has-expired-ssl-c1129\n",
    "    ssl_ca_cert=certifi.where()\n",
    ")\n",
    "\n",
    "# Write script\n",
    "write_api = client.write_api(write_options=SYNCHRONOUS)\n",
    "\n",
    "p = influxdb_client.Point(\"my_measurement\").tag(\"location\", \"Prague\").field(\"temperature\", 25.3)\n",
    "write_api.write(bucket=bucket, org=org, record=p)\n",
    "\n",
    "\n",
    "# Query script\n",
    "query_api = client.query_api()\n",
    "query = 'from(bucket:\"pg_test_1\")\\\n",
    "|> range(start: -10m)\\\n",
    "|> filter(fn:(r) => r._measurement == \"my_measurement\")\\\n",
    "|> filter(fn:(r) => r.location == \"Prague\")\\\n",
    "|> filter(fn:(r) => r._field == \"temperature\")'\n",
    "result = query_api.query(org=org, query=query)\n",
    "results = []\n",
    "for table in result:\n",
    "    for record in table.records:\n",
    "        results.append((record.get_field(), record.get_value()))\n",
    "\n",
    "print(results)\n",
    "# [(temperature, 25.3)]"
   ]
  }
 ],
 "metadata": {
  "kernelspec": {
   "display_name": "Python 3",
   "language": "python",
   "name": "python3"
  },
  "language_info": {
   "codemirror_mode": {
    "name": "ipython",
    "version": 3
   },
   "file_extension": ".py",
   "mimetype": "text/x-python",
   "name": "python",
   "nbconvert_exporter": "python",
   "pygments_lexer": "ipython3",
   "version": "3.10.2"
  },
  "orig_nbformat": 4
 },
 "nbformat": 4,
 "nbformat_minor": 2
}
