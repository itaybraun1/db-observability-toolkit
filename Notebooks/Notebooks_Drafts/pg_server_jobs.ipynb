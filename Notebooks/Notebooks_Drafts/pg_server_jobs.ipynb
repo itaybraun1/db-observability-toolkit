{
 "cells": [
  {
   "attachments": {},
   "cell_type": "markdown",
   "metadata": {},
   "source": [
    "# pg_server___cron_jobs\n",
    "Provides information about cron jobs running in the DB. \n",
    "\n",
    "Cells: \n",
    "- Configure: Connect to a specfic DB\n",
    "- Current size of each table: in KB, dead rows, bloat, data size, all indexes size,  "
   ]
  },
  {
   "cell_type": "code",
   "execution_count": 16,
   "metadata": {},
   "outputs": [
    {
     "name": "stdout",
     "output_type": "stream",
     "text": [
      "Opened Connection\n"
     ]
    }
   ],
   "source": [
    "import sqlalchemy\n",
    "import pandas as pd\n",
    "import configparser\n",
    "import matplotlib.pyplot as plt \n",
    "from IPython.display import HTML\n",
    "\n",
    "# Read from the Config file\n",
    "config = configparser.ConfigParser() \n",
    "# As long as the notebook in the \"Notebooks_Drafts\" folder, use r'../../ipynb.cfg'\n",
    "config.read_file(open(r'../../ipynb.cfg'))\n",
    "\n",
    "con_str = config.get('con_str', 'PG_AIRBASES') \n",
    "engine = sqlalchemy.create_engine(con_str)\n",
    "\n",
    "try:\n",
    "    connection = engine.connect()\n",
    "    print (\"Opened Connection\")\n",
    "except (Exception, sqlalchemy.exc.SQLAlchemyError) as error:\n",
    "    print(\"Error while connecting to PostgreSQL database:\", error)\n"
   ]
  },
  {
   "cell_type": "markdown",
   "metadata": {},
   "source": [
    "## Configuration\n",
    "View the configurations related to the cron jobs in the current DB"
   ]
  },
  {
   "cell_type": "code",
   "execution_count": 5,
   "metadata": {},
   "outputs": [
    {
     "data": {
      "text/html": [
       "<div>\n",
       "<style scoped>\n",
       "    .dataframe tbody tr th:only-of-type {\n",
       "        vertical-align: middle;\n",
       "    }\n",
       "\n",
       "    .dataframe tbody tr th {\n",
       "        vertical-align: top;\n",
       "    }\n",
       "\n",
       "    .dataframe thead th {\n",
       "        text-align: right;\n",
       "    }\n",
       "</style>\n",
       "<table border=\"1\" class=\"dataframe\">\n",
       "  <thead>\n",
       "    <tr style=\"text-align: right;\">\n",
       "      <th></th>\n",
       "      <th>name</th>\n",
       "      <th>setting</th>\n",
       "      <th>short_desc</th>\n",
       "      <th>extra_desc</th>\n",
       "      <th>source</th>\n",
       "      <th>min_val</th>\n",
       "      <th>max_val</th>\n",
       "    </tr>\n",
       "  </thead>\n",
       "  <tbody>\n",
       "    <tr>\n",
       "      <th>0</th>\n",
       "      <td>cron.database_name</td>\n",
       "      <td>airbases</td>\n",
       "      <td>Database in which pg_cron metadata is kept.</td>\n",
       "      <td>None</td>\n",
       "      <td>configuration file</td>\n",
       "      <td>None</td>\n",
       "      <td>None</td>\n",
       "    </tr>\n",
       "    <tr>\n",
       "      <th>1</th>\n",
       "      <td>cron.enable_superuser_jobs</td>\n",
       "      <td>on</td>\n",
       "      <td>Allow jobs to be scheduled as superuser</td>\n",
       "      <td>None</td>\n",
       "      <td>default</td>\n",
       "      <td>None</td>\n",
       "      <td>None</td>\n",
       "    </tr>\n",
       "    <tr>\n",
       "      <th>2</th>\n",
       "      <td>cron.host</td>\n",
       "      <td>localhost</td>\n",
       "      <td>Hostname to connect to postgres.</td>\n",
       "      <td>This setting has no effect when background wor...</td>\n",
       "      <td>default</td>\n",
       "      <td>None</td>\n",
       "      <td>None</td>\n",
       "    </tr>\n",
       "    <tr>\n",
       "      <th>3</th>\n",
       "      <td>cron.log_min_messages</td>\n",
       "      <td>warning</td>\n",
       "      <td>log_min_messages for the launcher bgworker.</td>\n",
       "      <td>None</td>\n",
       "      <td>configuration file</td>\n",
       "      <td>None</td>\n",
       "      <td>None</td>\n",
       "    </tr>\n",
       "    <tr>\n",
       "      <th>4</th>\n",
       "      <td>cron.log_run</td>\n",
       "      <td>on</td>\n",
       "      <td>Log all jobs runs into the job_run_details table</td>\n",
       "      <td>None</td>\n",
       "      <td>configuration file</td>\n",
       "      <td>None</td>\n",
       "      <td>None</td>\n",
       "    </tr>\n",
       "    <tr>\n",
       "      <th>5</th>\n",
       "      <td>cron.log_statement</td>\n",
       "      <td>on</td>\n",
       "      <td>Log all cron statements prior to execution.</td>\n",
       "      <td>None</td>\n",
       "      <td>configuration file</td>\n",
       "      <td>None</td>\n",
       "      <td>None</td>\n",
       "    </tr>\n",
       "    <tr>\n",
       "      <th>6</th>\n",
       "      <td>cron.max_running_jobs</td>\n",
       "      <td>1</td>\n",
       "      <td>Maximum number of jobs that can run concurrently.</td>\n",
       "      <td>None</td>\n",
       "      <td>configuration file</td>\n",
       "      <td>0</td>\n",
       "      <td>7</td>\n",
       "    </tr>\n",
       "    <tr>\n",
       "      <th>7</th>\n",
       "      <td>cron.use_background_workers</td>\n",
       "      <td>on</td>\n",
       "      <td>Use background workers instead of client sessi...</td>\n",
       "      <td>None</td>\n",
       "      <td>configuration file</td>\n",
       "      <td>None</td>\n",
       "      <td>None</td>\n",
       "    </tr>\n",
       "  </tbody>\n",
       "</table>\n",
       "</div>"
      ],
      "text/plain": [
       "                          name    setting  \\\n",
       "0           cron.database_name   airbases   \n",
       "1   cron.enable_superuser_jobs         on   \n",
       "2                    cron.host  localhost   \n",
       "3        cron.log_min_messages    warning   \n",
       "4                 cron.log_run         on   \n",
       "5           cron.log_statement         on   \n",
       "6        cron.max_running_jobs          1   \n",
       "7  cron.use_background_workers         on   \n",
       "\n",
       "                                          short_desc  \\\n",
       "0        Database in which pg_cron metadata is kept.   \n",
       "1            Allow jobs to be scheduled as superuser   \n",
       "2                   Hostname to connect to postgres.   \n",
       "3        log_min_messages for the launcher bgworker.   \n",
       "4   Log all jobs runs into the job_run_details table   \n",
       "5        Log all cron statements prior to execution.   \n",
       "6  Maximum number of jobs that can run concurrently.   \n",
       "7  Use background workers instead of client sessi...   \n",
       "\n",
       "                                          extra_desc              source  \\\n",
       "0                                               None  configuration file   \n",
       "1                                               None             default   \n",
       "2  This setting has no effect when background wor...             default   \n",
       "3                                               None  configuration file   \n",
       "4                                               None  configuration file   \n",
       "5                                               None  configuration file   \n",
       "6                                               None  configuration file   \n",
       "7                                               None  configuration file   \n",
       "\n",
       "  min_val max_val  \n",
       "0    None    None  \n",
       "1    None    None  \n",
       "2    None    None  \n",
       "3    None    None  \n",
       "4    None    None  \n",
       "5    None    None  \n",
       "6       0       7  \n",
       "7    None    None  "
      ]
     },
     "execution_count": 5,
     "metadata": {},
     "output_type": "execute_result"
    }
   ],
   "source": [
    "qry_cron_configuration = \"\"\"\n",
    "-- Cron Jobs\n",
    "SELECT name, setting, short_desc, extra_desc, source, min_val, max_val\n",
    "FROM pg_settings \n",
    "WHERE name like '%%cron%%' \n",
    "\"\"\"\n",
    "df = pd.read_sql_query(qry_cron_configuration, connection)\n",
    "df\n"
   ]
  },
  {
   "cell_type": "markdown",
   "metadata": {},
   "source": [
    "## Number of jobs and size of the history table"
   ]
  },
  {
   "cell_type": "code",
   "execution_count": 20,
   "metadata": {},
   "outputs": [
    {
     "data": {
      "text/html": [
       "<div>\n",
       "<style scoped>\n",
       "    .dataframe tbody tr th:only-of-type {\n",
       "        vertical-align: middle;\n",
       "    }\n",
       "\n",
       "    .dataframe tbody tr th {\n",
       "        vertical-align: top;\n",
       "    }\n",
       "\n",
       "    .dataframe thead th {\n",
       "        text-align: right;\n",
       "    }\n",
       "</style>\n",
       "<table border=\"1\" class=\"dataframe\">\n",
       "  <thead>\n",
       "    <tr style=\"text-align: right;\">\n",
       "      <th></th>\n",
       "      <th>count_jobs</th>\n",
       "      <th>count_history_rows</th>\n",
       "      <th>oldest_job_history</th>\n",
       "      <th>oldest_job_history_str</th>\n",
       "      <th>newest_job_history</th>\n",
       "    </tr>\n",
       "  </thead>\n",
       "  <tbody>\n",
       "    <tr>\n",
       "      <th>0</th>\n",
       "      <td>6</td>\n",
       "      <td>114106</td>\n",
       "      <td>2023-05-21 15:30:00.068394+00:00</td>\n",
       "      <td>105 days 06:00:58.744481</td>\n",
       "      <td>2023-09-03 21:32:00.085105+00:00</td>\n",
       "    </tr>\n",
       "  </tbody>\n",
       "</table>\n",
       "</div>"
      ],
      "text/plain": [
       "   count_jobs  count_history_rows               oldest_job_history  \\\n",
       "0           6              114106 2023-05-21 15:30:00.068394+00:00   \n",
       "\n",
       "    oldest_job_history_str               newest_job_history  \n",
       "0 105 days 06:00:58.744481 2023-09-03 21:32:00.085105+00:00  "
      ]
     },
     "execution_count": 20,
     "metadata": {},
     "output_type": "execute_result"
    }
   ],
   "source": [
    "qry_jobs_tables_stats = \"\"\" \n",
    "SELECT \n",
    "\tmin(j.count_jobs) as count_jobs, \n",
    "\tcount(jobid) as count_history_rows, \n",
    "  min(start_time) as oldest_job_history,\n",
    "  now() -  min(start_time) as oldest_job_history_str,\n",
    "  max(start_time) as newest_job_history\n",
    "FROM cron.job_run_details AS rd\n",
    "cross join ( SELECT count(*) as count_jobs\n",
    "from cron.job) as j \"\"\" \n",
    "df = pd.read_sql_query(qry_jobs_tables_stats, connection)\n",
    "df \n",
    "\n"
   ]
  },
  {
   "cell_type": "markdown",
   "metadata": {},
   "source": [
    "## Analyze the size of the job_run_details\n",
    "If the value is higher than 10,000 (feel free to select any other value) then you should run a daily job to delete data older than 7 days (or any other history length)\n",
    "\n",
    "TODO: write here the command: "
   ]
  },
  {
   "cell_type": "code",
   "execution_count": 19,
   "metadata": {},
   "outputs": [
    {
     "data": {
      "text/html": [
       "<font color='red'>The value of count_history_rows (114103) is higher than 10000</font>"
      ],
      "text/plain": [
       "<IPython.core.display.HTML object>"
      ]
     },
     "metadata": {},
     "output_type": "display_data"
    }
   ],
   "source": [
    "# Find the value of the 'count_history_rows' column\n",
    "value = df['count_history_rows'].iloc[0]\n",
    "\n",
    "# Check if the value is higher than 10000 and display it in red if true\n",
    "if value > 10000:\n",
    "    message = f\"<font color='red'>The value of count_history_rows ({value}) is higher than 10000</font>\"\n",
    "else:\n",
    "    message = f\"The value of count_history_rows ({value}) is within the allowed limit.\"\n",
    "\n",
    "# Display the message with HTML formatting\n",
    "display(HTML(message))"
   ]
  },
  {
   "cell_type": "markdown",
   "metadata": {},
   "source": [
    "## Testing Mini series\n",
    "Aug 21 - test failed. Can't show it all in one object. "
   ]
  },
  {
   "cell_type": "code",
   "execution_count": 5,
   "metadata": {},
   "outputs": [
    {
     "data": {
      "image/png": "[encoded data removed]",
      "text/plain": [
       "<Figure size 1000x800 with 5 Axes>"
      ]
     },
     "metadata": {},
     "output_type": "display_data"
    }
   ],
   "source": [
    "import pandas as pd\n",
    "import random\n",
    "from datetime import datetime, timedelta\n",
    "import matplotlib.pyplot as plt\n",
    "from matplotlib.gridspec import GridSpec\n",
    "\n",
    "# Create empty DataFrame\n",
    "data = {\n",
    "    'product_name': [],\n",
    "    'orderdate': [],\n",
    "    'order_amount': []\n",
    "}\n",
    "\n",
    "# List of products\n",
    "products = ['Product A', 'Product B', 'Product C', 'Product D', 'Product E']\n",
    "\n",
    "# Generate 10 random dates for each product\n",
    "for product in products:\n",
    "    for _ in range(10):\n",
    "        random_date = datetime(2023, random.randint(1, 12), random.randint(1, 28))\n",
    "        data['product_name'].append(product)\n",
    "        data['orderdate'].append(random_date)\n",
    "        data['order_amount'].append(random.randint(100, 1000))\n",
    "\n",
    "# Create DataFrame\n",
    "df = pd.DataFrame(data)\n",
    "\n",
    "# Print the DataFrame\n",
    "# print(df)\n",
    "# Create subplots for each product\n",
    "fig = plt.figure(figsize=(10, 8))\n",
    "gs = GridSpec(5, 1, figure=fig)\n",
    "\n",
    "for i, product in enumerate(products):\n",
    "    ax = fig.add_subplot(gs[i, 0])\n",
    "    product_data = df[df['product_name'] == product]\n",
    "    ax.bar(product_data['orderdate'], product_data['order_amount'])\n",
    "    ax.set_title(product)\n",
    "    ax.set_xlabel('Order Date')\n",
    "    ax.set_ylabel('Order Amount')\n",
    "\n",
    "plt.tight_layout()\n",
    "plt.show()"
   ]
  },
  {
   "cell_type": "markdown",
   "metadata": {},
   "source": [
    "More tests\n"
   ]
  },
  {
   "cell_type": "code",
   "execution_count": 6,
   "metadata": {},
   "outputs": [
    {
     "name": "stdout",
     "output_type": "stream",
     "text": [
      "    snapshot_id         insert_date db_name  rows_read\n",
      "0             1 2023-01-01 10:00:00    db_1       5000\n",
      "1             2 2023-01-01 10:01:00    db_1       5090\n",
      "2             3 2023-01-01 10:02:00    db_1       5180\n",
      "3             4 2023-01-01 10:03:00    db_1       5270\n",
      "4             5 2023-01-01 10:04:00    db_1       5360\n",
      "..          ...                 ...     ...        ...\n",
      "95           96 2023-01-01 11:35:00    db_1      13550\n",
      "96           97 2023-01-01 11:36:00    db_1      13640\n",
      "97           98 2023-01-01 11:37:00    db_1      13730\n",
      "98           99 2023-01-01 11:38:00    db_1      13820\n",
      "99          100 2023-01-01 11:39:00    db_1      13910\n",
      "\n",
      "[100 rows x 4 columns]\n",
      "    snapshot_id         insert_date db_name  rows_read  rows_read_diff\n",
      "0             1 2023-01-01 10:00:00    db_1       5000             NaN\n",
      "1             2 2023-01-01 10:01:00    db_1       5090            90.0\n",
      "2             3 2023-01-01 10:02:00    db_1       5180            90.0\n",
      "3             4 2023-01-01 10:03:00    db_1       5270            90.0\n",
      "4             5 2023-01-01 10:04:00    db_1       5360            90.0\n",
      "..          ...                 ...     ...        ...             ...\n",
      "95           96 2023-01-01 11:35:00    db_1      13550            90.0\n",
      "96           97 2023-01-01 11:36:00    db_1      13640            90.0\n",
      "97           98 2023-01-01 11:37:00    db_1      13730            90.0\n",
      "98           99 2023-01-01 11:38:00    db_1      13820            90.0\n",
      "99          100 2023-01-01 11:39:00    db_1      13910            90.0\n",
      "\n",
      "[100 rows x 5 columns]\n"
     ]
    }
   ],
   "source": [
    "import pandas as pd\n",
    "from datetime import datetime, timedelta\n",
    "\n",
    "# Generate data\n",
    "data = {\n",
    "    'snapshot_id': [],\n",
    "    'insert_date': [],\n",
    "    'db_name': [],\n",
    "    'rows_read': []\n",
    "}\n",
    "\n",
    "# Start date and time\n",
    "start_time = datetime(2023, 1, 1, 10, 0)\n",
    "\n",
    "# Generate snapshots\n",
    "for i in range(100):\n",
    "    snapshot_id = i + 1\n",
    "    insert_date = start_time + timedelta(minutes=i)\n",
    "    db_name = 'db_1'\n",
    "    rows_read = 5000 + i * 90  # Increasing rows\n",
    "    \n",
    "    data['snapshot_id'].append(snapshot_id)\n",
    "    data['insert_date'].append(insert_date)\n",
    "    data['db_name'].append(db_name)\n",
    "    data['rows_read'].append(rows_read)\n",
    "\n",
    "# Create DataFrame\n",
    "df = pd.DataFrame(data)\n",
    "\n",
    "# Print the DataFrame\n",
    "print(df)\n",
    "\n",
    "\n",
    "# Calcylate the diff\n",
    "import pandas as pd\n",
    "from datetime import timedelta\n",
    "\n",
    "# Your code to generate the initial DataFrame goes here...\n",
    "\n",
    "# Sort the DataFrame by insert_date\n",
    "df.sort_values('insert_date', inplace=True)\n",
    "\n",
    "# Calculate the diff of rows_read for every minute\n",
    "# The .diff() function is a pandas method that calculates the difference between each value and the previous value in a Series. It returns a new Series where each value is the difference between the corresponding value and the value that came before it.\n",
    "df['rows_read_diff'] = df['rows_read'].diff()\n",
    "\n",
    "# Print the new DataFrame\n",
    "print(df)\n"
   ]
  }
 ],
 "metadata": {
  "kernelspec": {
   "display_name": "Python 3",
   "language": "python",
   "name": "python3"
  },
  "language_info": {
   "codemirror_mode": {
    "name": "ipython",
    "version": 3
   },
   "file_extension": ".py",
   "mimetype": "text/x-python",
   "name": "python",
   "nbconvert_exporter": "python",
   "pygments_lexer": "ipython3",
   "version": "3.10.2"
  },
  "orig_nbformat": 4
 },
 "nbformat": 4,
 "nbformat_minor": 2
}
