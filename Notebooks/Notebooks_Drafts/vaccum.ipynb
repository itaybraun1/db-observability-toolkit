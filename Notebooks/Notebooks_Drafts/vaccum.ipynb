{
 "cells": [
  {
   "attachments": {},
   "cell_type": "markdown",
   "metadata": {},
   "source": [
    "# VACUUM\n",
    "Vacuuming is a necessary aspect of maintaining a healthy and efficient PostgreSQL database. If you have autovacuuming configured, you usually don’t need to think about how and when to execute PostgreSQL VACUUMs at all—the whole process is automatically handled by the database. However, if you are constantly updating or deleting data, vacuuming schedules may not be able to keep up with the pace of those changes. Even worse, vacuum processes may not be running at all, which can lead to a number of side effects that negatively impact database performance and resource usage. Monitoring a few key PostgreSQL metrics and events will help you ensure that vacuum processes are proceeding as expected.\n",
    "\n",
    "Postgres Documentation: https://www.postgresql.org/docs/current/sql-vacuum.html\n",
    "https://commandprompt.com/education/how-to-use-vacuum-command-in-postgresql/\n",
    "https://www.datadoghq.com/blog/postgresql-vacuum-monitoring/ \n"
   ]
  },
  {
   "attachments": {},
   "cell_type": "markdown",
   "metadata": {},
   "source": [
    "# Configuration\n",
    "Open a connection to the DB. Use a Connection String stored in a .cfg file"
   ]
  },
  {
   "cell_type": "code",
   "execution_count": 1,
   "metadata": {},
   "outputs": [],
   "source": [
    "import sqlalchemy\n",
    "import pandas as pd\n",
    "import configparser\n",
    "import matplotlib.pyplot as plt \n",
    "\n",
    "# Read from the Config file\n",
    "config = configparser.ConfigParser() \n",
    "config.read_file(open(r'../ipynb.cfg'))\n",
    "\n",
    "con_str = config.get('con_str', 'PG_AIRBASES') \n",
    "\n",
    "engine = sqlalchemy.create_engine(con_str)\n",
    "\n",
    "# print(\"Connecting with engine \" + str(engine))\n",
    "try:\n",
    "    connection = engine.connect()\n",
    "except (Exception, sqlalchemy.exc.SQLAlchemyError) as error:\n",
    "    print(\"Error while connecting to PostgreSQL database:\", error)\n"
   ]
  },
  {
   "attachments": {},
   "cell_type": "markdown",
   "metadata": {},
   "source": [
    "# Log the duration of the vacuum\n",
    "The command VACUUM must run outside any block or transaction. Therefore we save the start time and end time \n",
    "TODO - process the results to catch the VERBOSE. Apparently it is tricky. See DataDog's solution via PSQL + STDOUT: \n",
    "```dogwrap -n \"Vacuuming my_table\" -k $API_KEY --submit_mode all \"psql -d <DATABASE> -c 'vacuum verbose my_table'\"```\n",
    "https://www.datadoghq.com/blog/postgresql-vacuum-monitoring/"
   ]
  },
  {
   "cell_type": "code",
   "execution_count": 11,
   "metadata": {},
   "outputs": [
    {
     "name": "stdout",
     "output_type": "stream",
     "text": [
      "<sqlalchemy.engine.cursor.LegacyCursorResult object at 0x103c9b5b0>\n"
     ]
    }
   ],
   "source": [
    "\n",
    "query = \"\"\"\n",
    "VACUUM (VERBOSE, ANALYZE, SKIP_LOCKED) postgres_air.booking_leg;\n",
    "\"\"\"\n",
    "result = connection.execute(query, autocommit=True)\n",
    "print (result)\n",
    "\n"
   ]
  },
  {
   "attachments": {},
   "cell_type": "markdown",
   "metadata": {},
   "source": [
    "## Connections\n",
    "Shows: confired max connvection vs actaul active and idle connections\n",
    "TODO: also show how quickly connections are recycled (=> a Proxy is needed). "
   ]
  },
  {
   "attachments": {},
   "cell_type": "markdown",
   "metadata": {},
   "source": [
    "Connections Breakdown by DB"
   ]
  }
 ],
 "metadata": {
  "kernelspec": {
   "display_name": "Python 3",
   "language": "python",
   "name": "python3"
  },
  "language_info": {
   "codemirror_mode": {
    "name": "ipython",
    "version": 3
   },
   "file_extension": ".py",
   "mimetype": "text/x-python",
   "name": "python",
   "nbconvert_exporter": "python",
   "pygments_lexer": "ipython3",
   "version": "3.10.2"
  },
  "orig_nbformat": 4
 },
 "nbformat": 4,
 "nbformat_minor": 2
}
