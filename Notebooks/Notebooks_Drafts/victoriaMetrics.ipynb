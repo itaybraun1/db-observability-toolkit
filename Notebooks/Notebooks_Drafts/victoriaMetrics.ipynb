{
 "cells": [
  {
   "cell_type": "markdown",
   "metadata": {},
   "source": [
    "\n",
    "resources: https://metis1.atlassian.net/l/cp/cKpbcXek"
   ]
  },
  {
   "cell_type": "code",
   "execution_count": 17,
   "metadata": {},
   "outputs": [
    {
     "name": "stdout",
     "output_type": "stream",
     "text": [
      "Metric inserted successfully.\n"
     ]
    }
   ],
   "source": [
    "import requests\n",
    "\n",
    "# VictoriaMetrics URL for importing data (replace with your actual VictoriaMetrics URL)\n",
    "victoria_metrics_url = \"http://localhost:8428/api/v1/import/prometheus\"\n",
    "\n",
    "# Sample metric data in the same format as the curl command\n",
    "metrics_data = 'cpu_utilization{host=\"pg1\"} 66.1'\n",
    "\n",
    "try:\n",
    "    # Send a POST request to insert metrics into VictoriaMetrics\n",
    "    response = requests.post(victoria_metrics_url, data=metrics_data)\n",
    "    \n",
    "    # Check the response status code\n",
    "    if response.status_code == 204:\n",
    "        print(\"Metric inserted successfully.\")\n",
    "    else:\n",
    "        print(f\"Failed to insert metric. Status code: {response.status_code}\")\n",
    "        print(response.text)\n",
    "except Exception as e:\n",
    "    print(f\"An error occurred: {str(e)}\")\n"
   ]
  },
  {
   "cell_type": "markdown",
   "metadata": {},
   "source": [
    "The CURL works. They Python should too. "
   ]
  },
  {
   "cell_type": "code",
   "execution_count": 10,
   "metadata": {},
   "outputs": [
    {
     "name": "stderr",
     "output_type": "stream",
     "text": [
      "  % Total    % Received % Xferd  Average Speed   Time    Time     Time  Current\n",
      "                                 Dload  Upload   Total   Spent    Left  Speed\n",
      "100    32    0     0  100    32      0   2662 --:--:-- --:--:-- --:--:--  4000\n"
     ]
    }
   ],
   "source": [
    "%%bash\n",
    "curl -d 'cpu_utilization{host=\"pg1\"} 66.6' -X POST 'http://localhost:8428/api/v1/import/prometheus'\n"
   ]
  },
  {
   "cell_type": "code",
   "execution_count": 27,
   "metadata": {},
   "outputs": [
    {
     "name": "stderr",
     "output_type": "stream",
     "text": [
      "  % Total    % Received % Xferd  Average Speed   Time    Time     Time  Current\n",
      "                                 Dload  Upload   Total   Spent    Left  Speed\n"
     ]
    },
    {
     "name": "stderr",
     "output_type": "stream",
     "text": [
      "100  1617  100  1617    0     0  33587      0 --:--:-- --:--:-- --:--:-- 36750\n"
     ]
    },
    {
     "name": "stdout",
     "output_type": "stream",
     "text": [
      "{\"metric\":{\"__name__\":\"cpu_utilization\",\"host\":\"pg4\"},\"values\":[46.48,80.63,78.69,44.1,65.5,17.2],\"timestamps\":[1695234188306,1695234295250,1695234300387,1695234305561,1695234310744,1695234315923]}\n",
      "{\"metric\":{\"__name__\":\"cpu_utilization\",\"host\":\"pg5\"},\"values\":[93.1,27.45,67.33,20.05,68.17,70.72],\"timestamps\":[1695234188323,1695234295266,1695234300410,1695234305592,1695234310762,1695234315956]}\n",
      "{\"metric\":{\"__name__\":\"cpu_utilization\",\"host\":\"pg2\"},\"values\":[72.3,72.3,72.3,82.6,80.6,74.72,68.13,55.24,16.01,1.36],\"timestamps\":[1695226304525,1695226370810,1695226483447,1695234088873,1695234188269,1695234295219,1695234300340,1695234305490,1695234310709,1695234315866]}\n",
      "{\"metric\":{\"__name__\":\"cpu_utilization\",\"host\":\"pg3\"},\"values\":[36.13,16.56,80.39,33.67,37.45,37.89],\"timestamps\":[1695234188283,1695234295234,1695234300366,1695234305525,1695234310729,1695234315895]}\n",
      "{\"metric\":{\"__name__\":\"cpu_utilization\",\"host\":\"pg1\"},\"values\":[88.5,84.4,77.5,77.5,77.5,77.5,84.4,84.4,66.6,66.2,66.1,66.1,66.1,55.5,66.1,66.1,64.1,78.17,30.85,40.42,66.8,23.82,7.28,52.21],\"timestamps\":[1695220333207,1695223958734,1695225254658,1695225352111,1695225383608,1695225472763,1695225648880,1695225752794,1695225861605,1695225875572,1695225994375,1695226032058,1695226037353,1695226186733,1695226304506,1695226370767,1695226483420,1695234088846,1695234188236,1695234295190,1695234300308,1695234305449,1695234310671,1695234315818]}\n",
      "{\"metric\":{\"__name__\":\"cpu_utilization\",\"host\":\"pg6\"},\"values\":[24.09,36.85,50.45,18.09,61.95,45.56],\"timestamps\":[1695234188339,1695234295282,1695234300424,1695234305633,1695234310781,1695234315979]}\n"
     ]
    }
   ],
   "source": [
    "%%bash\n",
    "curl -G 'http://localhost:8428/api/v1/export' -d 'match={__name__=~\"cpu_utilization\"}'"
   ]
  },
  {
   "cell_type": "markdown",
   "metadata": {},
   "source": [
    "Trying to insert many rows. \n",
    "That works. Checked with the command ```curl -G 'http://localhost:8428/api/v1/export' -d 'match={__name__=~\"cpu_utilization\"}'```\n",
    "\n"
   ]
  },
  {
   "cell_type": "markdown",
   "metadata": {},
   "source": [
    "Insert data every 5 seconds. 5 metrics for 6 PG servers (hosts)"
   ]
  },
  {
   "cell_type": "code",
   "execution_count": 26,
   "metadata": {},
   "outputs": [
    {
     "name": "stdout",
     "output_type": "stream",
     "text": [
      "Metric inserted successfully: cpu_utilization{host=\"pg1\"} 40.42\n",
      "Metric inserted successfully: free_memory{host=\"pg1\"} 67.07\n",
      "Metric inserted successfully: io_read{host=\"pg1\"} 92.11\n",
      "Metric inserted successfully: io_write{host=\"pg1\"} 20.76\n",
      "Metric inserted successfully: db_load{host=\"pg1\"} 90.14\n",
      "Metric inserted successfully: cpu_utilization{host=\"pg2\"} 74.72\n",
      "Metric inserted successfully: free_memory{host=\"pg2\"} 14.22\n",
      "Metric inserted successfully: io_read{host=\"pg2\"} 25.15\n",
      "Metric inserted successfully: io_write{host=\"pg2\"} 53.93\n",
      "Metric inserted successfully: db_load{host=\"pg2\"} 47.96\n",
      "Metric inserted successfully: cpu_utilization{host=\"pg3\"} 16.56\n",
      "Metric inserted successfully: free_memory{host=\"pg3\"} 83.81\n",
      "Metric inserted successfully: io_read{host=\"pg3\"} 0.69\n",
      "Metric inserted successfully: io_write{host=\"pg3\"} 65.71\n",
      "Metric inserted successfully: db_load{host=\"pg3\"} 62.54\n",
      "Metric inserted successfully: cpu_utilization{host=\"pg4\"} 80.63\n",
      "Metric inserted successfully: free_memory{host=\"pg4\"} 1.57\n",
      "Metric inserted successfully: io_read{host=\"pg4\"} 23.62\n",
      "Metric inserted successfully: io_write{host=\"pg4\"} 2.47\n",
      "Metric inserted successfully: db_load{host=\"pg4\"} 68.36\n",
      "Metric inserted successfully: cpu_utilization{host=\"pg5\"} 27.45\n",
      "Metric inserted successfully: free_memory{host=\"pg5\"} 69.40\n",
      "Metric inserted successfully: io_read{host=\"pg5\"} 34.53\n",
      "Metric inserted successfully: io_write{host=\"pg5\"} 59.24\n",
      "Metric inserted successfully: db_load{host=\"pg5\"} 38.23\n",
      "Metric inserted successfully: cpu_utilization{host=\"pg6\"} 36.85\n",
      "Metric inserted successfully: free_memory{host=\"pg6\"} 44.13\n",
      "Metric inserted successfully: io_read{host=\"pg6\"} 13.65\n",
      "Metric inserted successfully: io_write{host=\"pg6\"} 40.65\n",
      "Metric inserted successfully: db_load{host=\"pg6\"} 97.93\n",
      "Time taken to send data: 0.12 seconds\n",
      "Metric inserted successfully: cpu_utilization{host=\"pg1\"} 66.80\n",
      "Metric inserted successfully: free_memory{host=\"pg1\"} 35.11\n",
      "Metric inserted successfully: io_read{host=\"pg1\"} 74.29\n",
      "Metric inserted successfully: io_write{host=\"pg1\"} 25.10\n",
      "Metric inserted successfully: db_load{host=\"pg1\"} 9.74\n",
      "Metric inserted successfully: cpu_utilization{host=\"pg2\"} 68.13\n",
      "Metric inserted successfully: free_memory{host=\"pg2\"} 10.01\n",
      "Metric inserted successfully: io_read{host=\"pg2\"} 98.87\n",
      "Metric inserted successfully: io_write{host=\"pg2\"} 91.35\n",
      "Metric inserted successfully: db_load{host=\"pg2\"} 52.58\n",
      "Metric inserted successfully: cpu_utilization{host=\"pg3\"} 80.39\n",
      "Metric inserted successfully: free_memory{host=\"pg3\"} 44.95\n",
      "Metric inserted successfully: io_read{host=\"pg3\"} 75.91\n",
      "Metric inserted successfully: io_write{host=\"pg3\"} 75.53\n",
      "Metric inserted successfully: db_load{host=\"pg3\"} 10.32\n",
      "Metric inserted successfully: cpu_utilization{host=\"pg4\"} 78.69\n",
      "Metric inserted successfully: free_memory{host=\"pg4\"} 35.54\n",
      "Metric inserted successfully: io_read{host=\"pg4\"} 57.16\n",
      "Metric inserted successfully: io_write{host=\"pg4\"} 33.27\n",
      "Metric inserted successfully: db_load{host=\"pg4\"} 50.80\n",
      "Metric inserted successfully: cpu_utilization{host=\"pg5\"} 67.33\n",
      "Metric inserted successfully: free_memory{host=\"pg5\"} 2.06\n",
      "Metric inserted successfully: io_read{host=\"pg5\"} 18.47\n",
      "Metric inserted successfully: io_write{host=\"pg5\"} 11.73\n",
      "Metric inserted successfully: db_load{host=\"pg5\"} 52.81\n",
      "Metric inserted successfully: cpu_utilization{host=\"pg6\"} 50.45\n",
      "Metric inserted successfully: free_memory{host=\"pg6\"} 17.80\n",
      "Metric inserted successfully: io_read{host=\"pg6\"} 94.49\n",
      "Metric inserted successfully: io_write{host=\"pg6\"} 44.34\n",
      "Metric inserted successfully: db_load{host=\"pg6\"} 65.50\n",
      "Time taken to send data: 0.14 seconds\n",
      "Metric inserted successfully: cpu_utilization{host=\"pg1\"} 23.82\n",
      "Metric inserted successfully: free_memory{host=\"pg1\"} 32.33\n",
      "Metric inserted successfully: io_read{host=\"pg1\"} 31.20\n",
      "Metric inserted successfully: io_write{host=\"pg1\"} 30.22\n",
      "Metric inserted successfully: db_load{host=\"pg1\"} 35.42\n",
      "Metric inserted successfully: cpu_utilization{host=\"pg2\"} 55.24\n",
      "Metric inserted successfully: free_memory{host=\"pg2\"} 60.00\n",
      "Metric inserted successfully: io_read{host=\"pg2\"} 48.99\n",
      "Metric inserted successfully: io_write{host=\"pg2\"} 34.02\n",
      "Metric inserted successfully: db_load{host=\"pg2\"} 34.25\n",
      "Metric inserted successfully: cpu_utilization{host=\"pg3\"} 33.67\n",
      "Metric inserted successfully: free_memory{host=\"pg3\"} 15.11\n",
      "Metric inserted successfully: io_read{host=\"pg3\"} 68.06\n",
      "Metric inserted successfully: io_write{host=\"pg3\"} 4.67\n",
      "Metric inserted successfully: db_load{host=\"pg3\"} 1.81\n",
      "Metric inserted successfully: cpu_utilization{host=\"pg4\"} 44.10\n",
      "Metric inserted successfully: free_memory{host=\"pg4\"} 84.13\n",
      "Metric inserted successfully: io_read{host=\"pg4\"} 97.84\n",
      "Metric inserted successfully: io_write{host=\"pg4\"} 82.23\n",
      "Metric inserted successfully: db_load{host=\"pg4\"} 24.98\n",
      "Metric inserted successfully: cpu_utilization{host=\"pg5\"} 20.05\n",
      "Metric inserted successfully: free_memory{host=\"pg5\"} 98.74\n",
      "Metric inserted successfully: io_read{host=\"pg5\"} 84.57\n",
      "Metric inserted successfully: io_write{host=\"pg5\"} 82.67\n",
      "Metric inserted successfully: db_load{host=\"pg5\"} 2.81\n",
      "Metric inserted successfully: cpu_utilization{host=\"pg6\"} 18.09\n",
      "Metric inserted successfully: free_memory{host=\"pg6\"} 95.53\n",
      "Metric inserted successfully: io_read{host=\"pg6\"} 87.34\n",
      "Metric inserted successfully: io_write{host=\"pg6\"} 63.84\n",
      "Metric inserted successfully: db_load{host=\"pg6\"} 93.73\n",
      "Time taken to send data: 0.22 seconds\n",
      "Metric inserted successfully: cpu_utilization{host=\"pg1\"} 7.28\n",
      "Metric inserted successfully: free_memory{host=\"pg1\"} 73.94\n",
      "Metric inserted successfully: io_read{host=\"pg1\"} 29.72\n",
      "Metric inserted successfully: io_write{host=\"pg1\"} 1.91\n",
      "Metric inserted successfully: db_load{host=\"pg1\"} 35.18\n",
      "Metric inserted successfully: cpu_utilization{host=\"pg2\"} 16.01\n",
      "Metric inserted successfully: free_memory{host=\"pg2\"} 93.50\n",
      "Metric inserted successfully: io_read{host=\"pg2\"} 58.00\n",
      "Metric inserted successfully: io_write{host=\"pg2\"} 72.09\n",
      "Metric inserted successfully: db_load{host=\"pg2\"} 15.85\n",
      "Metric inserted successfully: cpu_utilization{host=\"pg3\"} 37.45\n",
      "Metric inserted successfully: free_memory{host=\"pg3\"} 45.73\n",
      "Metric inserted successfully: io_read{host=\"pg3\"} 43.87\n",
      "Metric inserted successfully: io_write{host=\"pg3\"} 30.75\n",
      "Metric inserted successfully: db_load{host=\"pg3\"} 92.01\n",
      "Metric inserted successfully: cpu_utilization{host=\"pg4\"} 65.50\n",
      "Metric inserted successfully: free_memory{host=\"pg4\"} 75.81\n",
      "Metric inserted successfully: io_read{host=\"pg4\"} 41.64\n",
      "Metric inserted successfully: io_write{host=\"pg4\"} 73.16\n",
      "Metric inserted successfully: db_load{host=\"pg4\"} 85.28\n",
      "Metric inserted successfully: cpu_utilization{host=\"pg5\"} 68.17\n",
      "Metric inserted successfully: free_memory{host=\"pg5\"} 6.25\n",
      "Metric inserted successfully: io_read{host=\"pg5\"} 22.78\n",
      "Metric inserted successfully: io_write{host=\"pg5\"} 86.56\n",
      "Metric inserted successfully: db_load{host=\"pg5\"} 69.95\n",
      "Metric inserted successfully: cpu_utilization{host=\"pg6\"} 61.95\n",
      "Metric inserted successfully: free_memory{host=\"pg6\"} 24.56\n",
      "Metric inserted successfully: io_read{host=\"pg6\"} 57.10\n",
      "Metric inserted successfully: io_write{host=\"pg6\"} 26.53\n",
      "Metric inserted successfully: db_load{host=\"pg6\"} 2.99\n",
      "Time taken to send data: 0.14 seconds\n",
      "Metric inserted successfully: cpu_utilization{host=\"pg1\"} 52.21\n",
      "Metric inserted successfully: free_memory{host=\"pg1\"} 33.21\n",
      "Metric inserted successfully: io_read{host=\"pg1\"} 17.46\n",
      "Metric inserted successfully: io_write{host=\"pg1\"} 98.57\n",
      "Metric inserted successfully: db_load{host=\"pg1\"} 54.74\n",
      "Metric inserted successfully: cpu_utilization{host=\"pg2\"} 1.36\n",
      "Metric inserted successfully: free_memory{host=\"pg2\"} 69.35\n",
      "Metric inserted successfully: io_read{host=\"pg2\"} 17.01\n",
      "Metric inserted successfully: io_write{host=\"pg2\"} 63.72\n",
      "Metric inserted successfully: db_load{host=\"pg2\"} 47.70\n",
      "Metric inserted successfully: cpu_utilization{host=\"pg3\"} 37.89\n",
      "Metric inserted successfully: free_memory{host=\"pg3\"} 34.20\n",
      "Metric inserted successfully: io_read{host=\"pg3\"} 0.57\n",
      "Metric inserted successfully: io_write{host=\"pg3\"} 20.51\n",
      "Metric inserted successfully: db_load{host=\"pg3\"} 19.48\n",
      "Metric inserted successfully: cpu_utilization{host=\"pg4\"} 17.20\n",
      "Metric inserted successfully: free_memory{host=\"pg4\"} 49.96\n",
      "Metric inserted successfully: io_read{host=\"pg4\"} 87.40\n",
      "Metric inserted successfully: io_write{host=\"pg4\"} 90.98\n",
      "Metric inserted successfully: db_load{host=\"pg4\"} 94.50\n",
      "Metric inserted successfully: cpu_utilization{host=\"pg5\"} 70.72\n",
      "Metric inserted successfully: free_memory{host=\"pg5\"} 85.04\n",
      "Metric inserted successfully: io_read{host=\"pg5\"} 45.86\n",
      "Metric inserted successfully: io_write{host=\"pg5\"} 84.59\n",
      "Metric inserted successfully: db_load{host=\"pg5\"} 13.20\n",
      "Metric inserted successfully: cpu_utilization{host=\"pg6\"} 45.56\n",
      "Metric inserted successfully: free_memory{host=\"pg6\"} 88.60\n",
      "Metric inserted successfully: io_read{host=\"pg6\"} 94.77\n",
      "Metric inserted successfully: io_write{host=\"pg6\"} 77.97\n",
      "Metric inserted successfully: db_load{host=\"pg6\"} 62.69\n",
      "Time taken to send data: 0.20 seconds\n"
     ]
    }
   ],
   "source": [
    "import requests\n",
    "import time\n",
    "import random\n",
    "\n",
    "# VictoriaMetrics URL for importing data (replace with your actual VictoriaMetrics URL)\n",
    "victoria_metrics_url = \"http://localhost:8428/api/v1/import/prometheus\"\n",
    "\n",
    "# Define metric names and labels\n",
    "metric_names = ['cpu_utilization', 'free_memory', 'io_read', 'io_write', 'db_load']\n",
    "hosts = ['pg1', 'pg2', 'pg3', 'pg4', 'pg5', 'pg6']  # Add four more hosts\n",
    "\n",
    "try:\n",
    "    for _ in range(5):  # Insert data 5 times\n",
    "        start_time = time.time()  # Record the start time\n",
    "    \n",
    "        for host in hosts:\n",
    "            for metric_name in metric_names:\n",
    "                # Generate a random value between 0 and 100 for the metric\n",
    "                metric_value = random.uniform(0, 100)\n",
    "                \n",
    "                # Create the metric string with random value and host label\n",
    "                metric = f'{metric_name}{{host=\"{host}\"}} {metric_value:.2f}'\n",
    "                \n",
    "                # Send a POST request to insert the metric into VictoriaMetrics\n",
    "                response = requests.post(victoria_metrics_url, data=metric)\n",
    "\n",
    "                # Check the response status code\n",
    "                if response.status_code == 204:\n",
    "                    print(f\"Metric inserted successfully: {metric}\")\n",
    "                else:\n",
    "                    print(f\"Failed to insert metric: {metric}. Status code: {response.status_code}\")\n",
    "                    print(response.text)\n",
    "        \n",
    "        end_time = time.time()  # Record the end time\n",
    "        \n",
    "        # Calculate and print the time difference\n",
    "        time_difference = end_time - start_time\n",
    "        print(f\"Time taken to send data: {time_difference:.2f} seconds\")\n",
    "\n",
    "        # Wait for 5 seconds before the next iteration\n",
    "        time.sleep(5)\n",
    "except Exception as e:\n",
    "    print(f\"An error occurred: {str(e)}\")\n"
   ]
  },
  {
   "cell_type": "markdown",
   "metadata": {},
   "source": [
    "Insert many rows to test Counter metric"
   ]
  },
  {
   "cell_type": "code",
   "execution_count": null,
   "metadata": {},
   "outputs": [],
   "source": []
  },
  {
   "cell_type": "code",
   "execution_count": 33,
   "metadata": {},
   "outputs": [
    {
     "name": "stdout",
     "output_type": "stream",
     "text": [
      "{\"status\":\"success\",\"data\":{\"resultType\":\"matrix\",\"result\":[]},\"stats\":{\"seriesFetched\": \"0\"}}\n"
     ]
    }
   ],
   "source": [
    "import requests\n",
    "import datetime\n",
    "\n",
    "# VictoriaMetrics URL for querying data (replace with your actual VictoriaMetrics URL)\n",
    "victoria_metrics_url = \"http://localhost:8428/api/v1/query\"\n",
    "\n",
    "# Define the query to retrieve \"rows_read\" metric values for the last 24 hours\n",
    "query = 'rows_read{host=\"pg1\",db=\"db1\"}'\n",
    "\n",
    "# Calculate the start time as 24 hours ago from the current time\n",
    "end_time = datetime.datetime.now()\n",
    "start_time = end_time - datetime.timedelta(hours=24)\n",
    "\n",
    "# Convert the start and end times to Unix timestamps (in milliseconds)\n",
    "start_timestamp = int(start_time.timestamp()) * 1000\n",
    "end_timestamp = int(end_time.timestamp()) * 1000\n",
    "\n",
    "# Define the time range in the query\n",
    "query += f'[{start_timestamp}:{end_timestamp}]'\n",
    "\n",
    "try:\n",
    "    # Send a GET request to query the metric from VictoriaMetrics\n",
    "    response = requests.get(victoria_metrics_url, params={'query': query})\n",
    "\n",
    "    # Print the full response content\n",
    "    print(response.text)\n",
    "    \n",
    "    # Check the response status code\n",
    "    if response.status_code != 200:\n",
    "        print(f\"Failed to query metric. Status code: {response.status_code}\")\n",
    "except Exception as e:\n",
    "    print(f\"An error occurred: {str(e)}\")\n"
   ]
  },
  {
   "cell_type": "markdown",
   "metadata": {},
   "source": [
    "Insert 5 data points for the metric rows_read. \n",
    "Notice!! We still need to learn how to send the original time, captured when fetching the dataset. "
   ]
  },
  {
   "cell_type": "code",
   "execution_count": null,
   "metadata": {},
   "outputs": [],
   "source": [
    "\n",
    "%%bash \n",
    "curl -d 'rows_read{host=\"pg1\",db=\"db1\"} 10000' -X POST 'http://localhost:8428/api/v1/import/prometheus'\n",
    "sleep 5  # Wait for 5 seconds before the next run\n",
    "curl -d 'rows_read{host=\"pg1\",db=\"db1\"} 12000' -X POST 'http://localhost:8428/api/v1/import/prometheus' \n",
    "sleep 5  \n",
    " curl -d 'rows_read{host=\"pg1\",db=\"db1\"} 13000' -X POST 'http://localhost:8428/api/v1/import/prometheus' \n",
    "sleep 5  \n",
    "curl -d 'rows_read{host=\"pg1\",db=\"db1\"} 13000' -X POST 'http://localhost:8428/api/v1/import/prometheus'  \n",
    "sleep 5\n",
    "curl -d 'rows_read{host=\"pg1\",db=\"db1\"} 13000' -X POST 'http://localhost:8428/api/v1/import/prometheus' \n",
    "sleep 5\n",
    "curl -d 'rows_read{host=\"pg1\",db=\"db1\"} 17000' -X POST 'http://localhost:8428/api/v1/import/prometheus'  "
   ]
  },
  {
   "cell_type": "markdown",
   "metadata": {},
   "source": [
    "Query the data using the function ```increase```. You might need to change the time"
   ]
  },
  {
   "cell_type": "code",
   "execution_count": 34,
   "metadata": {},
   "outputs": [
    {
     "name": "stderr",
     "output_type": "stream",
     "text": [
      "  % Total    % Received % Xferd  Average Speed   Time    Time     Time  Current\n",
      "                                 Dload  Upload   Total   Spent    Left  Speed\n",
      "100   256  100   256    0     0   7599      0 --:--:-- --:--:-- --:--:--  8258\n"
     ]
    },
    {
     "name": "stdout",
     "output_type": "stream",
     "text": [
      "{\"status\":\"success\",\"data\":{\"resultType\":\"matrix\",\"result\":[{\"metric\":{\"db\":\"db1\",\"host\":\"pg1\"},\"values\":[[1695236150,\"10000\"],[1695236155,\"2000\"],[1695236160,\"1000\"],[1695236165,\"0\"],[1695236170,\"0\"],[1695236175,\"4000\"]]}]},\"stats\":{\"seriesFetched\": \"0\"}}"
     ]
    }
   ],
   "source": [
    "%%bash\n",
    "curl \"http://localhost:8428/api/v1/query_range?query=increase(rows_read)&step=5s&start=2023-09-20T09:59:00.000Z&end=2023-09-21T10:17:00.000Z\""
   ]
  },
  {
   "cell_type": "code",
   "execution_count": 36,
   "metadata": {},
   "outputs": [
    {
     "name": "stdout",
     "output_type": "stream",
     "text": [
      "             Timestamp  Value\n",
      "0  2023-09-20 18:55:50  10000\n",
      "1  2023-09-20 18:55:55   2000\n",
      "2  2023-09-20 18:56:00   1000\n",
      "3  2023-09-20 18:56:05      0\n",
      "4  2023-09-20 18:56:10      0\n",
      "5  2023-09-20 18:56:15   4000\n"
     ]
    }
   ],
   "source": [
    "import requests\n",
    "import pandas as pd\n",
    "from datetime import datetime\n",
    "\n",
    "# VictoriaMetrics URL for querying data (replace with your actual VictoriaMetrics URL)\n",
    "victoria_metrics_url = \"http://localhost:8428/api/v1/query_range\"\n",
    "\n",
    "# Define the query parameters\n",
    "query = 'increase(rows_read)'\n",
    "step = '5s'\n",
    "start_time = '2023-09-20T09:59:00.000Z'\n",
    "end_time = '2023-09-21T10:17:00.000Z'\n",
    "\n",
    "# Define query parameters as a dictionary\n",
    "params = {\n",
    "    'query': query,\n",
    "    'step': step,\n",
    "    'start': start_time,\n",
    "    'end': end_time\n",
    "}\n",
    "\n",
    "try:\n",
    "    # Send a GET request to query the metric data from VictoriaMetrics\n",
    "    response = requests.get(victoria_metrics_url, params=params)\n",
    "\n",
    "    # Check the response status code\n",
    "    if response.status_code == 200:\n",
    "        data = response.json()\n",
    "        if 'data' in data and 'result' in data['data']:\n",
    "            results = data['data']['result']\n",
    "            if len(results) > 0:\n",
    "                # Create a list to store data points\n",
    "                data_points = []\n",
    "\n",
    "                # Iterate through the results and convert timestamps to readable format\n",
    "                for result in results:\n",
    "                    values = result['values']\n",
    "                    for value in values:\n",
    "                        timestamp = datetime.utcfromtimestamp(value[0]).strftime('%Y-%m-%d %H:%M:%S')\n",
    "                        data_points.append([timestamp, value[1]])\n",
    "\n",
    "                # Create a DataFrame\n",
    "                df = pd.DataFrame(data_points, columns=['Timestamp', 'Value'])\n",
    "\n",
    "                # Print the DataFrame\n",
    "                print(df)\n",
    "            else:\n",
    "                print(\"No data found for the query.\")\n",
    "        else:\n",
    "            print(\"No data found for the query.\")\n",
    "    else:\n",
    "        print(f\"Failed to query metric. Status code: {response.status_code}\")\n",
    "        print(response.text)\n",
    "except Exception as e:\n",
    "    print(f\"An error occurred: {str(e)}\")\n"
   ]
  }
 ],
 "metadata": {
  "kernelspec": {
   "display_name": "Python 3",
   "language": "python",
   "name": "python3"
  },
  "language_info": {
   "codemirror_mode": {
    "name": "ipython",
    "version": 3
   },
   "file_extension": ".py",
   "mimetype": "text/x-python",
   "name": "python",
   "nbconvert_exporter": "python",
   "pygments_lexer": "ipython3",
   "version": "3.10.2"
  },
  "orig_nbformat": 4
 },
 "nbformat": 4,
 "nbformat_minor": 2
}
