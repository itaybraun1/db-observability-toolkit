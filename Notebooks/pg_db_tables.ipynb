{
 "cells": [
  {
   "attachments": {},
   "cell_type": "markdown",
   "metadata": {},
   "source": [
    "# Postgres Partitions\n",
    "- Show the Partitioned tables - Table name and the number of partitions"
   ]
  },
  {
   "cell_type": "code",
   "execution_count": 1,
   "metadata": {},
   "outputs": [
    {
     "name": "stdout",
     "output_type": "stream",
     "text": [
      "Opened Connection\n"
     ]
    }
   ],
   "source": [
    "import sqlalchemy\n",
    "import pandas as pd\n",
    "import configparser\n",
    "import matplotlib.pyplot as plt \n",
    "\n",
    "# Read from the Config file\n",
    "config = configparser.ConfigParser() \n",
    "config.read_file(open(r'../ipynb.cfg'))\n",
    "\n",
    "con_str = config.get('con_str', 'PG_AIRBASES') \n",
    "engine = sqlalchemy.create_engine(con_str)\n",
    "\n",
    "try:\n",
    "    connection = engine.connect()\n",
    "    print (\"Opened Connection\")\n",
    "except (Exception, sqlalchemy.exc.SQLAlchemyError) as error:\n",
    "    print(\"Error while connecting to PostgreSQL database:\", error)\n"
   ]
  },
  {
   "attachments": {},
   "cell_type": "markdown",
   "metadata": {},
   "source": [
    "## Partition tables and their size\n",
    "Notice: To calcualte the size of a partitioned table, or the number of its rows, we must sum the size of all of its child partitions. \n",
    "\n",
    "TODO: show the Partition rule using the function pg_get_partkeydef(pg_class.oid) as partition_key"
   ]
  },
  {
   "cell_type": "code",
   "execution_count": 2,
   "metadata": {},
   "outputs": [
    {
     "name": "stdout",
     "output_type": "stream",
     "text": [
      "  table_name relkind  count_partitions  total_pages  total_rows\n",
      "0     orders       r                 3          104     14000.0\n"
     ]
    }
   ],
   "source": [
    "from sqlalchemy import create_engine\n",
    "from sqlalchemy.exc import SQLAlchemyError\n",
    "\n",
    "sql_command = \"\"\"\n",
    "SELECT \n",
    "  pg_inherits.inhparent::regclass AS table_name,\n",
    "  pg_class.relkind, \n",
    "\tCOUNT(pg_inherits.inhrelid::regclass) AS count_partitions, \n",
    "  SUM(pg_class.relpages) as total_pages, \n",
    "  SUM(pg_class.reltuples) as total_rows\n",
    "FROM pg_inherits\n",
    "\tJOIN pg_class\n",
    "  \tON pg_inherits.inhrelid = pg_class.oid\n",
    "WHERE pg_class.relkind = 'r'\n",
    "GROUP BY \n",
    "\tpg_inherits.inhparent::regclass, \n",
    "  pg_class.relkind\n",
    "\n",
    "\"\"\"\n",
    "\n",
    "try:\n",
    "    # Execute the SQL command\n",
    "    df = pd.read_sql_query(sql_command, connection)\n",
    "    print(df)\n",
    "except (SQLAlchemyError, ValueError) as e:\n",
    "    # Handle any errors or raised exceptions\n",
    "    raise e"
   ]
  },
  {
   "attachments": {},
   "cell_type": "markdown",
   "metadata": {},
   "source": [
    "## Partition Names\n",
    "The Data Set show the tables and the names of their partitions\n",
    "\n",
    "TODO: \n",
    "- Also show the partition function\n",
    "- Generate demo data for more than 1 partitioned table. "
   ]
  },
  {
   "cell_type": "code",
   "execution_count": 3,
   "metadata": {},
   "outputs": [
    {
     "name": "stdout",
     "output_type": "stream",
     "text": [
      "  table_name   partition_name      oid  relpages  reltuples  \\\n",
      "0     orders  orders_y2023m01  2302567        36     4887.0   \n",
      "1     orders  orders_y2023m02  2302574        33     4386.0   \n",
      "2     orders  orders_y2023m03  2302581        35     4727.0   \n",
      "\n",
      "                               partition_expression  \n",
      "0  FOR VALUES FROM ('2023-01-01') TO ('2023-02-01')  \n",
      "1  FOR VALUES FROM ('2023-02-01') TO ('2023-03-01')  \n",
      "2  FOR VALUES FROM ('2023-03-01') TO ('2023-04-01')  \n"
     ]
    }
   ],
   "source": [
    "sql_command = \"\"\"\n",
    "SELECT \n",
    "  pg_inherits.inhparent::regclass AS table_name, \n",
    "\tpg_inherits.inhrelid::regclass AS partition_name, \n",
    "  pg_class.oid,\n",
    "  pg_class.relpages, \n",
    "  pg_class.reltuples, \n",
    "  pg_get_expr(pg_class.relpartbound, pg_class.oid, true) as partition_expression\n",
    "FROM pg_inherits\n",
    "\tJOIN pg_class\n",
    "  \tON pg_inherits.inhrelid = pg_class.oid\n",
    "WHERE pg_class.relkind = 'r'\n",
    "ORDER BY pg_inherits.inhparent, pg_inherits.inhrelid;\n",
    "\"\"\"\n",
    "\n",
    "try:\n",
    "    # Execute the SQL command\n",
    "    df_partitions = pd.read_sql_query(sql_command, connection)\n",
    "    print(df_partitions)\n",
    "except (SQLAlchemyError, ValueError) as e:\n",
    "    # Handle any errors or raised exceptions\n",
    "    raise e"
   ]
  },
  {
   "cell_type": "code",
   "execution_count": 4,
   "metadata": {},
   "outputs": [
    {
     "data": {
      "image/png": "[encoded data removed]",
      "text/plain": [
       "<Figure size 640x480 with 1 Axes>"
      ]
     },
     "metadata": {},
     "output_type": "display_data"
    }
   ],
   "source": [
    "# Filter the dataframe to show only the rows where Value equals 60\n",
    "selected_table = 'orders'\n",
    "filtered_df = df_partitions.loc[df_partitions['table_name'] == selected_table]\n",
    "\n",
    "# Create a bar chart based on the filtered data\n",
    "plt.bar(filtered_df['partition_name'], filtered_df['reltuples'])\n",
    "plt.xlabel('Partitions')\n",
    "plt.ylabel('Rows')\n",
    "plt.title('Partitions Rows Distribution')\n",
    "\n",
    "# Display the bar chart\n",
    "plt.show()"
   ]
  }
 ],
 "metadata": {
  "kernelspec": {
   "display_name": "Python 3",
   "language": "python",
   "name": "python3"
  },
  "language_info": {
   "codemirror_mode": {
    "name": "ipython",
    "version": 3
   },
   "file_extension": ".py",
   "mimetype": "text/x-python",
   "name": "python",
   "nbconvert_exporter": "python",
   "pygments_lexer": "ipython3",
   "version": "3.10.2"
  },
  "orig_nbformat": 4
 },
 "nbformat": 4,
 "nbformat_minor": 2
}
