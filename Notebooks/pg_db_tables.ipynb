{
 "cells": [
  {
   "attachments": {},
   "cell_type": "markdown",
   "metadata": {},
   "source": [
    "# pg_db_tables\n",
    "Shows data about the tables\n",
    "Cells: \n",
    "- Configure: Connect to a specfic DB\n",
    "- Current size of each table: in KB, dead rows, bloat, data size, all indexes size,  "
   ]
  },
  {
   "cell_type": "code",
   "execution_count": 16,
   "metadata": {},
   "outputs": [
    {
     "name": "stderr",
     "output_type": "stream",
     "text": [
      "Exception during reset or similar\n",
      "Traceback (most recent call last):\n",
      "  File \"/Library/Frameworks/Python.framework/Versions/3.10/lib/python3.10/site-packages/sqlalchemy/pool/base.py\", line 739, in _finalize_fairy\n",
      "    fairy._reset(pool)\n",
      "  File \"/Library/Frameworks/Python.framework/Versions/3.10/lib/python3.10/site-packages/sqlalchemy/pool/base.py\", line 988, in _reset\n",
      "    pool._dialect.do_rollback(self)\n",
      "  File \"/Library/Frameworks/Python.framework/Versions/3.10/lib/python3.10/site-packages/sqlalchemy/engine/default.py\", line 682, in do_rollback\n",
      "    dbapi_connection.rollback()\n",
      "psycopg2.OperationalError: could not receive data from server: Operation timed out\n",
      "SSL SYSCALL error: Operation timed out\n",
      "\n"
     ]
    },
    {
     "name": "stdout",
     "output_type": "stream",
     "text": [
      "Opened Connection\n"
     ]
    }
   ],
   "source": [
    "import sqlalchemy\n",
    "import pandas as pd\n",
    "import configparser\n",
    "import matplotlib.pyplot as plt \n",
    "\n",
    "# Read from the Config file\n",
    "config = configparser.ConfigParser() \n",
    "config.read_file(open(r'../ipynb.cfg'))\n",
    "\n",
    "con_str = config.get('con_str', 'PG_AIRBASES') \n",
    "engine = sqlalchemy.create_engine(con_str)\n",
    "\n",
    "try:\n",
    "    connection = engine.connect()\n",
    "    print (\"Opened Connection\")\n",
    "except (Exception, sqlalchemy.exc.SQLAlchemyError) as error:\n",
    "    print(\"Error while connecting to PostgreSQL database:\", error)\n"
   ]
  },
  {
   "attachments": {},
   "cell_type": "markdown",
   "metadata": {},
   "source": [
    "## Tables Size\n",
    "Show the tables and their size in KB and the number of rows. \n",
    "Notice! the notebook requires the extension pg_stat_statement \n",
    "\n",
    "TODO: show Bloat too"
   ]
  },
  {
   "cell_type": "code",
   "execution_count": 17,
   "metadata": {},
   "outputs": [
    {
     "name": "stdout",
     "output_type": "stream",
     "text": [
      "      relid    schemaname                         table_name                          full_table_name      rows  dead_rows  n_mod_since_analyze  pct_mod_since_analyze                last_analyze_date            last_autoanalyze_date  total_table_size_kb  table_size_kb  indexes_size_kb total_table_size_pretty table_size_pretty index_size_pretty\n",
      "0   1057718          cron                                job                                 cron.job         5          1                    7                      1                              NaT                              NaT                   48             16               32                   48 kB             16 kB             32 kB\n",
      "1   1057740          cron                    job_run_details                     cron.job_run_details         0          0                    0                      0                              NaT                              NaT               124240         123104             1136                  121 MB            120 MB           1136 kB\n",
      "2   4884970          logs                      postgres_logs                       logs.postgres_logs         0          0                    0                      0                              NaT                              NaT                    8              8                0              8192 bytes        8192 bytes           0 bytes\n",
      "3   3262245         metis         pg_stat_database_snapshots         metis.pg_stat_database_snapshots     17327          0                  211                      0                              NaT 2023-08-21 09:36:06.953348+00:00                 3664           3264              400                 3664 kB           3264 kB            400 kB\n",
      "4   3852615         metis  pg_stat_tables_activity_snapshots  metis.pg_stat_tables_activity_snapshots    443087          0                 9061                      0                              NaT 2023-08-21 09:26:08.492425+00:00               153352         142136            11216                  150 MB            139 MB             11 MB\n",
      "5    498396         metis           postgres_server_settings           metis.postgres_server_settings         0          0                    0                      0                              NaT                              NaT                  104             88               16                  104 kB             88 kB             16 kB\n",
      "6   4008127         metis                            queries                            metis.queries     14263          0                  660                      0                              NaT 2023-08-21 02:00:14.049610+00:00                 5760           5320              440                 5760 kB           5320 kB            440 kB\n",
      "7   4020646         metis              query_stats_snapshots              metis.query_stats_snapshots    786878      55188                 5789                      0                              NaT 2023-08-21 11:10:13.526916+00:00               101704          83216            18488                   99 MB             81 MB             18 MB\n",
      "8   2241457      metis_qa              test_high_indexes_num           metis_qa.test_high_indexes_num         0          0                    0                      0                              NaT                              NaT                  128              8              120                  128 kB        8192 bytes            120 kB\n",
      "9     71460  postgres_air                            account                     postgres_air.account         0          0                    0                      0                              NaT                              NaT                27208          21536             5672                   27 MB             21 MB           5672 kB\n",
      "10    71468  postgres_air                           aircraft                    postgres_air.aircraft        12          0                    0                      0 2023-08-03 12:24:42.166946+00:00                              NaT                   48             16               32                   48 kB             16 kB             32 kB\n",
      "11    71474  postgres_air                            airport                     postgres_air.airport         0          0                    0                      0                              NaT                              NaT                  144            112               32                  144 kB            112 kB             32 kB\n",
      "12    71482  postgres_air                      boarding_pass               postgres_air.boarding_pass  25293586       1686                    0                      0 2023-08-03 12:25:13.696846+00:00                              NaT              3529224        2086816          1442408                 3447 MB           2038 MB           1409 MB\n",
      "13   669643  postgres_air           boarding_pass_no_indexes    postgres_air.boarding_pass_no_indexes         0          0                    0                      0                              NaT                              NaT              2086672        2086672                0                 2038 MB           2038 MB           0 bytes\n",
      "14    71489  postgres_air                            booking                     postgres_air.booking         0          0                    0                      0                              NaT                              NaT              1141984         693392           448592                 1115 MB            677 MB            438 MB\n",
      "15    71495  postgres_air                        booking_leg                 postgres_air.booking_leg         0          0                    0                      0                              NaT                              NaT              1445408        1052888           392520                 1412 MB           1028 MB            383 MB\n",
      "16  2232218  postgres_air                  check_pk_overflow           postgres_air.check_pk_overflow         0          0                    0                      0                              NaT                              NaT                    8              0                8              8192 bytes           0 bytes        8192 bytes\n",
      "17    71502  postgres_air                             flight                      postgres_air.flight         0          0                    0                      0                              NaT                              NaT               114496          68592            45904                  112 MB             67 MB             45 MB\n",
      "18    71510  postgres_air                     frequent_flyer              postgres_air.frequent_flyer         0          0                    0                      0                              NaT                              NaT                22512          14184             8328                   22 MB             14 MB           8328 kB\n",
      "19    71518  postgres_air                          passenger                   postgres_air.passenger         0          0                    0                      0                              NaT                              NaT              1847440        1373616           473824                 1804 MB           1341 MB            463 MB\n",
      "20   671989  postgres_air                        passenger_2                 postgres_air.passenger_2         0          0                    0                      0                              NaT                              NaT               828712         828712                0                  809 MB            809 MB           0 bytes\n",
      "21    71526  postgres_air                              phone                       postgres_air.phone    407444          0                    0                      0 2023-08-11 21:05:49.571368+00:00                              NaT                35128          26168             8960                   34 MB             26 MB           8960 kB\n",
      "22   732894  postgres_air                         test_table                  postgres_air.test_table         0          0                    0                      0                              NaT                              NaT                    8              0                8              8192 bytes           0 bytes        8192 bytes\n",
      "23   667543  postgres_air                            testing                     postgres_air.testing         0          0                    0                      0                              NaT                              NaT                    0              0                0                 0 bytes           0 bytes           0 bytes\n",
      "24   672851        public                           accounts                          public.accounts         0          0                    0                      0                              NaT                              NaT                   24              8               16                   24 kB        8192 bytes             16 kB\n",
      "25   671977        public                    booking_flights                   public.booking_flights         0          0                    0                      0                              NaT                              NaT               693560         693560                0                  677 MB            677 MB           0 bytes\n",
      "26  2232213        public                  check_pk_overflow                 public.check_pk_overflow         0          0                    0                      0                              NaT                              NaT                    8              0                8              8192 bytes           0 bytes        8192 bytes\n",
      "27   667108        public                        index_stats                       public.index_stats         0          0                    0                      0                              NaT                              NaT                   32             16               16                   32 kB             16 kB             16 kB\n",
      "28  2302563        public                             orders                            public.orders         0          0                    0                      0                              NaT                              NaT                    0              0                0                 0 bytes           0 bytes           0 bytes\n",
      "29   772415        public                        orders_test                       public.orders_test         0          0                    0                      0                              NaT                              NaT                   24              8               16                   24 kB        8192 bytes             16 kB\n",
      "30  2302567        public                    orders_y2023m01                   public.orders_y2023m01         0          0                    0                      0                              NaT                              NaT                  384            328               56                  384 kB            328 kB             56 kB\n",
      "31  2302574        public                    orders_y2023m02                   public.orders_y2023m02         0          0                    0                      0                              NaT                              NaT                  352            304               48                  352 kB            304 kB             48 kB\n",
      "32  2302581        public                    orders_y2023m03                   public.orders_y2023m03         0          0                    0                      0                              NaT                              NaT                  376            320               56                  376 kB            320 kB             56 kB\n",
      "33  2190535        public                     qa_table_wings                    public.qa_table_wings         0          0                    0                      0                              NaT                              NaT                    8              0                8              8192 bytes           0 bytes        8192 bytes\n",
      "34  2190529        public                   qa_tests_flights                  public.qa_tests_flights         0          0                    0                      0                              NaT                              NaT                    8              0                8              8192 bytes           0 bytes        8192 bytes\n",
      "35   670074        public                              sales                             public.sales         0          0                    0                      0                              NaT                              NaT                   40             40                0                   40 kB             40 kB           0 bytes\n",
      "36  4024158        public                        sales_table                       public.sales_table        30         30                    0                      0                              NaT 2023-08-13 15:22:47.358573+00:00                   24              8               16                   24 kB        8192 bytes             16 kB\n",
      "37   966022        public                           students                          public.students         0          0                    0                      0                              NaT                              NaT                 2248           1568              680                 2248 kB           1568 kB            680 kB\n",
      "38   669652        public                                 t1                                public.t1         0          0                    0                      0                              NaT                              NaT                    8              8                0              8192 bytes        8192 bytes           0 bytes\n",
      "39  2241530        public                test_no_primary_key               public.test_no_primary_key         0          0                    0                      0                              NaT                              NaT                    0              0                0                 0 bytes           0 bytes           0 bytes\n",
      "40   781188        public                        vacuum_logs                       public.vacuum_logs         0          0                    0                      0                              NaT                              NaT                   24              8               16                   24 kB        8192 bytes             16 kB\n"
     ]
    }
   ],
   "source": [
    "from sqlalchemy import create_engine\n",
    "from sqlalchemy.exc import SQLAlchemyError\n",
    "\n",
    "sql_command = \"\"\"\n",
    "SELECT relid,\n",
    "\t\tschemaname, \n",
    "    relname as table_name, \n",
    "    (schemaname || '.' || relname) as full_table_name,\n",
    "    n_live_tup as rows,\n",
    "    n_dead_tup as dead_rows,\n",
    "    n_mod_since_analyze,\n",
    "    case \n",
    "    \twhen n_live_tup = 0 THEN 0\n",
    "      else  n_mod_since_analyze / n_live_tup \n",
    "      end as pct_mod_since_analyze,\n",
    "    last_analyze as last_analyze_date,\n",
    "    last_autoanalyze as last_autoanalyze_date,\n",
    "    pg_total_relation_size(relid) / 1024 as total_table_size_kb, \n",
    "    pg_table_size(relid) / 1024 as table_size_kb,\n",
    "    pg_indexes_size(relid) / 1024 as indexes_size_kb,\n",
    "    pg_size_pretty(pg_total_relation_size(relid)) as total_table_size_pretty, \n",
    "    pg_size_pretty(pg_table_size(relid)) as table_size_pretty,\n",
    "    pg_size_pretty(pg_indexes_size(relid)) as index_size_pretty\n",
    "    \n",
    "FROM pg_stat_user_tables\n",
    "ORDER BY schemaname, \n",
    "    relname\n",
    "\"\"\"\n",
    "\n",
    "try:\n",
    "    # Execute the SQL command\n",
    "    df = pd.read_sql_query(sql_command, connection)\n",
    "    # Set the display options to show all columns without truncation\n",
    "    pd.set_option('display.max_columns', None)\n",
    "    pd.set_option('display.expand_frame_repr', False)   \n",
    "    print(df)\n",
    "except (SQLAlchemyError, ValueError) as e:\n",
    "    # Handle any errors or raised exceptions\n",
    "    raise e"
   ]
  },
  {
   "attachments": {},
   "cell_type": "markdown",
   "metadata": {},
   "source": [
    "## Top 25 tables by size\n",
    "Show the top 25 table by their size. The dataset also contains the 26th \"table\" which is the total of all other tables in the DB. The total size of all other tables might be large.\n",
    "The UI is a treemap. \n",
    "\n",
    "TODO: show also as a table. Use pretty size. "
   ]
  },
  {
   "cell_type": "code",
   "execution_count": 18,
   "metadata": {},
   "outputs": [
    {
     "name": "stdout",
     "output_type": "stream",
     "text": [
      "          oid                            relname       nspname    total_size total_size_pretty\n",
      "0     71482.0                      boarding_pass  postgres_air  3.613925e+09           3447 MB\n",
      "1    669643.0           boarding_pass_no_indexes  postgres_air  2.136752e+09           2038 MB\n",
      "2     71518.0                          passenger  postgres_air  1.891779e+09           1804 MB\n",
      "3     71495.0                        booking_leg  postgres_air  1.480098e+09           1412 MB\n",
      "4     71489.0                            booking  postgres_air  1.169392e+09           1115 MB\n",
      "5    671989.0                        passenger_2  postgres_air  8.486011e+08            809 MB\n",
      "6    671977.0                    booking_flights        public  7.102054e+08            677 MB\n",
      "7   3852615.0  pg_stat_tables_activity_snapshots         metis  1.570324e+08            150 MB\n",
      "8   1057740.0                    job_run_details          cron  1.272218e+08            121 MB\n",
      "9     71502.0                             flight  postgres_air  1.172439e+08            112 MB\n",
      "10  4020646.0              query_stats_snapshots         metis  1.041449e+08             99 MB\n",
      "11    71526.0                              phone  postgres_air  3.597107e+07             34 MB\n",
      "12    71460.0                            account  postgres_air  2.786099e+07             27 MB\n",
      "13    71510.0                     frequent_flyer  postgres_air  2.305229e+07             22 MB\n",
      "14  4008127.0                            queries         metis  5.898240e+06           5760 kB\n",
      "15  3262245.0         pg_stat_database_snapshots         metis  3.751936e+06           3664 kB\n",
      "16   966022.0                           students        public  2.301952e+06           2248 kB\n",
      "17  2302567.0                    orders_y2023m01        public  3.932160e+05            384 kB\n",
      "18  2302581.0                    orders_y2023m03        public  3.850240e+05            376 kB\n",
      "19  2302574.0                    orders_y2023m02        public  3.604480e+05            352 kB\n",
      "20    71474.0                            airport  postgres_air  1.474560e+05            144 kB\n",
      "21  2241457.0              test_high_indexes_num      metis_qa  1.310720e+05            128 kB\n",
      "22   498396.0           postgres_server_settings         metis  1.064960e+05            104 kB\n",
      "23  1057718.0                                job          cron  4.915200e+04             48 kB\n",
      "24    71468.0                           aircraft  postgres_air  4.915200e+04             48 kB\n",
      "25        NaN                   ALL_OTHER_TABLES          None  2.293760e+05            224 kB\n"
     ]
    },
    {
     "data": {
      "application/vnd.plotly.v1+json": {
       "config": {
        "plotlyServerURL": "https://plot.ly"
       },
       "data": [
        {
         "branchvalues": "total",
         "domain": {
          "x": [
           0,
           1
          ],
          "y": [
           0,
           1
          ]
         },
         "hovertemplate": "labels=%{label}<br>total_size=%{value}<br>parent=%{parent}<br>id=%{id}<extra></extra>",
         "ids": [
          "ALL_OTHER_TABLES",
          "account",
          "aircraft",
          "airport",
          "boarding_pass",
          "boarding_pass_no_indexes",
          "booking",
          "booking_flights",
          "booking_leg",
          "flight",
          "frequent_flyer",
          "job",
          "job_run_details",
          "orders_y2023m01",
          "orders_y2023m02",
          "orders_y2023m03",
          "passenger",
          "passenger_2",
          "pg_stat_database_snapshots",
          "pg_stat_tables_activity_snapshots",
          "phone",
          "postgres_server_settings",
          "queries",
          "query_stats_snapshots",
          "students",
          "test_high_indexes_num"
         ],
         "labels": [
          "ALL_OTHER_TABLES",
          "account",
          "aircraft",
          "airport",
          "boarding_pass",
          "boarding_pass_no_indexes",
          "booking",
          "booking_flights",
          "booking_leg",
          "flight",
          "frequent_flyer",
          "job",
          "job_run_details",
          "orders_y2023m01",
          "orders_y2023m02",
          "orders_y2023m03",
          "passenger",
          "passenger_2",
          "pg_stat_database_snapshots",
          "pg_stat_tables_activity_snapshots",
          "phone",
          "postgres_server_settings",
          "queries",
          "query_stats_snapshots",
          "students",
          "test_high_indexes_num"
         ],
         "name": "",
         "parents": [
          "",
          "",
          "",
          "",
          "",
          "",
          "",
          "",
          "",
          "",
          "",
          "",
          "",
          "",
          "",
          "",
          "",
          "",
          "",
          "",
          "",
          "",
          "",
          "",
          "",
          ""
         ],
         "type": "treemap",
         "values": [
          229376,
          27860992,
          49152,
          147456,
          3613925376,
          2136752128,
          1169391616,
          710205440,
          1480097792,
          117243904,
          23052288,
          49152,
          127221760,
          393216,
          360448,
          385024,
          1891778560,
          848601088,
          3751936,
          157032448,
          35971072,
          106496,
          5898240,
          104144896,
          2301952,
          131072
         ]
        }
       ],
       "layout": {
        "legend": {
         "tracegroupgap": 0
        },
        "margin": {
         "t": 60
        },
        "template": {
         "data": {
          "bar": [
           {
            "error_x": {
             "color": "#2a3f5f"
            },
            "error_y": {
             "color": "#2a3f5f"
            },
            "marker": {
             "line": {
              "color": "#E5ECF6",
              "width": 0.5
             },
             "pattern": {
              "fillmode": "overlay",
              "size": 10,
              "solidity": 0.2
             }
            },
            "type": "bar"
           }
          ],
          "barpolar": [
           {
            "marker": {
             "line": {
              "color": "#E5ECF6",
              "width": 0.5
             },
             "pattern": {
              "fillmode": "overlay",
              "size": 10,
              "solidity": 0.2
             }
            },
            "type": "barpolar"
           }
          ],
          "carpet": [
           {
            "aaxis": {
             "endlinecolor": "#2a3f5f",
             "gridcolor": "white",
             "linecolor": "white",
             "minorgridcolor": "white",
             "startlinecolor": "#2a3f5f"
            },
            "baxis": {
             "endlinecolor": "#2a3f5f",
             "gridcolor": "white",
             "linecolor": "white",
             "minorgridcolor": "white",
             "startlinecolor": "#2a3f5f"
            },
            "type": "carpet"
           }
          ],
          "choropleth": [
           {
            "colorbar": {
             "outlinewidth": 0,
             "ticks": ""
            },
            "type": "choropleth"
           }
          ],
          "contour": [
           {
            "colorbar": {
             "outlinewidth": 0,
             "ticks": ""
            },
            "colorscale": [
             [
              0,
              "#0d0887"
             ],
             [
              0.1111111111111111,
              "#46039f"
             ],
             [
              0.2222222222222222,
              "#7201a8"
             ],
             [
              0.3333333333333333,
              "#9c179e"
             ],
             [
              0.4444444444444444,
              "#bd3786"
             ],
             [
              0.5555555555555556,
              "#d8576b"
             ],
             [
              0.6666666666666666,
              "#ed7953"
             ],
             [
              0.7777777777777778,
              "#fb9f3a"
             ],
             [
              0.8888888888888888,
              "#fdca26"
             ],
             [
              1,
              "#f0f921"
             ]
            ],
            "type": "contour"
           }
          ],
          "contourcarpet": [
           {
            "colorbar": {
             "outlinewidth": 0,
             "ticks": ""
            },
            "type": "contourcarpet"
           }
          ],
          "heatmap": [
           {
            "colorbar": {
             "outlinewidth": 0,
             "ticks": ""
            },
            "colorscale": [
             [
              0,
              "#0d0887"
             ],
             [
              0.1111111111111111,
              "#46039f"
             ],
             [
              0.2222222222222222,
              "#7201a8"
             ],
             [
              0.3333333333333333,
              "#9c179e"
             ],
             [
              0.4444444444444444,
              "#bd3786"
             ],
             [
              0.5555555555555556,
              "#d8576b"
             ],
             [
              0.6666666666666666,
              "#ed7953"
             ],
             [
              0.7777777777777778,
              "#fb9f3a"
             ],
             [
              0.8888888888888888,
              "#fdca26"
             ],
             [
              1,
              "#f0f921"
             ]
            ],
            "type": "heatmap"
           }
          ],
          "heatmapgl": [
           {
            "colorbar": {
             "outlinewidth": 0,
             "ticks": ""
            },
            "colorscale": [
             [
              0,
              "#0d0887"
             ],
             [
              0.1111111111111111,
              "#46039f"
             ],
             [
              0.2222222222222222,
              "#7201a8"
             ],
             [
              0.3333333333333333,
              "#9c179e"
             ],
             [
              0.4444444444444444,
              "#bd3786"
             ],
             [
              0.5555555555555556,
              "#d8576b"
             ],
             [
              0.6666666666666666,
              "#ed7953"
             ],
             [
              0.7777777777777778,
              "#fb9f3a"
             ],
             [
              0.8888888888888888,
              "#fdca26"
             ],
             [
              1,
              "#f0f921"
             ]
            ],
            "type": "heatmapgl"
           }
          ],
          "histogram": [
           {
            "marker": {
             "pattern": {
              "fillmode": "overlay",
              "size": 10,
              "solidity": 0.2
             }
            },
            "type": "histogram"
           }
          ],
          "histogram2d": [
           {
            "colorbar": {
             "outlinewidth": 0,
             "ticks": ""
            },
            "colorscale": [
             [
              0,
              "#0d0887"
             ],
             [
              0.1111111111111111,
              "#46039f"
             ],
             [
              0.2222222222222222,
              "#7201a8"
             ],
             [
              0.3333333333333333,
              "#9c179e"
             ],
             [
              0.4444444444444444,
              "#bd3786"
             ],
             [
              0.5555555555555556,
              "#d8576b"
             ],
             [
              0.6666666666666666,
              "#ed7953"
             ],
             [
              0.7777777777777778,
              "#fb9f3a"
             ],
             [
              0.8888888888888888,
              "#fdca26"
             ],
             [
              1,
              "#f0f921"
             ]
            ],
            "type": "histogram2d"
           }
          ],
          "histogram2dcontour": [
           {
            "colorbar": {
             "outlinewidth": 0,
             "ticks": ""
            },
            "colorscale": [
             [
              0,
              "#0d0887"
             ],
             [
              0.1111111111111111,
              "#46039f"
             ],
             [
              0.2222222222222222,
              "#7201a8"
             ],
             [
              0.3333333333333333,
              "#9c179e"
             ],
             [
              0.4444444444444444,
              "#bd3786"
             ],
             [
              0.5555555555555556,
              "#d8576b"
             ],
             [
              0.6666666666666666,
              "#ed7953"
             ],
             [
              0.7777777777777778,
              "#fb9f3a"
             ],
             [
              0.8888888888888888,
              "#fdca26"
             ],
             [
              1,
              "#f0f921"
             ]
            ],
            "type": "histogram2dcontour"
           }
          ],
          "mesh3d": [
           {
            "colorbar": {
             "outlinewidth": 0,
             "ticks": ""
            },
            "type": "mesh3d"
           }
          ],
          "parcoords": [
           {
            "line": {
             "colorbar": {
              "outlinewidth": 0,
              "ticks": ""
             }
            },
            "type": "parcoords"
           }
          ],
          "pie": [
           {
            "automargin": true,
            "type": "pie"
           }
          ],
          "scatter": [
           {
            "fillpattern": {
             "fillmode": "overlay",
             "size": 10,
             "solidity": 0.2
            },
            "type": "scatter"
           }
          ],
          "scatter3d": [
           {
            "line": {
             "colorbar": {
              "outlinewidth": 0,
              "ticks": ""
             }
            },
            "marker": {
             "colorbar": {
              "outlinewidth": 0,
              "ticks": ""
             }
            },
            "type": "scatter3d"
           }
          ],
          "scattercarpet": [
           {
            "marker": {
             "colorbar": {
              "outlinewidth": 0,
              "ticks": ""
             }
            },
            "type": "scattercarpet"
           }
          ],
          "scattergeo": [
           {
            "marker": {
             "colorbar": {
              "outlinewidth": 0,
              "ticks": ""
             }
            },
            "type": "scattergeo"
           }
          ],
          "scattergl": [
           {
            "marker": {
             "colorbar": {
              "outlinewidth": 0,
              "ticks": ""
             }
            },
            "type": "scattergl"
           }
          ],
          "scattermapbox": [
           {
            "marker": {
             "colorbar": {
              "outlinewidth": 0,
              "ticks": ""
             }
            },
            "type": "scattermapbox"
           }
          ],
          "scatterpolar": [
           {
            "marker": {
             "colorbar": {
              "outlinewidth": 0,
              "ticks": ""
             }
            },
            "type": "scatterpolar"
           }
          ],
          "scatterpolargl": [
           {
            "marker": {
             "colorbar": {
              "outlinewidth": 0,
              "ticks": ""
             }
            },
            "type": "scatterpolargl"
           }
          ],
          "scatterternary": [
           {
            "marker": {
             "colorbar": {
              "outlinewidth": 0,
              "ticks": ""
             }
            },
            "type": "scatterternary"
           }
          ],
          "surface": [
           {
            "colorbar": {
             "outlinewidth": 0,
             "ticks": ""
            },
            "colorscale": [
             [
              0,
              "#0d0887"
             ],
             [
              0.1111111111111111,
              "#46039f"
             ],
             [
              0.2222222222222222,
              "#7201a8"
             ],
             [
              0.3333333333333333,
              "#9c179e"
             ],
             [
              0.4444444444444444,
              "#bd3786"
             ],
             [
              0.5555555555555556,
              "#d8576b"
             ],
             [
              0.6666666666666666,
              "#ed7953"
             ],
             [
              0.7777777777777778,
              "#fb9f3a"
             ],
             [
              0.8888888888888888,
              "#fdca26"
             ],
             [
              1,
              "#f0f921"
             ]
            ],
            "type": "surface"
           }
          ],
          "table": [
           {
            "cells": {
             "fill": {
              "color": "#EBF0F8"
             },
             "line": {
              "color": "white"
             }
            },
            "header": {
             "fill": {
              "color": "#C8D4E3"
             },
             "line": {
              "color": "white"
             }
            },
            "type": "table"
           }
          ]
         },
         "layout": {
          "annotationdefaults": {
           "arrowcolor": "#2a3f5f",
           "arrowhead": 0,
           "arrowwidth": 1
          },
          "autotypenumbers": "strict",
          "coloraxis": {
           "colorbar": {
            "outlinewidth": 0,
            "ticks": ""
           }
          },
          "colorscale": {
           "diverging": [
            [
             0,
             "#8e0152"
            ],
            [
             0.1,
             "#c51b7d"
            ],
            [
             0.2,
             "#de77ae"
            ],
            [
             0.3,
             "#f1b6da"
            ],
            [
             0.4,
             "#fde0ef"
            ],
            [
             0.5,
             "#f7f7f7"
            ],
            [
             0.6,
             "#e6f5d0"
            ],
            [
             0.7,
             "#b8e186"
            ],
            [
             0.8,
             "#7fbc41"
            ],
            [
             0.9,
             "#4d9221"
            ],
            [
             1,
             "#276419"
            ]
           ],
           "sequential": [
            [
             0,
             "#0d0887"
            ],
            [
             0.1111111111111111,
             "#46039f"
            ],
            [
             0.2222222222222222,
             "#7201a8"
            ],
            [
             0.3333333333333333,
             "#9c179e"
            ],
            [
             0.4444444444444444,
             "#bd3786"
            ],
            [
             0.5555555555555556,
             "#d8576b"
            ],
            [
             0.6666666666666666,
             "#ed7953"
            ],
            [
             0.7777777777777778,
             "#fb9f3a"
            ],
            [
             0.8888888888888888,
             "#fdca26"
            ],
            [
             1,
             "#f0f921"
            ]
           ],
           "sequentialminus": [
            [
             0,
             "#0d0887"
            ],
            [
             0.1111111111111111,
             "#46039f"
            ],
            [
             0.2222222222222222,
             "#7201a8"
            ],
            [
             0.3333333333333333,
             "#9c179e"
            ],
            [
             0.4444444444444444,
             "#bd3786"
            ],
            [
             0.5555555555555556,
             "#d8576b"
            ],
            [
             0.6666666666666666,
             "#ed7953"
            ],
            [
             0.7777777777777778,
             "#fb9f3a"
            ],
            [
             0.8888888888888888,
             "#fdca26"
            ],
            [
             1,
             "#f0f921"
            ]
           ]
          },
          "colorway": [
           "#636efa",
           "#EF553B",
           "#00cc96",
           "#ab63fa",
           "#FFA15A",
           "#19d3f3",
           "#FF6692",
           "#B6E880",
           "#FF97FF",
           "#FECB52"
          ],
          "font": {
           "color": "#2a3f5f"
          },
          "geo": {
           "bgcolor": "white",
           "lakecolor": "white",
           "landcolor": "#E5ECF6",
           "showlakes": true,
           "showland": true,
           "subunitcolor": "white"
          },
          "hoverlabel": {
           "align": "left"
          },
          "hovermode": "closest",
          "mapbox": {
           "style": "light"
          },
          "paper_bgcolor": "white",
          "plot_bgcolor": "#E5ECF6",
          "polar": {
           "angularaxis": {
            "gridcolor": "white",
            "linecolor": "white",
            "ticks": ""
           },
           "bgcolor": "#E5ECF6",
           "radialaxis": {
            "gridcolor": "white",
            "linecolor": "white",
            "ticks": ""
           }
          },
          "scene": {
           "xaxis": {
            "backgroundcolor": "#E5ECF6",
            "gridcolor": "white",
            "gridwidth": 2,
            "linecolor": "white",
            "showbackground": true,
            "ticks": "",
            "zerolinecolor": "white"
           },
           "yaxis": {
            "backgroundcolor": "#E5ECF6",
            "gridcolor": "white",
            "gridwidth": 2,
            "linecolor": "white",
            "showbackground": true,
            "ticks": "",
            "zerolinecolor": "white"
           },
           "zaxis": {
            "backgroundcolor": "#E5ECF6",
            "gridcolor": "white",
            "gridwidth": 2,
            "linecolor": "white",
            "showbackground": true,
            "ticks": "",
            "zerolinecolor": "white"
           }
          },
          "shapedefaults": {
           "line": {
            "color": "#2a3f5f"
           }
          },
          "ternary": {
           "aaxis": {
            "gridcolor": "white",
            "linecolor": "white",
            "ticks": ""
           },
           "baxis": {
            "gridcolor": "white",
            "linecolor": "white",
            "ticks": ""
           },
           "bgcolor": "#E5ECF6",
           "caxis": {
            "gridcolor": "white",
            "linecolor": "white",
            "ticks": ""
           }
          },
          "title": {
           "x": 0.05
          },
          "xaxis": {
           "automargin": true,
           "gridcolor": "white",
           "linecolor": "white",
           "ticks": "",
           "title": {
            "standoff": 15
           },
           "zerolinecolor": "white",
           "zerolinewidth": 2
          },
          "yaxis": {
           "automargin": true,
           "gridcolor": "white",
           "linecolor": "white",
           "ticks": "",
           "title": {
            "standoff": 15
           },
           "zerolinecolor": "white",
           "zerolinewidth": 2
          }
         }
        }
       }
      }
     },
     "metadata": {},
     "output_type": "display_data"
    }
   ],
   "source": [
    "import plotly.express as px\n",
    "\n",
    "sql_command = \"\"\"\n",
    "WITH top_tables AS (\n",
    "    SELECT \n",
    "        c.oid, \n",
    "        relname, \n",
    "        n.nspname, \n",
    "        pg_total_relation_size(c.oid) AS total_size, \n",
    "  \t\t\tpg_size_pretty(pg_total_relation_size(c.oid)) AS total_size_pretty\n",
    "    FROM pg_catalog.pg_class AS c\n",
    "    JOIN pg_namespace n \n",
    "        ON c.relnamespace = n.oid\n",
    "    WHERE relkind = 'r'\n",
    "        AND n.nspname NOT IN ('pg_toast', 'pg_catalog', 'information_schema')\n",
    "    ORDER BY pg_total_relation_size(c.oid) DESC\n",
    "    LIMIT 25\n",
    ")\n",
    "\n",
    "SELECT \n",
    "    oid, \n",
    "    relname, \n",
    "    nspname, \n",
    "    total_size, \n",
    "    total_size_pretty\n",
    "FROM top_tables\n",
    "UNION ALL\n",
    "SELECT \n",
    "    null, \n",
    "    'ALL_OTHER_TABLES', \n",
    "    null, \n",
    "    sum(total_size), \n",
    "    pg_size_pretty(sum(total_size))\n",
    "    \n",
    "FROM (\n",
    "    SELECT pg_total_relation_size(c.oid) AS total_size\n",
    "    FROM pg_catalog.pg_class AS c\n",
    "    JOIN pg_namespace n \n",
    "        ON c.relnamespace = n.oid\n",
    "    WHERE relkind = 'r'\n",
    "        AND n.nspname NOT IN ('pg_toast', 'pg_catalog', 'information_schema')\n",
    "    ORDER BY pg_total_relation_size(c.oid) DESC\n",
    "    OFFSET 25\n",
    ") AS remaining_tables;\n",
    "\n",
    "\n",
    "\"\"\"\n",
    "\n",
    "try:\n",
    "    # Execute the SQL command\n",
    "    df_top_tables_by_size = pd.read_sql_query(sql_command, connection)\n",
    "    print(df_top_tables_by_size)\n",
    "    # Create a treemap using Plotly\n",
    "    fig = px.treemap(df_top_tables_by_size, path=['relname'], values='total_size')\n",
    "\n",
    "    # Show the treemap\n",
    "    fig.show()\n",
    "\n",
    "except (SQLAlchemyError, ValueError) as e:\n",
    "    # Handle any errors or raised exceptions\n",
    "    raise e"
   ]
  }
 ],
 "metadata": {
  "kernelspec": {
   "display_name": "Python 3",
   "language": "python",
   "name": "python3"
  },
  "language_info": {
   "codemirror_mode": {
    "name": "ipython",
    "version": 3
   },
   "file_extension": ".py",
   "mimetype": "text/x-python",
   "name": "python",
   "nbconvert_exporter": "python",
   "pygments_lexer": "ipython3",
   "version": "3.10.2"
  },
  "orig_nbformat": 4
 },
 "nbformat": 4,
 "nbformat_minor": 2
}
