{
 "cells": [
  {
   "attachments": {},
   "cell_type": "markdown",
   "metadata": {},
   "source": [
    "# pg_server_open_transactions \n",
    "Description: Shows the top X open transactions in the server. \n",
    "Version: 0.1"
   ]
  },
  {
   "attachments": {},
   "cell_type": "markdown",
   "metadata": {},
   "source": [
    "## Configuration\n",
    "Open a connection to the DB. Use a Connection String stored in a .cfg file"
   ]
  },
  {
   "cell_type": "code",
   "execution_count": 2,
   "metadata": {},
   "outputs": [],
   "source": [
    "import sqlalchemy\n",
    "import pandas as pd\n",
    "import configparser\n",
    "import matplotlib.pyplot as plt \n",
    "\n",
    "# Read the PG connection string from the Config file\n",
    "config = configparser.ConfigParser() \n",
    "config.read_file(open(r'../ipynb.cfg'))\n",
    "con_str = config.get('con_str', 'PG_PLATFORM') \n",
    "engine = sqlalchemy.create_engine(con_str)\n",
    "# print(\"Connecting with engine \" + str(engine))\n",
    "try:\n",
    "    connection = engine.connect()\n",
    "except (Exception, sqlalchemy.exc.SQLAlchemyError) as error:\n",
    "    print(\"Error while connecting to PostgreSQL database:\", error)\n",
    "\n"
   ]
  },
  {
   "attachments": {},
   "cell_type": "markdown",
   "metadata": {},
   "source": [
    "## Idle Connections with an open transaction \n"
   ]
  },
  {
   "cell_type": "code",
   "execution_count": 3,
   "metadata": {},
   "outputs": [
    {
     "name": "stdout",
     "output_type": "stream",
     "text": [
      "Empty DataFrame\n",
      "Columns: [datid, datname, pid, leader_pid, usesysid, usename, application_name, client_addr, client_hostname, client_port, backend_start, xact_start, query_start, state_change, wait_event_type, wait_event, state, backend_xid, backend_xmin, query_id, query, backend_type]\n",
      "Index: []\n",
      "\n",
      "[0 rows x 22 columns]\n"
     ]
    }
   ],
   "source": [
    "\n",
    "from sqlalchemy import create_engine\n",
    "from sqlalchemy.exc import SQLAlchemyError\n",
    "\n",
    "sql_command = \"\"\"\n",
    "select * \n",
    "from pg_stat_activity\n",
    "where (state = 'idle in transaction')\n",
    "    and xact_start is not null;\n",
    "\"\"\"\n",
    "\n",
    "\n",
    "try:\n",
    "    # Execute the SQL command\n",
    "   \n",
    "    df = pd.read_sql_query(sql_command, connection)\n",
    "    print(df)\n",
    "except (SQLAlchemyError, ValueError) as e:\n",
    "    # Handle any errors or raised exceptions\n",
    "    raise e\n"
   ]
  },
  {
   "attachments": {},
   "cell_type": "markdown",
   "metadata": {},
   "source": [
    "## Open Transactions\n",
    "Shows transactions open for a long time. The default is ```interval '5 minutes'```. Feel free to change it."
   ]
  },
  {
   "cell_type": "code",
   "execution_count": 4,
   "metadata": {},
   "outputs": [
    {
     "data": {
      "text/html": [
       "<div>\n",
       "<style scoped>\n",
       "    .dataframe tbody tr th:only-of-type {\n",
       "        vertical-align: middle;\n",
       "    }\n",
       "\n",
       "    .dataframe tbody tr th {\n",
       "        vertical-align: top;\n",
       "    }\n",
       "\n",
       "    .dataframe thead th {\n",
       "        text-align: right;\n",
       "    }\n",
       "</style>\n",
       "<table border=\"1\" class=\"dataframe\">\n",
       "  <thead>\n",
       "    <tr style=\"text-align: right;\">\n",
       "      <th></th>\n",
       "      <th>application_name</th>\n",
       "      <th>state</th>\n",
       "      <th>wait_event_type</th>\n",
       "      <th>wait_event</th>\n",
       "      <th>query</th>\n",
       "      <th>pid</th>\n",
       "      <th>client_addr</th>\n",
       "      <th>running_time</th>\n",
       "    </tr>\n",
       "  </thead>\n",
       "  <tbody>\n",
       "  </tbody>\n",
       "</table>\n",
       "</div>"
      ],
      "text/plain": [
       "Empty DataFrame\n",
       "Columns: [application_name, state, wait_event_type, wait_event, query, pid, client_addr, running_time]\n",
       "Index: []"
      ]
     },
     "execution_count": 4,
     "metadata": {},
     "output_type": "execute_result"
    }
   ],
   "source": [
    "query_open_transactions = \"\"\"\n",
    "SELECT \n",
    "\t\tpg_stat_activity.application_name,\n",
    "    pg_stat_activity.state,\n",
    "    pg_stat_activity.wait_event_type,\n",
    "    pg_stat_activity.wait_event,\n",
    "    pg_stat_activity.query,\n",
    "    pg_stat_activity.pid,\n",
    "    pg_stat_activity.client_addr,\n",
    "    age(now(), pg_stat_activity.query_start) AS running_time\n",
    "FROM pg_stat_activity\n",
    "WHERE (pg_stat_activity.state = 'active'::text) \n",
    "\tAND pg_stat_activity.pid <> pg_backend_pid()\n",
    "  AND (now() - pg_stat_activity.query_start) > interval '5 minutes'\n",
    "ORDER BY running_time DESC; \n",
    "\"\"\"\n",
    "\n",
    "df = pd.read_sql_query(query_open_transactions, connection)\n",
    "df"
   ]
  },
  {
   "cell_type": "markdown",
   "metadata": {},
   "source": [
    "## Kill a Transaction\n",
    "The function ```pg_terminate_backend``` terminates the session whose backend process has the specified process ID. Reousrce: https://www.postgresql.org/docs/15/functions-admin.html"
   ]
  },
  {
   "cell_type": "code",
   "execution_count": null,
   "metadata": {},
   "outputs": [],
   "source": [
    "## Kill a single PID - forceful\n",
    "\"SELECT pg_terminate_backend(<PID>);\"\n",
    "## Kill a single PID - graceful\n",
    "\"SELECT pg_cancel_backend(<PID>);\"\n",
    "\n",
    "## Kill all idle connection\n",
    "\"\"\"\n",
    "FROM pg_stat_activity \n",
    "WHERE datname='db'\n",
    "  AND state = 'idle in transaction'\n",
    "\"\"\""
   ]
  }
 ],
 "metadata": {
  "kernelspec": {
   "display_name": "Python 3",
   "language": "python",
   "name": "python3"
  },
  "language_info": {
   "codemirror_mode": {
    "name": "ipython",
    "version": 3
   },
   "file_extension": ".py",
   "mimetype": "text/x-python",
   "name": "python",
   "nbconvert_exporter": "python",
   "pygments_lexer": "ipython3",
   "version": "3.10.2"
  },
  "orig_nbformat": 4
 },
 "nbformat": 4,
 "nbformat_minor": 2
}
