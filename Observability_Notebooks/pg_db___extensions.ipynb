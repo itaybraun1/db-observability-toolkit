{
 "cells": [
  {
   "attachments": {},
   "cell_type": "markdown",
   "metadata": {},
   "source": [
    "# pg_server_configuration_and_extnensions\n",
    "Shows the configuration of the PostgreSQL server (from ``pg_settings``) and installed extensions. \n",
    "The cloud vendors Postgres, such as AWS RDS and Google Cloud SQL, do not allow access to the host Operating System. Instead, you'll have to provide different credentials, to the cloud API. This notebook uses SQL only to work with any PostgreSQL server, regardless whether it is in the cloud or a Docker container. We created AWS notebooks. \n",
    "\n",
    "## Cells\n",
    "- Configuration - a connection string\n",
    "- PostgreSQL Configuration \n",
    "- Installed Extensions "
   ]
  },
  {
   "attachments": {},
   "cell_type": "markdown",
   "metadata": {},
   "source": [
    "## Configuration\n",
    "Open a connection to the DB. Use a Connection String stored in a .cfg file"
   ]
  },
  {
   "cell_type": "code",
   "execution_count": 1,
   "metadata": {},
   "outputs": [],
   "source": [
    "import sqlalchemy\n",
    "import psycopg2\n",
    "import pandas as pd\n",
    "import configparser\n",
    "import matplotlib.pyplot as plt \n",
    "\n",
    "# Read from the Config file\n",
    "config = configparser.ConfigParser() \n",
    "config.read_file(open(r'../ipynb.cfg'))\n",
    "con_str = config.get('con_str', 'PG_PLATFORM') \n",
    "engine = sqlalchemy.create_engine(con_str)\n",
    "\n",
    "# print(\"Connecting with engine \" + str(engine))\n",
    "try:\n",
    "    connection = engine.connect()\n",
    "except (Exception, sqlalchemy.exc.SQLAlchemyError) as error:\n",
    "    print(\"Error while connecting to PostgreSQL database:\", error)"
   ]
  },
  {
   "cell_type": "markdown",
   "metadata": {},
   "source": [
    "## Installed Extensions\n",
    "The catalog pg_extension stores information about the installed extensions. https://www.postgresql.org/docs/current/catalog-pg-extension.html\n",
    "We recommend installing the following extensions: \n",
    "- pg_stat_statements\n",
    "- pg_cron\n",
    "- pg_buffercache\n",
    "\n",
    "TODO - move this from the server level to the DB level, as each DB might have different extensions installed. "
   ]
  },
  {
   "cell_type": "code",
   "execution_count": 3,
   "metadata": {},
   "outputs": [
    {
     "data": {
      "text/html": [
       "<div>\n",
       "<style scoped>\n",
       "    .dataframe tbody tr th:only-of-type {\n",
       "        vertical-align: middle;\n",
       "    }\n",
       "\n",
       "    .dataframe tbody tr th {\n",
       "        vertical-align: top;\n",
       "    }\n",
       "\n",
       "    .dataframe thead th {\n",
       "        text-align: right;\n",
       "    }\n",
       "</style>\n",
       "<table border=\"1\" class=\"dataframe\">\n",
       "  <thead>\n",
       "    <tr style=\"text-align: right;\">\n",
       "      <th></th>\n",
       "      <th>oid</th>\n",
       "      <th>extname</th>\n",
       "      <th>extowner</th>\n",
       "      <th>extnamespace</th>\n",
       "      <th>extrelocatable</th>\n",
       "      <th>extversion</th>\n",
       "      <th>extconfig</th>\n",
       "      <th>extcondition</th>\n",
       "    </tr>\n",
       "  </thead>\n",
       "  <tbody>\n",
       "    <tr>\n",
       "      <th>0</th>\n",
       "      <td>14498</td>\n",
       "      <td>plpgsql</td>\n",
       "      <td>10</td>\n",
       "      <td>11</td>\n",
       "      <td>False</td>\n",
       "      <td>1.0</td>\n",
       "      <td>None</td>\n",
       "      <td>None</td>\n",
       "    </tr>\n",
       "    <tr>\n",
       "      <th>1</th>\n",
       "      <td>16551</td>\n",
       "      <td>pg_trgm</td>\n",
       "      <td>10</td>\n",
       "      <td>16548</td>\n",
       "      <td>True</td>\n",
       "      <td>1.5</td>\n",
       "      <td>None</td>\n",
       "      <td>None</td>\n",
       "    </tr>\n",
       "    <tr>\n",
       "      <th>2</th>\n",
       "      <td>16553</td>\n",
       "      <td>postgres_fdw</td>\n",
       "      <td>10</td>\n",
       "      <td>16548</td>\n",
       "      <td>True</td>\n",
       "      <td>1.0</td>\n",
       "      <td>None</td>\n",
       "      <td>None</td>\n",
       "    </tr>\n",
       "    <tr>\n",
       "      <th>3</th>\n",
       "      <td>2691727</td>\n",
       "      <td>log_fdw</td>\n",
       "      <td>10</td>\n",
       "      <td>16548</td>\n",
       "      <td>True</td>\n",
       "      <td>1.3</td>\n",
       "      <td>None</td>\n",
       "      <td>None</td>\n",
       "    </tr>\n",
       "    <tr>\n",
       "      <th>4</th>\n",
       "      <td>2824922</td>\n",
       "      <td>pg_stat_statements</td>\n",
       "      <td>10</td>\n",
       "      <td>16548</td>\n",
       "      <td>True</td>\n",
       "      <td>1.10</td>\n",
       "      <td>None</td>\n",
       "      <td>None</td>\n",
       "    </tr>\n",
       "  </tbody>\n",
       "</table>\n",
       "</div>"
      ],
      "text/plain": [
       "       oid             extname  extowner  extnamespace  extrelocatable  \\\n",
       "0    14498             plpgsql        10            11           False   \n",
       "1    16551             pg_trgm        10         16548            True   \n",
       "2    16553        postgres_fdw        10         16548            True   \n",
       "3  2691727             log_fdw        10         16548            True   \n",
       "4  2824922  pg_stat_statements        10         16548            True   \n",
       "\n",
       "  extversion extconfig extcondition  \n",
       "0        1.0      None         None  \n",
       "1        1.5      None         None  \n",
       "2        1.0      None         None  \n",
       "3        1.3      None         None  \n",
       "4       1.10      None         None  "
      ]
     },
     "execution_count": 3,
     "metadata": {},
     "output_type": "execute_result"
    }
   ],
   "source": [
    "qry_extensions = \"\"\"\n",
    "SELECT * \n",
    "FROM pg_extension;\n",
    "\"\"\"\n",
    "\n",
    "df = pd.read_sql_query(qry_extensions, connection)\n",
    "df"
   ]
  }
 ],
 "metadata": {
  "kernelspec": {
   "display_name": "Python 3",
   "language": "python",
   "name": "python3"
  },
  "language_info": {
   "codemirror_mode": {
    "name": "ipython",
    "version": 3
   },
   "file_extension": ".py",
   "mimetype": "text/x-python",
   "name": "python",
   "nbconvert_exporter": "python",
   "pygments_lexer": "ipython3",
   "version": "3.10.2"
  },
  "orig_nbformat": 4
 },
 "nbformat": 4,
 "nbformat_minor": 2
}
