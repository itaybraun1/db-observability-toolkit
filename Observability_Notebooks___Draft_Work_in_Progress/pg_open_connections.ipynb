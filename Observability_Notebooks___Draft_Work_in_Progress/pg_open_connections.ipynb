{
 "cells": [
  {
   "attachments": {},
   "cell_type": "markdown",
   "metadata": {},
   "source": [
    "Open Transactions\n",
    "Resources: Troubleshooting High CPU Utilization in PostgreSQL Databases: A How-To Guide (https://jfrog.com/community/data-science/troubleshooting-high-cpu-utilization-in-postgresql-databases-a-how-to-guide/)"
   ]
  },
  {
   "cell_type": "code",
   "execution_count": 2,
   "metadata": {},
   "outputs": [
    {
     "ename": "IndentationError",
     "evalue": "unindent does not match any outer indentation level (<tokenize>, line 4)",
     "output_type": "error",
     "traceback": [
      "\u001b[0;36m  File \u001b[0;32m<tokenize>:4\u001b[0;36m\u001b[0m\n\u001b[0;31m    usename,\u001b[0m\n\u001b[0m    ^\u001b[0m\n\u001b[0;31mIndentationError\u001b[0m\u001b[0;31m:\u001b[0m unindent does not match any outer indentation level\n"
     ]
    }
   ],
   "source": [
    "\n",
    "-- Open connections\n",
    "SELECT datname as db_name, \n",
    "\tpid, \n",
    "  usename, \n",
    "  application_name, \n",
    "  client_addr, \n",
    "  client_hostname,\n",
    "  xact_start, \n",
    "  state, \n",
    "  query, \n",
    "  backend_type\n",
    "FROM pg_stat_activity \n",
    "WHERE state = 'active';\n"
   ]
  },
  {
   "attachments": {},
   "cell_type": "markdown",
   "metadata": {},
   "source": [
    "https://stackoverflow.com/questions/35319597/how-to-stop-kill-a-query-in-postgresql"
   ]
  },
  {
   "cell_type": "code",
   "execution_count": null,
   "metadata": {},
   "outputs": [],
   "source": [
    "\n",
    "SELECT pg_cancel_backend(28309);\n",
    "/* https://stackoverflow.com/questions/35319597/how-to-stop-kill-a-query-in-postgresql \n",
    "This basically \"starts\" a request to terminate gracefully, which may be satisfied after some time, though the query comes back immediately.\n",
    "If the process cannot be killed, try: */\n",
    "SELECT pg_terminate_backend(<pid of the process>)\n"
   ]
  }
 ],
 "metadata": {
  "kernelspec": {
   "display_name": "Python 3",
   "language": "python",
   "name": "python3"
  },
  "language_info": {
   "codemirror_mode": {
    "name": "ipython",
    "version": 3
   },
   "file_extension": ".py",
   "mimetype": "text/x-python",
   "name": "python",
   "nbconvert_exporter": "python",
   "pygments_lexer": "ipython3",
   "version": "3.10.2"
  },
  "orig_nbformat": 4
 },
 "nbformat": 4,
 "nbformat_minor": 2
}
