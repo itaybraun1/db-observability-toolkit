{
 "cells": [
  {
   "attachments": {},
   "cell_type": "markdown",
   "metadata": {},
   "source": [
    "# Notebook: pg_server_extensions\n",
    "This notebooks shows the installed extensions in the PG server. \n",
    "Then it uses the OpenInsight engine to generate a few insights about missing extensions."
   ]
  },
  {
   "attachments": {},
   "cell_type": "markdown",
   "metadata": {},
   "source": [
    "## Step 1: Get the list of installed extensions"
   ]
  },
  {
   "cell_type": "code",
   "execution_count": 1,
   "metadata": {},
   "outputs": [
    {
     "data": {
      "text/html": [
       "<div>\n",
       "<style scoped>\n",
       "    .dataframe tbody tr th:only-of-type {\n",
       "        vertical-align: middle;\n",
       "    }\n",
       "\n",
       "    .dataframe tbody tr th {\n",
       "        vertical-align: top;\n",
       "    }\n",
       "\n",
       "    .dataframe thead th {\n",
       "        text-align: right;\n",
       "    }\n",
       "</style>\n",
       "<table border=\"1\" class=\"dataframe\">\n",
       "  <thead>\n",
       "    <tr style=\"text-align: right;\">\n",
       "      <th></th>\n",
       "      <th>Name</th>\n",
       "      <th>Version</th>\n",
       "      <th>Schema</th>\n",
       "      <th>Description</th>\n",
       "    </tr>\n",
       "  </thead>\n",
       "  <tbody>\n",
       "    <tr>\n",
       "      <th>0</th>\n",
       "      <td>log_fdw</td>\n",
       "      <td>1.2</td>\n",
       "      <td>public</td>\n",
       "      <td>foreign-data wrapper for Postgres log file access</td>\n",
       "    </tr>\n",
       "    <tr>\n",
       "      <th>1</th>\n",
       "      <td>pg_cron</td>\n",
       "      <td>1.4</td>\n",
       "      <td>public</td>\n",
       "      <td>Job scheduler for PostgreSQL</td>\n",
       "    </tr>\n",
       "    <tr>\n",
       "      <th>2</th>\n",
       "      <td>pg_stat_statements</td>\n",
       "      <td>1.8</td>\n",
       "      <td>public</td>\n",
       "      <td>track planning and execution statistics of all...</td>\n",
       "    </tr>\n",
       "    <tr>\n",
       "      <th>3</th>\n",
       "      <td>plpgsql</td>\n",
       "      <td>1.0</td>\n",
       "      <td>pg_catalog</td>\n",
       "      <td>PL/pgSQL procedural language</td>\n",
       "    </tr>\n",
       "  </tbody>\n",
       "</table>\n",
       "</div>"
      ],
      "text/plain": [
       "                 Name Version      Schema  \\\n",
       "0             log_fdw     1.2      public   \n",
       "1             pg_cron     1.4      public   \n",
       "2  pg_stat_statements     1.8      public   \n",
       "3             plpgsql     1.0  pg_catalog   \n",
       "\n",
       "                                         Description  \n",
       "0  foreign-data wrapper for Postgres log file access  \n",
       "1                       Job scheduler for PostgreSQL  \n",
       "2  track planning and execution statistics of all...  \n",
       "3                       PL/pgSQL procedural language  "
      ]
     },
     "execution_count": 1,
     "metadata": {},
     "output_type": "execute_result"
    }
   ],
   "source": [
    "import sqlalchemy\n",
    "import pandas as pd\n",
    "import configparser\n",
    "import matplotlib.pyplot as plt \n",
    "from sqlalchemy import create_engine\n",
    "from sqlalchemy.exc import SQLAlchemyError\n",
    "\n",
    "# Read from the Config file\n",
    "config = configparser.ConfigParser() \n",
    "config.read_file(open(r'../ipynb.cfg'))\n",
    "\n",
    "con_str = config.get('con_str', 'PG_AIRBASES') \n",
    "\n",
    "engine = sqlalchemy.create_engine(con_str)\n",
    "sql_command = \"\"\"\n",
    "SELECT e.extname AS \"Name\", e.extversion AS \"Version\", n.nspname AS \"Schema\", c.description AS \"Description\" \n",
    "FROM pg_catalog.pg_extension e \n",
    "LEFT JOIN pg_catalog.pg_namespace n ON n.oid = e.extnamespace \n",
    "LEFT JOIN pg_catalog.pg_description c ON c.objoid = e.oid AND c.classoid = 'pg_catalog.pg_extension'::pg_catalog.regclass \n",
    "ORDER BY 1;;\n",
    "\"\"\"\n",
    "\n",
    "# print(\"Connecting with engine \" + str(engine))\n",
    "try:\n",
    "    connection = engine.connect()\n",
    "    df_pg_server_extensions = pd.read_sql_query(sql_command, connection)\n",
    "except (Exception, sqlalchemy.exc.SQLAlchemyError) as error:\n",
    "    print(\"Error while connecting to PostgreSQL database:\", error)\n",
    "\n",
    "df_pg_server_extensions"
   ]
  },
  {
   "attachments": {},
   "cell_type": "markdown",
   "metadata": {},
   "source": [
    "# Generate the OpenInsights\n",
    "The list of installed extensions probably doesn't say much to the avg developer.  Therefore the notebook geneates a few insights. \n",
    "For ex. If the extension pg_stat_statment doesn't exist, this is bad. Why? we can't analyze the performance of the DB server without it.  "
   ]
  },
  {
   "cell_type": "code",
   "execution_count": 2,
   "metadata": {},
   "outputs": [
    {
     "name": "stdout",
     "output_type": "stream",
     "text": [
      "pg_stat_statements exists in the 'Name' column.\n",
      "Name: pg_stat_statements extension installed\n",
      "ID: 123456\n",
      "Category: Extensions\n",
      "Status: Healthy\n",
      "Severity: Healthy\n",
      "Context: The extension pg_stat_statement installed\n",
      "Impact: Performance - without the extesion it is much harder to detect and analyze DB performance\n",
      "Remediation Plan: None\n"
     ]
    }
   ],
   "source": [
    "import sys\n",
    "import pandas as pd\n",
    "sys.path.append('/Users/itaybraun/Documents/GitHub/useful-postgres-queries/classes')\n",
    "from OpenInsight import OpenInsight\n",
    "from OpenInsight import Severity\n",
    "\n",
    "# Check if 'pg_stat_statements' installed\n",
    "if 'pg_stat_statements' in df_pg_server_extensions['Name'].values:\n",
    "    print(\"pg_stat_statements exists in the 'Name' column.\")\n",
    "\n",
    "    # Create a new OpenInsight object\n",
    "    open_insight = OpenInsight(\n",
    "        name=\"pg_stat_statements extension installed\",\n",
    "        ID=\"123456\",\n",
    "        category=\"Extensions\",\n",
    "        status=\"Healthy\",\n",
    "        # severity=Severity.MEDIUM,\n",
    "        context=\"The extension pg_stat_statement installed\",\n",
    "        impact=\"Performance - without the extesion it is much harder to detect and analyze DB performance\"\n",
    "        # remediation_plan=\"Configure and enable pg_stat_statements\"\n",
    "    )\n",
    "\n",
    "    # Access the attributes of the OpenInsight object\n",
    "    print(f\"Name: {open_insight.name}\")\n",
    "    print(f\"ID: {open_insight.ID}\")\n",
    "    print(f\"Category: {open_insight.category}\")\n",
    "    print(f\"Status: {open_insight.status}\")\n",
    "    print(f\"Severity: {open_insight.severity.value}\")\n",
    "    print(f\"Context: {open_insight.context}\")\n",
    "    print(f\"Impact: {open_insight.impact}\")\n",
    "    print(f\"Remediation Plan: {open_insight.remediation_plan}\")\n",
    "\n",
    "else:\n",
    "    print(\"pg_stat_statements does not exist in the 'Name' column.\")\n"
   ]
  }
 ],
 "metadata": {
  "kernelspec": {
   "display_name": "Python 3",
   "language": "python",
   "name": "python3"
  },
  "language_info": {
   "codemirror_mode": {
    "name": "ipython",
    "version": 3
   },
   "file_extension": ".py",
   "mimetype": "text/x-python",
   "name": "python",
   "nbconvert_exporter": "python",
   "pygments_lexer": "ipython3",
   "version": "3.10.2"
  },
  "orig_nbformat": 4
 },
 "nbformat": 4,
 "nbformat_minor": 2
}
