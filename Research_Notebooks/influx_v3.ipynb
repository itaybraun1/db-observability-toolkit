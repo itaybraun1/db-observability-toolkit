{
 "cells": [
  {
   "cell_type": "markdown",
   "metadata": {},
   "source": [
    "<!DOCTYPE html>\n",
    "<html>\n",
    "\n",
    "<body>\n",
    "    <h2><span style=\"color: lightblue;\">Influx v3</span></h2>\n",
    "    <h3><strong>Desc:</strong></h3>\n",
    "    <ul>\n",
    "        <li>Write metrics to Influx Database.</li>\n",
    "        <li>Read Metrics from a bucket.</li>\n",
    "    </ul>\n",
    "    <h3>Comments:</h3>\n",
    "    <ul>\n",
    "        <li>This notebook is still in <strong>DRAFT</strong> mode.</li>\n",
    "        <li>This notebook was developed for Influx cloud v3. Do NOT use it with v2</li>\n",
    "    </ul>\n",
    "</body>\n",
    "</html>"
   ]
  },
  {
   "cell_type": "markdown",
   "metadata": {},
   "source": [
    "## Pre Req\n",
    "1. Open an Iflux DB cloud account. Can be the free one. https://www.influxdata.com/get-influxdb/    \n",
    "2. Create a new Bucket. For ex. ```Tables_bucket```.   \n",
    "   \n",
    "The rest of the flow follows the built-in samples\n",
    "1. Open the \"Load Data\" option of \"Client\" \n",
    "2. Select \"Python\"\n",
    "3. Follow the instructions. Step \"install dependencies\" is pip install influxdb3-python, pip install pandas"
   ]
  },
  {
   "cell_type": "markdown",
   "metadata": {},
   "source": [
    "## Get Token. \n",
    "Without a token, the client code can't call the API. To get a Token, log in to the cloud console, Load Data, API Tokens, Generate API Token. "
   ]
  },
  {
   "cell_type": "code",
   "execution_count": 14,
   "metadata": {},
   "outputs": [],
   "source": [
    "%%bash\n",
    "export INFLUXDB_TOKEN=XE9AyZ-3y-HJNyupKWiLgzVo5JMew-Y31Vq7gbakekdP66wIkBslEdnyrCc-vQ0t9MGFj449z0LvFhepVOwFfw=="
   ]
  },
  {
   "cell_type": "markdown",
   "metadata": {},
   "source": [
    "## Initialize Client\n",
    "Copy the code. I named the organization in Influx \"Dev\"\n",
    "\n",
    "Notice. The original code, proivded by Influx returns an error: ```[SSL: CERTIFICATE_VERIFY_FAILED] certificate verify failed: unable to get local issuer certificate (_ssl.c:997)``` . To solve it, add the coomand ``` ssl_ca_cert=certifi.where()```. Resource: # https://stackoverflow.com/questions/69401104/influxdb-2-0-certificate-verify-failed-certificate-has-expired-ssl-c1129\n",
    "   "
   ]
  },
  {
   "cell_type": "code",
   "execution_count": 15,
   "metadata": {},
   "outputs": [
    {
     "name": "stdout",
     "output_type": "stream",
     "text": [
      "XE9AyZ-3y-HJNyupKWiLgzVo5JMew-Y31Vq7gbakekdP66wIkBslEdnyrCc-vQ0t9MGFj449z0LvFhepVOwFfw==\n"
     ]
    }
   ],
   "source": [
    "import os, time\n",
    "from influxdb_client_3 import InfluxDBClient3, Point\n",
    "import certifi # we need it to support their certification problems. \n",
    "\n",
    "# Read from the OS or pass the parameter directly. \n",
    "token = os.environ.get(\"INFLUXDB_TOKEN\")\n",
    "token = \"XE9AyZ-3y-HJNyupKWiLgzVo5JMew-Y31Vq7gbakekdP66wIkBslEdnyrCc-vQ0t9MGFj449z0LvFhepVOwFfw==\"\n",
    "print (token)\n",
    "org = \"Dev\"\n",
    "host = \"https://us-east-1-1.aws.cloud2.influxdata.com\"\n",
    "\n",
    "client = InfluxDBClient3(host=host, token=token, org=org, ssl_ca_cert=certifi.where())"
   ]
  },
  {
   "cell_type": "markdown",
   "metadata": {},
   "source": [
    "## Copy (Insert) Data  \n",
    "The object \"Bucket\" in the UI called \"database\" in python.\n",
    "The measurement called \"Census\". Notic the ```Point``` object uses it.  \n",
    "\n",
    "\n",
    "\n",
    "In this data example, we have some important concepts:\n",
    "- **measurement**: Primary filter for the thing you are measuring. Since we are measuring the sample census of insects, our measurement is \"census\".\n",
    "- **tag**: Key-value pair to store metadata about your fields. We are storing the \"location\" of where each census is taken. Tags form part of your primary key.\n",
    "- **field**:\tKey-value pair that stores the actual data you are measuring.\tWe are storing the insect \"species\" and \"count\" as the key-value pair. Fields are not indexed and can be stored as integers, floats, strings, or booleans."
   ]
  },
  {
   "cell_type": "code",
   "execution_count": 16,
   "metadata": {},
   "outputs": [
    {
     "name": "stdout",
     "output_type": "stream",
     "text": [
      "Complete. Return to the InfluxDB UI.\n"
     ]
    }
   ],
   "source": [
    "database=\"Tables_Bucket\"\n",
    "\n",
    "data = {\n",
    "  \"point1\": {\n",
    "    \"location\": \"Klamath\",\n",
    "    \"species\": \"bees\",\n",
    "    \"count\": 25,\n",
    "  },\n",
    "  \"point2\": {\n",
    "    \"location\": \"Portland\",\n",
    "    \"species\": \"ants\",\n",
    "    \"count\": 32,\n",
    "  },\n",
    "  \"point3\": {\n",
    "    \"location\": \"Klamath\",\n",
    "    \"species\": \"bees\",\n",
    "    \"count\": 28,\n",
    "  },\n",
    "  \"point4\": {\n",
    "    \"location\": \"Portland\",\n",
    "    \"species\": \"ants\",\n",
    "    \"count\": 36,\n",
    "  },\n",
    "  \"point5\": {\n",
    "    \"location\": \"Klamath\",\n",
    "    \"species\": \"bees\",\n",
    "    \"count\": 27,\n",
    "  },\n",
    "  \"point6\": {\n",
    "    \"location\": \"Portland\",\n",
    "    \"species\": \"ants\",\n",
    "    \"count\": 43,\n",
    "  },\n",
    "}\n",
    "\n",
    "for key in data:\n",
    "  point = (\n",
    "    Point(\"census\")\n",
    "    .tag(\"location\", data[key][\"location\"])\n",
    "    .field(data[key][\"species\"], data[key][\"count\"])\n",
    "  )\n",
    "  client.write(database=database, record=point)\n",
    "  time.sleep(1) # separate points by 1 second\n",
    "\n",
    "print(\"Complete. Return to the InfluxDB UI.\")\n"
   ]
  },
  {
   "cell_type": "markdown",
   "metadata": {},
   "source": [
    "## Insert data from a CSV\n",
    "The CLI Code uses a CSV stored in S3: https://influx-testdata.s3.amazonaws.com/air-sensor-data-annotated.csv"
   ]
  },
  {
   "cell_type": "code",
   "execution_count": 17,
   "metadata": {},
   "outputs": [],
   "source": [
    "%%bash\n",
    "# influx write --bucket Tables_Bucket --url https://influx-testdata.s3.amazonaws.com/air-sensor-data-annotated.csv"
   ]
  },
  {
   "cell_type": "markdown",
   "metadata": {},
   "source": [
    "## Execute a Simple Query - SQL \n",
    "v3 supports SQL. v2 couldn't."
   ]
  },
  {
   "cell_type": "code",
   "execution_count": 18,
   "metadata": {},
   "outputs": [
    {
     "name": "stdout",
     "output_type": "stream",
     "text": [
      "Index(['ants', 'bees', 'location', 'time'], dtype='object')\n",
      "    ants  bees  location                          time\n",
      "6    NaN  25.0   Klamath 2023-09-23 20:35:34.764041824\n",
      "9   32.0   NaN  Portland 2023-09-23 20:35:36.123439256\n",
      "7    NaN  28.0   Klamath 2023-09-23 20:35:37.362155251\n",
      "10  36.0   NaN  Portland 2023-09-23 20:35:38.603744675\n",
      "8    NaN  27.0   Klamath 2023-09-23 20:35:39.766943693\n",
      "11  43.0   NaN  Portland 2023-09-23 20:35:40.936207328\n",
      "12   NaN  25.0   Klamath 2023-09-25 19:01:26.022984180\n",
      "15  32.0   NaN  Portland 2023-09-25 19:01:27.187632481\n",
      "13   NaN  28.0   Klamath 2023-09-25 19:01:28.451863646\n",
      "16  36.0   NaN  Portland 2023-09-25 19:01:29.637631603\n",
      "14   NaN  27.0   Klamath 2023-09-25 19:01:30.798999958\n",
      "17  43.0   NaN  Portland 2023-09-25 19:01:31.976858112\n",
      "18   NaN  25.0   Klamath 2023-09-27 09:18:05.943579056\n",
      "21  32.0   NaN  Portland 2023-09-27 09:18:07.124962332\n",
      "19   NaN  28.0   Klamath 2023-09-27 09:18:08.306029147\n",
      "22  36.0   NaN  Portland 2023-09-27 09:18:09.483684355\n",
      "20   NaN  27.0   Klamath 2023-09-27 09:18:10.664177887\n",
      "23  43.0   NaN  Portland 2023-09-27 09:18:11.834488146\n",
      "0    NaN  25.0   Klamath 2023-09-27 13:44:10.571754890\n",
      "3   32.0   NaN  Portland 2023-09-27 13:44:11.748128495\n",
      "1    NaN  28.0   Klamath 2023-09-27 13:44:12.925056323\n",
      "4   36.0   NaN  Portland 2023-09-27 13:44:14.087348823\n",
      "2    NaN  27.0   Klamath 2023-09-27 13:44:15.270418902\n",
      "5   43.0   NaN  Portland 2023-09-27 13:44:16.436916151\n"
     ]
    }
   ],
   "source": [
    "query = \"\"\"SELECT *\n",
    "FROM 'census'\n",
    "WHERE time >= now() - interval '168 hours'\n",
    "AND ('bees' IS NOT NULL OR 'ants' IS NOT NULL)\"\"\"\n",
    "\n",
    "# Execute the query\n",
    "table = client.query(query=query, database=\"Tables_Bucket\", language='sql') \n",
    "\n",
    "# Convert to dataframe\n",
    "df = table.to_pandas().sort_values(by=\"time\")\n",
    "column_names = df.columns\n",
    "print(column_names)\n",
    "print(df)\n",
    "\n",
    "\n"
   ]
  },
  {
   "cell_type": "markdown",
   "metadata": {},
   "source": [
    "## Advance Query - SQL \n",
    "Sep 17 - doesn't work. Not sure why as it is copy paste from the demo. \n",
    "I suspect the fact I had to use \"sql\" as a language to make it work, and not \"influxql\" is the root cause. The documentation says using ```import influxdb_client_3 as InfluxDBClient3``` with influxql but it doesn't work.    \n",
    "\n",
    "Trying to implement ```GROUP BY``` using: https://docs.influxdata.com/influxdb/v1/query_language/explore-data/#the-group-by-clause "
   ]
  },
  {
   "cell_type": "code",
   "execution_count": 19,
   "metadata": {},
   "outputs": [
    {
     "name": "stdout",
     "output_type": "stream",
     "text": [
      "   location              MAX(census.time)  AVG(census.ants)\n",
      "0  Portland 2023-09-27 13:44:16.436916151              37.0\n"
     ]
    }
   ],
   "source": [
    "## Execute Aggregate Queries. The first one works\n",
    "query = \"\"\"\n",
    "SELECT  location, max(time), avg(census.ants)\n",
    "FROM \"census\"\n",
    "WHERE time >= now() - interval '1 hour'\n",
    "AND (ants IS NOT NULL)\n",
    "GROUP BY location\n",
    "\"\"\"\n",
    "\n",
    "\n",
    "# Execute the query\n",
    "table = client.query(query=query, database=\"Tables_Bucket\", language='sql') \n",
    "\n",
    "# Convert to dataframe\n",
    "df = table.to_pandas()#.sort_values(by='time')\n",
    "print(df)"
   ]
  },
  {
   "cell_type": "markdown",
   "metadata": {},
   "source": [
    "## Query the data - Group by time ranges\n",
    "You can always use a good olf Flux to run a GROUP BY query. Group the data every 5 min. \n",
    "It the query doesn't return any data, that means that no data was inserted to this Influx Bucket. See one of the cells above how to insert data.   \n",
    "\n",
    "- Example 1 - running using the Influx CLI ( ```brew install influxdb-cli```). Apparently it still works with Flux. \n",
    "- Exampel 2 - Running using Python. It can't use Flux anymore. Only InfluQL ( https://docs.influxdata.com/influxdb/v1/query_language/, supported languages now are only SQL or InfluxQL: https://docs.influxdata.com/influxdb/cloud-dedicated/reference/client-libraries/v3/python/#functions)"
   ]
  },
  {
   "cell_type": "code",
   "execution_count": 28,
   "metadata": {},
   "outputs": [],
   "source": [
    "%%bash\n",
    "influx query \\\n",
    "'from(bucket: \"Tables_Bucket\")\n",
    "  |> range(start: -1h)\n",
    "  |> filter(fn: (r) => r._measurement == \"airSensors\" and r._field == \"humidity\")\n",
    "  |> aggregateWindow(every: 15m, fn: max)'\n",
    "\n"
   ]
  },
  {
   "cell_type": "code",
   "execution_count": 21,
   "metadata": {},
   "outputs": [
    {
     "name": "stdout",
     "output_type": "stream",
     "text": [
      "pyarrow.Table\n",
      "iox::measurement: string not null\n",
      "time: timestamp[ns]\n",
      "max: double\n",
      "----\n",
      "iox::measurement: [[\"airSensors\",\"airSensors\",\"airSensors\",\"airSensors\",\"airSensors\",...,\"airSensors\",\"airSensors\",\"airSensors\",\"airSensors\",\"airSensors\"]]\n",
      "time: [[2023-09-25 00:00:00.000000000,2023-09-25 01:00:00.000000000,2023-09-25 02:00:00.000000000,2023-09-25 03:00:00.000000000,2023-09-25 04:00:00.000000000,...,2023-09-27 09:00:00.000000000,2023-09-27 10:00:00.000000000,2023-09-27 11:00:00.000000000,2023-09-27 12:00:00.000000000,2023-09-27 13:00:00.000000000]]\n",
      "max: [[null,null,null,null,null,...,36.13810448443902,null,null,null,null]]\n",
      "   Measurement                Time        Max\n",
      "0   airSensors 2023-09-25 00:00:00        NaN\n",
      "1   airSensors 2023-09-25 01:00:00        NaN\n",
      "2   airSensors 2023-09-25 02:00:00        NaN\n",
      "3   airSensors 2023-09-25 03:00:00        NaN\n",
      "4   airSensors 2023-09-25 04:00:00        NaN\n",
      "..         ...                 ...        ...\n",
      "57  airSensors 2023-09-27 09:00:00  36.138104\n",
      "58  airSensors 2023-09-27 10:00:00        NaN\n",
      "59  airSensors 2023-09-27 11:00:00        NaN\n",
      "60  airSensors 2023-09-27 12:00:00        NaN\n",
      "61  airSensors 2023-09-27 13:00:00        NaN\n",
      "\n",
      "[62 rows x 3 columns]\n"
     ]
    },
    {
     "data": {
      "application/vnd.plotly.v1+json": {
       "config": {
        "plotlyServerURL": "https://plot.ly"
       },
       "data": [
        {
         "hovertemplate": "Time=%{x}<br>Max Value=%{y}<extra></extra>",
         "legendgroup": "",
         "line": {
          "color": "#636efa",
          "dash": "solid"
         },
         "marker": {
          "symbol": "circle"
         },
         "mode": "lines",
         "name": "",
         "orientation": "v",
         "showlegend": false,
         "type": "scatter",
         "x": [
          "2023-09-25T00:00:00",
          "2023-09-25T01:00:00",
          "2023-09-25T02:00:00",
          "2023-09-25T03:00:00",
          "2023-09-25T04:00:00",
          "2023-09-25T05:00:00",
          "2023-09-25T06:00:00",
          "2023-09-25T07:00:00",
          "2023-09-25T08:00:00",
          "2023-09-25T09:00:00",
          "2023-09-25T10:00:00",
          "2023-09-25T11:00:00",
          "2023-09-25T12:00:00",
          "2023-09-25T13:00:00",
          "2023-09-25T14:00:00",
          "2023-09-25T15:00:00",
          "2023-09-25T16:00:00",
          "2023-09-25T17:00:00",
          "2023-09-25T18:00:00",
          "2023-09-25T19:00:00",
          "2023-09-25T20:00:00",
          "2023-09-25T21:00:00",
          "2023-09-25T22:00:00",
          "2023-09-25T23:00:00",
          "2023-09-26T00:00:00",
          "2023-09-26T01:00:00",
          "2023-09-26T02:00:00",
          "2023-09-26T03:00:00",
          "2023-09-26T04:00:00",
          "2023-09-26T05:00:00",
          "2023-09-26T06:00:00",
          "2023-09-26T07:00:00",
          "2023-09-26T08:00:00",
          "2023-09-26T09:00:00",
          "2023-09-26T10:00:00",
          "2023-09-26T11:00:00",
          "2023-09-26T12:00:00",
          "2023-09-26T13:00:00",
          "2023-09-26T14:00:00",
          "2023-09-26T15:00:00",
          "2023-09-26T16:00:00",
          "2023-09-26T17:00:00",
          "2023-09-26T18:00:00",
          "2023-09-26T19:00:00",
          "2023-09-26T20:00:00",
          "2023-09-26T21:00:00",
          "2023-09-26T22:00:00",
          "2023-09-26T23:00:00",
          "2023-09-27T00:00:00",
          "2023-09-27T01:00:00",
          "2023-09-27T02:00:00",
          "2023-09-27T03:00:00",
          "2023-09-27T04:00:00",
          "2023-09-27T05:00:00",
          "2023-09-27T06:00:00",
          "2023-09-27T07:00:00",
          "2023-09-27T08:00:00",
          "2023-09-27T09:00:00",
          "2023-09-27T10:00:00",
          "2023-09-27T11:00:00",
          "2023-09-27T12:00:00",
          "2023-09-27T13:00:00"
         ],
         "xaxis": "x",
         "y": [
          null,
          null,
          null,
          null,
          null,
          null,
          null,
          null,
          null,
          null,
          null,
          null,
          null,
          null,
          null,
          null,
          null,
          36.68608222448508,
          36.72902315153046,
          36.61669941198891,
          null,
          null,
          null,
          null,
          null,
          null,
          null,
          null,
          null,
          null,
          null,
          null,
          null,
          null,
          null,
          null,
          null,
          null,
          null,
          null,
          null,
          null,
          36.2250502378667,
          36.540991828495486,
          null,
          null,
          null,
          null,
          null,
          null,
          null,
          null,
          null,
          null,
          null,
          null,
          36.428245216489316,
          36.13810448443902,
          null,
          null,
          null,
          null
         ],
         "yaxis": "y"
        }
       ],
       "layout": {
        "legend": {
         "tracegroupgap": 0
        },
        "template": {
         "data": {
          "bar": [
           {
            "error_x": {
             "color": "#2a3f5f"
            },
            "error_y": {
             "color": "#2a3f5f"
            },
            "marker": {
             "line": {
              "color": "#E5ECF6",
              "width": 0.5
             },
             "pattern": {
              "fillmode": "overlay",
              "size": 10,
              "solidity": 0.2
             }
            },
            "type": "bar"
           }
          ],
          "barpolar": [
           {
            "marker": {
             "line": {
              "color": "#E5ECF6",
              "width": 0.5
             },
             "pattern": {
              "fillmode": "overlay",
              "size": 10,
              "solidity": 0.2
             }
            },
            "type": "barpolar"
           }
          ],
          "carpet": [
           {
            "aaxis": {
             "endlinecolor": "#2a3f5f",
             "gridcolor": "white",
             "linecolor": "white",
             "minorgridcolor": "white",
             "startlinecolor": "#2a3f5f"
            },
            "baxis": {
             "endlinecolor": "#2a3f5f",
             "gridcolor": "white",
             "linecolor": "white",
             "minorgridcolor": "white",
             "startlinecolor": "#2a3f5f"
            },
            "type": "carpet"
           }
          ],
          "choropleth": [
           {
            "colorbar": {
             "outlinewidth": 0,
             "ticks": ""
            },
            "type": "choropleth"
           }
          ],
          "contour": [
           {
            "colorbar": {
             "outlinewidth": 0,
             "ticks": ""
            },
            "colorscale": [
             [
              0,
              "#0d0887"
             ],
             [
              0.1111111111111111,
              "#46039f"
             ],
             [
              0.2222222222222222,
              "#7201a8"
             ],
             [
              0.3333333333333333,
              "#9c179e"
             ],
             [
              0.4444444444444444,
              "#bd3786"
             ],
             [
              0.5555555555555556,
              "#d8576b"
             ],
             [
              0.6666666666666666,
              "#ed7953"
             ],
             [
              0.7777777777777778,
              "#fb9f3a"
             ],
             [
              0.8888888888888888,
              "#fdca26"
             ],
             [
              1,
              "#f0f921"
             ]
            ],
            "type": "contour"
           }
          ],
          "contourcarpet": [
           {
            "colorbar": {
             "outlinewidth": 0,
             "ticks": ""
            },
            "type": "contourcarpet"
           }
          ],
          "heatmap": [
           {
            "colorbar": {
             "outlinewidth": 0,
             "ticks": ""
            },
            "colorscale": [
             [
              0,
              "#0d0887"
             ],
             [
              0.1111111111111111,
              "#46039f"
             ],
             [
              0.2222222222222222,
              "#7201a8"
             ],
             [
              0.3333333333333333,
              "#9c179e"
             ],
             [
              0.4444444444444444,
              "#bd3786"
             ],
             [
              0.5555555555555556,
              "#d8576b"
             ],
             [
              0.6666666666666666,
              "#ed7953"
             ],
             [
              0.7777777777777778,
              "#fb9f3a"
             ],
             [
              0.8888888888888888,
              "#fdca26"
             ],
             [
              1,
              "#f0f921"
             ]
            ],
            "type": "heatmap"
           }
          ],
          "heatmapgl": [
           {
            "colorbar": {
             "outlinewidth": 0,
             "ticks": ""
            },
            "colorscale": [
             [
              0,
              "#0d0887"
             ],
             [
              0.1111111111111111,
              "#46039f"
             ],
             [
              0.2222222222222222,
              "#7201a8"
             ],
             [
              0.3333333333333333,
              "#9c179e"
             ],
             [
              0.4444444444444444,
              "#bd3786"
             ],
             [
              0.5555555555555556,
              "#d8576b"
             ],
             [
              0.6666666666666666,
              "#ed7953"
             ],
             [
              0.7777777777777778,
              "#fb9f3a"
             ],
             [
              0.8888888888888888,
              "#fdca26"
             ],
             [
              1,
              "#f0f921"
             ]
            ],
            "type": "heatmapgl"
           }
          ],
          "histogram": [
           {
            "marker": {
             "pattern": {
              "fillmode": "overlay",
              "size": 10,
              "solidity": 0.2
             }
            },
            "type": "histogram"
           }
          ],
          "histogram2d": [
           {
            "colorbar": {
             "outlinewidth": 0,
             "ticks": ""
            },
            "colorscale": [
             [
              0,
              "#0d0887"
             ],
             [
              0.1111111111111111,
              "#46039f"
             ],
             [
              0.2222222222222222,
              "#7201a8"
             ],
             [
              0.3333333333333333,
              "#9c179e"
             ],
             [
              0.4444444444444444,
              "#bd3786"
             ],
             [
              0.5555555555555556,
              "#d8576b"
             ],
             [
              0.6666666666666666,
              "#ed7953"
             ],
             [
              0.7777777777777778,
              "#fb9f3a"
             ],
             [
              0.8888888888888888,
              "#fdca26"
             ],
             [
              1,
              "#f0f921"
             ]
            ],
            "type": "histogram2d"
           }
          ],
          "histogram2dcontour": [
           {
            "colorbar": {
             "outlinewidth": 0,
             "ticks": ""
            },
            "colorscale": [
             [
              0,
              "#0d0887"
             ],
             [
              0.1111111111111111,
              "#46039f"
             ],
             [
              0.2222222222222222,
              "#7201a8"
             ],
             [
              0.3333333333333333,
              "#9c179e"
             ],
             [
              0.4444444444444444,
              "#bd3786"
             ],
             [
              0.5555555555555556,
              "#d8576b"
             ],
             [
              0.6666666666666666,
              "#ed7953"
             ],
             [
              0.7777777777777778,
              "#fb9f3a"
             ],
             [
              0.8888888888888888,
              "#fdca26"
             ],
             [
              1,
              "#f0f921"
             ]
            ],
            "type": "histogram2dcontour"
           }
          ],
          "mesh3d": [
           {
            "colorbar": {
             "outlinewidth": 0,
             "ticks": ""
            },
            "type": "mesh3d"
           }
          ],
          "parcoords": [
           {
            "line": {
             "colorbar": {
              "outlinewidth": 0,
              "ticks": ""
             }
            },
            "type": "parcoords"
           }
          ],
          "pie": [
           {
            "automargin": true,
            "type": "pie"
           }
          ],
          "scatter": [
           {
            "fillpattern": {
             "fillmode": "overlay",
             "size": 10,
             "solidity": 0.2
            },
            "type": "scatter"
           }
          ],
          "scatter3d": [
           {
            "line": {
             "colorbar": {
              "outlinewidth": 0,
              "ticks": ""
             }
            },
            "marker": {
             "colorbar": {
              "outlinewidth": 0,
              "ticks": ""
             }
            },
            "type": "scatter3d"
           }
          ],
          "scattercarpet": [
           {
            "marker": {
             "colorbar": {
              "outlinewidth": 0,
              "ticks": ""
             }
            },
            "type": "scattercarpet"
           }
          ],
          "scattergeo": [
           {
            "marker": {
             "colorbar": {
              "outlinewidth": 0,
              "ticks": ""
             }
            },
            "type": "scattergeo"
           }
          ],
          "scattergl": [
           {
            "marker": {
             "colorbar": {
              "outlinewidth": 0,
              "ticks": ""
             }
            },
            "type": "scattergl"
           }
          ],
          "scattermapbox": [
           {
            "marker": {
             "colorbar": {
              "outlinewidth": 0,
              "ticks": ""
             }
            },
            "type": "scattermapbox"
           }
          ],
          "scatterpolar": [
           {
            "marker": {
             "colorbar": {
              "outlinewidth": 0,
              "ticks": ""
             }
            },
            "type": "scatterpolar"
           }
          ],
          "scatterpolargl": [
           {
            "marker": {
             "colorbar": {
              "outlinewidth": 0,
              "ticks": ""
             }
            },
            "type": "scatterpolargl"
           }
          ],
          "scatterternary": [
           {
            "marker": {
             "colorbar": {
              "outlinewidth": 0,
              "ticks": ""
             }
            },
            "type": "scatterternary"
           }
          ],
          "surface": [
           {
            "colorbar": {
             "outlinewidth": 0,
             "ticks": ""
            },
            "colorscale": [
             [
              0,
              "#0d0887"
             ],
             [
              0.1111111111111111,
              "#46039f"
             ],
             [
              0.2222222222222222,
              "#7201a8"
             ],
             [
              0.3333333333333333,
              "#9c179e"
             ],
             [
              0.4444444444444444,
              "#bd3786"
             ],
             [
              0.5555555555555556,
              "#d8576b"
             ],
             [
              0.6666666666666666,
              "#ed7953"
             ],
             [
              0.7777777777777778,
              "#fb9f3a"
             ],
             [
              0.8888888888888888,
              "#fdca26"
             ],
             [
              1,
              "#f0f921"
             ]
            ],
            "type": "surface"
           }
          ],
          "table": [
           {
            "cells": {
             "fill": {
              "color": "#EBF0F8"
             },
             "line": {
              "color": "white"
             }
            },
            "header": {
             "fill": {
              "color": "#C8D4E3"
             },
             "line": {
              "color": "white"
             }
            },
            "type": "table"
           }
          ]
         },
         "layout": {
          "annotationdefaults": {
           "arrowcolor": "#2a3f5f",
           "arrowhead": 0,
           "arrowwidth": 1
          },
          "autotypenumbers": "strict",
          "coloraxis": {
           "colorbar": {
            "outlinewidth": 0,
            "ticks": ""
           }
          },
          "colorscale": {
           "diverging": [
            [
             0,
             "#8e0152"
            ],
            [
             0.1,
             "#c51b7d"
            ],
            [
             0.2,
             "#de77ae"
            ],
            [
             0.3,
             "#f1b6da"
            ],
            [
             0.4,
             "#fde0ef"
            ],
            [
             0.5,
             "#f7f7f7"
            ],
            [
             0.6,
             "#e6f5d0"
            ],
            [
             0.7,
             "#b8e186"
            ],
            [
             0.8,
             "#7fbc41"
            ],
            [
             0.9,
             "#4d9221"
            ],
            [
             1,
             "#276419"
            ]
           ],
           "sequential": [
            [
             0,
             "#0d0887"
            ],
            [
             0.1111111111111111,
             "#46039f"
            ],
            [
             0.2222222222222222,
             "#7201a8"
            ],
            [
             0.3333333333333333,
             "#9c179e"
            ],
            [
             0.4444444444444444,
             "#bd3786"
            ],
            [
             0.5555555555555556,
             "#d8576b"
            ],
            [
             0.6666666666666666,
             "#ed7953"
            ],
            [
             0.7777777777777778,
             "#fb9f3a"
            ],
            [
             0.8888888888888888,
             "#fdca26"
            ],
            [
             1,
             "#f0f921"
            ]
           ],
           "sequentialminus": [
            [
             0,
             "#0d0887"
            ],
            [
             0.1111111111111111,
             "#46039f"
            ],
            [
             0.2222222222222222,
             "#7201a8"
            ],
            [
             0.3333333333333333,
             "#9c179e"
            ],
            [
             0.4444444444444444,
             "#bd3786"
            ],
            [
             0.5555555555555556,
             "#d8576b"
            ],
            [
             0.6666666666666666,
             "#ed7953"
            ],
            [
             0.7777777777777778,
             "#fb9f3a"
            ],
            [
             0.8888888888888888,
             "#fdca26"
            ],
            [
             1,
             "#f0f921"
            ]
           ]
          },
          "colorway": [
           "#636efa",
           "#EF553B",
           "#00cc96",
           "#ab63fa",
           "#FFA15A",
           "#19d3f3",
           "#FF6692",
           "#B6E880",
           "#FF97FF",
           "#FECB52"
          ],
          "font": {
           "color": "#2a3f5f"
          },
          "geo": {
           "bgcolor": "white",
           "lakecolor": "white",
           "landcolor": "#E5ECF6",
           "showlakes": true,
           "showland": true,
           "subunitcolor": "white"
          },
          "hoverlabel": {
           "align": "left"
          },
          "hovermode": "closest",
          "mapbox": {
           "style": "light"
          },
          "paper_bgcolor": "white",
          "plot_bgcolor": "#E5ECF6",
          "polar": {
           "angularaxis": {
            "gridcolor": "white",
            "linecolor": "white",
            "ticks": ""
           },
           "bgcolor": "#E5ECF6",
           "radialaxis": {
            "gridcolor": "white",
            "linecolor": "white",
            "ticks": ""
           }
          },
          "scene": {
           "xaxis": {
            "backgroundcolor": "#E5ECF6",
            "gridcolor": "white",
            "gridwidth": 2,
            "linecolor": "white",
            "showbackground": true,
            "ticks": "",
            "zerolinecolor": "white"
           },
           "yaxis": {
            "backgroundcolor": "#E5ECF6",
            "gridcolor": "white",
            "gridwidth": 2,
            "linecolor": "white",
            "showbackground": true,
            "ticks": "",
            "zerolinecolor": "white"
           },
           "zaxis": {
            "backgroundcolor": "#E5ECF6",
            "gridcolor": "white",
            "gridwidth": 2,
            "linecolor": "white",
            "showbackground": true,
            "ticks": "",
            "zerolinecolor": "white"
           }
          },
          "shapedefaults": {
           "line": {
            "color": "#2a3f5f"
           }
          },
          "ternary": {
           "aaxis": {
            "gridcolor": "white",
            "linecolor": "white",
            "ticks": ""
           },
           "baxis": {
            "gridcolor": "white",
            "linecolor": "white",
            "ticks": ""
           },
           "bgcolor": "#E5ECF6",
           "caxis": {
            "gridcolor": "white",
            "linecolor": "white",
            "ticks": ""
           }
          },
          "title": {
           "x": 0.05
          },
          "xaxis": {
           "automargin": true,
           "gridcolor": "white",
           "linecolor": "white",
           "ticks": "",
           "title": {
            "standoff": 15
           },
           "zerolinecolor": "white",
           "zerolinewidth": 2
          },
          "yaxis": {
           "automargin": true,
           "gridcolor": "white",
           "linecolor": "white",
           "ticks": "",
           "title": {
            "standoff": 15
           },
           "zerolinecolor": "white",
           "zerolinewidth": 2
          }
         }
        },
        "title": {
         "text": "Max Values Over Time"
        },
        "xaxis": {
         "anchor": "y",
         "domain": [
          0,
          1
         ],
         "title": {
          "text": "Time"
         }
        },
        "yaxis": {
         "anchor": "x",
         "domain": [
          0,
          1
         ],
         "title": {
          "text": "Max Value"
         }
        }
       }
      }
     },
     "metadata": {},
     "output_type": "display_data"
    }
   ],
   "source": [
    "# Resource: Query Data with InfluxQL: https://docs.influxdata.com/influxdb/cloud/query-data/influxql/\n",
    "import pandas as pd\n",
    "import plotly.express as px\n",
    "from influxdb_client import InfluxDBClient, Point\n",
    "from datetime import timedelta\n",
    "\n",
    "\n",
    "# Define your InfluxDB connection details\n",
    "#url = \"http://localhost:8086\"\n",
    "#token = \"your_influxdb_token\"\n",
    "#org = \"your_organization\"\n",
    "bucket = \"Tables_Bucket\"\n",
    "\n",
    "# Create an InfluxDB client instance\n",
    "#client = InfluxDBClient(url=url, token=token, org=org)\n",
    "\n",
    "# SQL Query (NOT Flux)\n",
    "query = \"\"\"\n",
    "SELECT max(humidity)\n",
    "FROM airSensors\n",
    "WHERE time >= '2023-09-25T00:00:00Z'\n",
    "GROUP BY time(60m)\n",
    "\"\"\"\n",
    "\n",
    "token = os.environ.get(\"INFLUXDB_TOKEN\")\n",
    "token = \"XE9AyZ-3y-HJNyupKWiLgzVo5JMew-Y31Vq7gbakekdP66wIkBslEdnyrCc-vQ0t9MGFj449z0LvFhepVOwFfw==\"\n",
    "org = \"Dev\"\n",
    "host = \"https://us-east-1-1.aws.cloud2.influxdata.com\"\n",
    "\n",
    "client = InfluxDBClient3(host=host, token=token, org=org, ssl_ca_cert=certifi.where())\n",
    "# You can bring only the schema to help troubleshooting\n",
    "# schema = client.query(query=query, database=\"Tables_Bucket\", mode=\"schema\", language=\"influxql\")\n",
    "# print(schema)\n",
    "\n",
    "table = client.query(query=query, database=\"Tables_Bucket\", mode =\"all\", language=\"influxql\")\n",
    "dataframe = table.to_pandas() # This one automatically eliminitaes the NULL values. Not good. \n",
    "print (table)\n",
    "\n",
    "# Create a dictionary from the data\n",
    "data_dict = {\n",
    "    \"Measurement\": table[0],\n",
    "    \"Time\": table[1],\n",
    "    \"Max\": table[2]\n",
    "}\n",
    "\n",
    "# Create a Pandas DataFrame\n",
    "df = pd.DataFrame(data_dict)\n",
    "\n",
    "print(df)\n",
    "\n",
    "# Create a line plot using Plotly Express\n",
    "fig = px.line(df, x=\"Time\", y=\"Max\", title=\"Max Values Over Time\", labels={\"Max\": \"Max Value\"})\n",
    "\n",
    "# Show the plot\n",
    "fig.show()\n",
    "\n",
    "# Close the client connection\n",
    "client.close()\n"
   ]
  },
  {
   "cell_type": "markdown",
   "metadata": {},
   "source": [
    "## TEsting Line Protocol"
   ]
  },
  {
   "cell_type": "code",
   "execution_count": 22,
   "metadata": {},
   "outputs": [],
   "source": [
    "%%bash\n",
    "influx write -b Tables_Bucket -o Dev -f /Users/itaybraun/Documents/GitHub/db-observability-toolkit/Research_Notebooks/influx_line_protocol_1.txt\n",
    "  "
   ]
  },
  {
   "cell_type": "markdown",
   "metadata": {},
   "source": [
    "## Testing CSV"
   ]
  },
  {
   "cell_type": "code",
   "execution_count": 23,
   "metadata": {},
   "outputs": [],
   "source": [
    "%%bash\n",
    "influx write --bucket Tables_Bucket --f /Users/itaybraun/Documents/GitHub/db-observability-toolkit/Research_Notebooks/influx_csv.csv"
   ]
  },
  {
   "cell_type": "markdown",
   "metadata": {},
   "source": [
    "Testing CSV, now with more data"
   ]
  },
  {
   "cell_type": "code",
   "execution_count": 24,
   "metadata": {},
   "outputs": [
    {
     "name": "stdout",
     "output_type": "stream",
     "text": [
      "Data generation complete. Output written to queries.csv.\n"
     ]
    }
   ],
   "source": [
    "import csv\n",
    "from datetime import datetime, timedelta\n",
    "\n",
    "# Define the parameters\n",
    "host = \"host1\"\n",
    "database = \"db1\"\n",
    "query_ids = [\"qry1\", \"qry2\", \"qry3\", \"qry4\", \"qry5\", \"qry6\", \"qry7\", \"qry8\", \"qry9\", \"qry10\"]\n",
    "start_time = datetime(2023, 9, 13, 0, 0, 0)  # Sep 13, 2023, 00:00:00\n",
    "calls_increment = 1000\n",
    "time_difference = timedelta(minutes=5)\n",
    "\n",
    "# Generate and write the CSV data\n",
    "with open('queries.csv', 'w', newline='') as csvfile:\n",
    "    fieldnames = ['#datatype measurement', 'tag', 'tag', 'tag', 'double', 'double', 'double', 'dateTime:RFC3339']\n",
    "    writer = csv.writer(csvfile)\n",
    "    \n",
    "    # Write the first row of metadata\n",
    "    writer.writerow(fieldnames)\n",
    "\n",
    "    # Write the second row with field names\n",
    "    writer.writerow(['queries', 'host', 'db', 'query_id', 'calls', 'total_exec_time', 'rows_read', 'time'])\n",
    "\n",
    "    # Generate 400 rows for each of the 10 query IDs\n",
    "    for query_id in query_ids:\n",
    "        for i in range(4000):\n",
    "            timestamp = start_time + i * time_difference\n",
    "            calls = i * calls_increment\n",
    "\n",
    "            # Create a list representing a row of data\n",
    "            row = [\n",
    "                'queries',\n",
    "                host,\n",
    "                database,\n",
    "                query_id,\n",
    "                calls,\n",
    "                calls * 8,  # Assuming a constant multiplier for total_exec_time\n",
    "                calls * 1000,  # Assuming a constant multiplier for rows_read\n",
    "                timestamp.isoformat() + 'Z'\n",
    "            ]\n",
    "\n",
    "            # Write the row to the CSV file\n",
    "            writer.writerow(row)\n",
    "\n",
    "print(\"Data generation complete. Output written to queries.csv.\")\n"
   ]
  },
  {
   "cell_type": "code",
   "execution_count": 25,
   "metadata": {},
   "outputs": [
    {
     "name": "stdout",
     "output_type": "stream",
     "text": [
      "Number of rows in the file: 40,000\n",
      "File size: 2820.23 KB\n"
     ]
    }
   ],
   "source": [
    "# Verify the file was created succesfully. and its size. \n",
    "import os\n",
    "\n",
    "file_path = 'queries.csv'\n",
    "\n",
    "# Function to get the number of rows and file size\n",
    "def get_file_stats(file_path):\n",
    "    with open(file_path, 'r') as file:\n",
    "        # Read the number of rows (excluding header rows)\n",
    "        num_rows = sum(1 for row in file) - 2  # Subtracting 2 for the header rows\n",
    "\n",
    "    # Get file size in kilobytes\n",
    "    file_size_kb = os.path.getsize(file_path) / 1024\n",
    "\n",
    "    return num_rows, file_size_kb\n",
    "\n",
    "# Get file statistics\n",
    "num_rows, file_size_kb = get_file_stats(file_path)\n",
    "\n",
    "# Format the number of rows with commas\n",
    "formatted_num_rows = \"{:,}\".format(num_rows)\n",
    "\n",
    "# Display the results\n",
    "print(f\"Number of rows in the file: {formatted_num_rows}\")\n",
    "print(f\"File size: {file_size_kb:.2f} KB\")\n"
   ]
  },
  {
   "cell_type": "code",
   "execution_count": 26,
   "metadata": {},
   "outputs": [],
   "source": [
    "%%bash\n",
    "# influx write -b Tables_Bucket -o Dev -f /Users/itaybraun/Documents/GitHub/db-observability-toolkit/Research_Notebooks/queries.csv"
   ]
  },
  {
   "cell_type": "markdown",
   "metadata": {},
   "source": [
    "Read using InfluxQL"
   ]
  },
  {
   "cell_type": "code",
   "execution_count": 44,
   "metadata": {},
   "outputs": [
    {
     "name": "stdout",
     "output_type": "stream",
     "text": [
      "Result: _result\n",
      "Table: keys: [_field, db, host, query_id]\n",
      "         _field:string               db:string             host:string         query_id:string                      _time:time                  _value:float\n",
      "----------------------  ----------------------  ----------------------  ----------------------  ------------------------------  ----------------------------\n",
      "                 calls                     db1                   host1                    qry1  2023-09-13T17:00:00.000000000Z                         12000\n",
      "                 calls                     db1                   host1                    qry1  2023-09-13T18:00:00.000000000Z                         12000\n",
      "                 calls                     db1                   host1                    qry1  2023-09-13T19:00:00.000000000Z                         12000\n",
      "                 calls                     db1                   host1                    qry1  2023-09-13T20:00:00.000000000Z                         12000\n",
      "                 calls                     db1                   host1                    qry1  2023-09-13T21:00:00.000000000Z                         12000\n",
      "                 calls                     db1                   host1                    qry1  2023-09-13T22:00:00.000000000Z                         12000\n",
      "                 calls                     db1                   host1                    qry1  2023-09-13T23:00:00.000000000Z                         12000\n",
      "                 calls                     db1                   host1                    qry1  2023-09-14T00:00:00.000000000Z                         12000\n",
      "                 calls                     db1                   host1                    qry1  2023-09-14T01:00:00.000000000Z                         12000\n",
      "                 calls                     db1                   host1                    qry1  2023-09-14T02:00:00.000000000Z                         12000\n",
      "                 calls                     db1                   host1                    qry1  2023-09-14T03:00:00.000000000Z                         12000\n",
      "                 calls                     db1                   host1                    qry1  2023-09-14T04:00:00.000000000Z                         12000\n",
      "                 calls                     db1                   host1                    qry1  2023-09-14T05:00:00.000000000Z                         12000\n",
      "                 calls                     db1                   host1                    qry1  2023-09-14T06:00:00.000000000Z                         12000\n",
      "                 calls                     db1                   host1                    qry1  2023-09-14T07:00:00.000000000Z                         12000\n",
      "                 calls                     db1                   host1                    qry1  2023-09-14T08:00:00.000000000Z                         12000\n",
      "                 calls                     db1                   host1                    qry1  2023-09-14T09:00:00.000000000Z                         12000\n",
      "                 calls                     db1                   host1                    qry1  2023-09-14T10:00:00.000000000Z                          4000\n",
      "                 calls                     db1                   host1                    qry1  2023-09-14T11:00:00.000000000Z                              \n",
      "                 calls                     db1                   host1                    qry1  2023-09-14T12:00:00.000000000Z                              \n",
      "                 calls                     db1                   host1                    qry1  2023-09-14T13:00:00.000000000Z                              \n",
      "                 calls                     db1                   host1                    qry1  2023-09-14T14:00:00.000000000Z                              \n",
      "                 calls                     db1                   host1                    qry1  2023-09-14T15:00:00.000000000Z                              \n",
      "                 calls                     db1                   host1                    qry1  2023-09-14T16:00:00.000000000Z                              \n",
      "                 calls                     db1                   host1                    qry1  2023-09-14T17:00:00.000000000Z                              \n",
      "                 calls                     db1                   host1                    qry1  2023-09-14T18:00:00.000000000Z                              \n",
      "                 calls                     db1                   host1                    qry1  2023-09-14T19:00:00.000000000Z                              \n",
      "                 calls                     db1                   host1                    qry1  2023-09-14T20:00:00.000000000Z                              \n",
      "                 calls                     db1                   host1                    qry1  2023-09-14T21:00:00.000000000Z                              \n",
      "                 calls                     db1                   host1                    qry1  2023-09-14T22:00:00.000000000Z                              \n",
      "                 calls                     db1                   host1                    qry1  2023-09-14T23:00:00.000000000Z                              \n",
      "                 calls                     db1                   host1                    qry1  2023-09-15T00:00:00.000000000Z                              \n",
      "                 calls                     db1                   host1                    qry1  2023-09-15T01:00:00.000000000Z                              \n",
      "                 calls                     db1                   host1                    qry1  2023-09-15T02:00:00.000000000Z                              \n",
      "                 calls                     db1                   host1                    qry1  2023-09-15T03:00:00.000000000Z                              \n",
      "                 calls                     db1                   host1                    qry1  2023-09-15T04:00:00.000000000Z                              \n",
      "                 calls                     db1                   host1                    qry1  2023-09-15T05:00:00.000000000Z                              \n",
      "                 calls                     db1                   host1                    qry1  2023-09-15T06:00:00.000000000Z                              \n",
      "                 calls                     db1                   host1                    qry1  2023-09-15T07:00:00.000000000Z                              \n",
      "                 calls                     db1                   host1                    qry1  2023-09-15T08:00:00.000000000Z                              \n",
      "                 calls                     db1                   host1                    qry1  2023-09-15T09:00:00.000000000Z                              \n",
      "                 calls                     db1                   host1                    qry1  2023-09-15T10:00:00.000000000Z                              \n",
      "                 calls                     db1                   host1                    qry1  2023-09-15T11:00:00.000000000Z                              \n",
      "                 calls                     db1                   host1                    qry1  2023-09-15T12:00:00.000000000Z                              \n",
      "                 calls                     db1                   host1                    qry1  2023-09-15T13:00:00.000000000Z                              \n",
      "                 calls                     db1                   host1                    qry1  2023-09-15T14:00:00.000000000Z                              \n",
      "                 calls                     db1                   host1                    qry1  2023-09-15T15:00:00.000000000Z                              \n",
      "                 calls                     db1                   host1                    qry1  2023-09-15T15:37:03.707164398Z                              \n"
     ]
    }
   ],
   "source": [
    "%%bash\n",
    "influx query \\\n",
    "'from(bucket: \"Tables_Bucket\")\n",
    "  |> range(start: -14d, stop: -12d)\n",
    "  |> filter(fn: (r) => r._measurement == \"m\" and r._field == \"calls\" and r.query_id == \"qry1\")\n",
    "  |> aggregateWindow(every: 60m, fn: max)\n",
    "  |> difference(nonNegative: true)\n",
    "  |> drop(columns: [\"_start\", \"_stop\", \"_measurement\"])'"
   ]
  },
  {
   "cell_type": "code",
   "execution_count": 48,
   "metadata": {},
   "outputs": [
    {
     "name": "stdout",
     "output_type": "stream",
     "text": [
      "pyarrow.Table\n",
      "iox::measurement: string not null\n",
      "time: timestamp[ns]\n",
      "difference_calls: double\n",
      "----\n",
      "iox::measurement: []\n",
      "time: []\n",
      "difference_calls: []\n"
     ]
    }
   ],
   "source": [
    "# Define your InfluxDB connection details\n",
    "#url = \"http://localhost:8086\"\n",
    "#token = \"your_influxdb_token\"\n",
    "#org = \"your_organization\"\n",
    "bucket = \"Tables_Bucket\"\n",
    "\n",
    "# SQL Query (NOT Flux)\n",
    "query = \"\"\"\n",
    "SELECT query_id, max(calls)\n",
    "FROM \"queries\"\n",
    "WHERE time >= '2023-09-25T00:00:00Z'\n",
    "GROUP by query_id, time(60m)\n",
    "\"\"\"\n",
    "\n",
    "## Query_2 Doesn't work\n",
    "query_2 = \"\"\"\n",
    "SELECT derivative(max(\"calls\"), 5m) AS \"difference_calls\"\n",
    "FROM \"queries\"\n",
    "WHERE time >= -14d AND time < -12d AND query_id = 'qry1'\n",
    "GROUP BY time(60m) fill(null)\n",
    "\"\"\"\n",
    "\n",
    "token = os.environ.get(\"INFLUXDB_TOKEN\")\n",
    "token = \"XE9AyZ-3y-HJNyupKWiLgzVo5JMew-Y31Vq7gbakekdP66wIkBslEdnyrCc-vQ0t9MGFj449z0LvFhepVOwFfw==\"\n",
    "org = \"Dev\"\n",
    "host = \"https://us-east-1-1.aws.cloud2.influxdata.com\"\n",
    "\n",
    "client = InfluxDBClient3(host=host, token=token, org=org, ssl_ca_cert=certifi.where())\n",
    "# You can bring only the schema to help troubleshooting\n",
    "# schema = client.query(query=query, database=\"Tables_Bucket\", mode=\"schema\", language=\"influxql\")\n",
    "# print(schema)\n",
    "\n",
    "table = client.query(query=query_2, database=\"Tables_Bucket\", mode =\"all\", language=\"influxql\")\n",
    "dataframe = table.to_pandas() # This one automatically eliminitaes the NULL values. Not good. \n",
    "print (table)\n",
    "\n",
    "\n",
    "# Close the client connection\n",
    "client.close()\n"
   ]
  },
  {
   "cell_type": "markdown",
   "metadata": {},
   "source": [
    "## Delete a bucket\n"
   ]
  },
  {
   "cell_type": "code",
   "execution_count": 27,
   "metadata": {},
   "outputs": [
    {
     "ename": "ConnectionError",
     "evalue": "HTTPConnectionPool(host='localhost', port=8086): Max retries exceeded with url: /api/v2/buckets/your_organization/your_bucket (Caused by NewConnectionError('<urllib3.connection.HTTPConnection object at 0x12c6c37c0>: Failed to establish a new connection: [Errno 61] Connection refused'))",
     "output_type": "error",
     "traceback": [
      "\u001b[0;31m---------------------------------------------------------------------------\u001b[0m",
      "\u001b[0;31mConnectionRefusedError\u001b[0m                    Traceback (most recent call last)",
      "File \u001b[0;32m/Library/Frameworks/Python.framework/Versions/3.10/lib/python3.10/site-packages/urllib3/connection.py:174\u001b[0m, in \u001b[0;36mHTTPConnection._new_conn\u001b[0;34m(self)\u001b[0m\n\u001b[1;32m    173\u001b[0m \u001b[39mtry\u001b[39;00m:\n\u001b[0;32m--> 174\u001b[0m     conn \u001b[39m=\u001b[39m connection\u001b[39m.\u001b[39;49mcreate_connection(\n\u001b[1;32m    175\u001b[0m         (\u001b[39mself\u001b[39;49m\u001b[39m.\u001b[39;49m_dns_host, \u001b[39mself\u001b[39;49m\u001b[39m.\u001b[39;49mport), \u001b[39mself\u001b[39;49m\u001b[39m.\u001b[39;49mtimeout, \u001b[39m*\u001b[39;49m\u001b[39m*\u001b[39;49mextra_kw\n\u001b[1;32m    176\u001b[0m     )\n\u001b[1;32m    178\u001b[0m \u001b[39mexcept\u001b[39;00m SocketTimeout:\n",
      "File \u001b[0;32m/Library/Frameworks/Python.framework/Versions/3.10/lib/python3.10/site-packages/urllib3/util/connection.py:95\u001b[0m, in \u001b[0;36mcreate_connection\u001b[0;34m(address, timeout, source_address, socket_options)\u001b[0m\n\u001b[1;32m     94\u001b[0m \u001b[39mif\u001b[39;00m err \u001b[39mis\u001b[39;00m \u001b[39mnot\u001b[39;00m \u001b[39mNone\u001b[39;00m:\n\u001b[0;32m---> 95\u001b[0m     \u001b[39mraise\u001b[39;00m err\n\u001b[1;32m     97\u001b[0m \u001b[39mraise\u001b[39;00m socket\u001b[39m.\u001b[39merror(\u001b[39m\"\u001b[39m\u001b[39mgetaddrinfo returns an empty list\u001b[39m\u001b[39m\"\u001b[39m)\n",
      "File \u001b[0;32m/Library/Frameworks/Python.framework/Versions/3.10/lib/python3.10/site-packages/urllib3/util/connection.py:85\u001b[0m, in \u001b[0;36mcreate_connection\u001b[0;34m(address, timeout, source_address, socket_options)\u001b[0m\n\u001b[1;32m     84\u001b[0m     sock\u001b[39m.\u001b[39mbind(source_address)\n\u001b[0;32m---> 85\u001b[0m sock\u001b[39m.\u001b[39;49mconnect(sa)\n\u001b[1;32m     86\u001b[0m \u001b[39mreturn\u001b[39;00m sock\n",
      "\u001b[0;31mConnectionRefusedError\u001b[0m: [Errno 61] Connection refused",
      "\nDuring handling of the above exception, another exception occurred:\n",
      "\u001b[0;31mNewConnectionError\u001b[0m                        Traceback (most recent call last)",
      "File \u001b[0;32m/Library/Frameworks/Python.framework/Versions/3.10/lib/python3.10/site-packages/urllib3/connectionpool.py:714\u001b[0m, in \u001b[0;36mHTTPConnectionPool.urlopen\u001b[0;34m(self, method, url, body, headers, retries, redirect, assert_same_host, timeout, pool_timeout, release_conn, chunked, body_pos, **response_kw)\u001b[0m\n\u001b[1;32m    713\u001b[0m \u001b[39m# Make the request on the httplib connection object.\u001b[39;00m\n\u001b[0;32m--> 714\u001b[0m httplib_response \u001b[39m=\u001b[39m \u001b[39mself\u001b[39;49m\u001b[39m.\u001b[39;49m_make_request(\n\u001b[1;32m    715\u001b[0m     conn,\n\u001b[1;32m    716\u001b[0m     method,\n\u001b[1;32m    717\u001b[0m     url,\n\u001b[1;32m    718\u001b[0m     timeout\u001b[39m=\u001b[39;49mtimeout_obj,\n\u001b[1;32m    719\u001b[0m     body\u001b[39m=\u001b[39;49mbody,\n\u001b[1;32m    720\u001b[0m     headers\u001b[39m=\u001b[39;49mheaders,\n\u001b[1;32m    721\u001b[0m     chunked\u001b[39m=\u001b[39;49mchunked,\n\u001b[1;32m    722\u001b[0m )\n\u001b[1;32m    724\u001b[0m \u001b[39m# If we're going to release the connection in ``finally:``, then\u001b[39;00m\n\u001b[1;32m    725\u001b[0m \u001b[39m# the response doesn't need to know about the connection. Otherwise\u001b[39;00m\n\u001b[1;32m    726\u001b[0m \u001b[39m# it will also try to release it and we'll have a double-release\u001b[39;00m\n\u001b[1;32m    727\u001b[0m \u001b[39m# mess.\u001b[39;00m\n",
      "File \u001b[0;32m/Library/Frameworks/Python.framework/Versions/3.10/lib/python3.10/site-packages/urllib3/connectionpool.py:415\u001b[0m, in \u001b[0;36mHTTPConnectionPool._make_request\u001b[0;34m(self, conn, method, url, timeout, chunked, **httplib_request_kw)\u001b[0m\n\u001b[1;32m    414\u001b[0m     \u001b[39melse\u001b[39;00m:\n\u001b[0;32m--> 415\u001b[0m         conn\u001b[39m.\u001b[39;49mrequest(method, url, \u001b[39m*\u001b[39;49m\u001b[39m*\u001b[39;49mhttplib_request_kw)\n\u001b[1;32m    417\u001b[0m \u001b[39m# We are swallowing BrokenPipeError (errno.EPIPE) since the server is\u001b[39;00m\n\u001b[1;32m    418\u001b[0m \u001b[39m# legitimately able to close the connection after sending a valid response.\u001b[39;00m\n\u001b[1;32m    419\u001b[0m \u001b[39m# With this behaviour, the received response is still readable.\u001b[39;00m\n",
      "File \u001b[0;32m/Library/Frameworks/Python.framework/Versions/3.10/lib/python3.10/site-packages/urllib3/connection.py:244\u001b[0m, in \u001b[0;36mHTTPConnection.request\u001b[0;34m(self, method, url, body, headers)\u001b[0m\n\u001b[1;32m    243\u001b[0m     headers[\u001b[39m\"\u001b[39m\u001b[39mUser-Agent\u001b[39m\u001b[39m\"\u001b[39m] \u001b[39m=\u001b[39m _get_default_user_agent()\n\u001b[0;32m--> 244\u001b[0m \u001b[39msuper\u001b[39;49m(HTTPConnection, \u001b[39mself\u001b[39;49m)\u001b[39m.\u001b[39;49mrequest(method, url, body\u001b[39m=\u001b[39;49mbody, headers\u001b[39m=\u001b[39;49mheaders)\n",
      "File \u001b[0;32m/Library/Frameworks/Python.framework/Versions/3.10/lib/python3.10/http/client.py:1282\u001b[0m, in \u001b[0;36mHTTPConnection.request\u001b[0;34m(self, method, url, body, headers, encode_chunked)\u001b[0m\n\u001b[1;32m   1281\u001b[0m \u001b[39m\"\"\"Send a complete request to the server.\"\"\"\u001b[39;00m\n\u001b[0;32m-> 1282\u001b[0m \u001b[39mself\u001b[39;49m\u001b[39m.\u001b[39;49m_send_request(method, url, body, headers, encode_chunked)\n",
      "File \u001b[0;32m/Library/Frameworks/Python.framework/Versions/3.10/lib/python3.10/http/client.py:1328\u001b[0m, in \u001b[0;36mHTTPConnection._send_request\u001b[0;34m(self, method, url, body, headers, encode_chunked)\u001b[0m\n\u001b[1;32m   1327\u001b[0m     body \u001b[39m=\u001b[39m _encode(body, \u001b[39m'\u001b[39m\u001b[39mbody\u001b[39m\u001b[39m'\u001b[39m)\n\u001b[0;32m-> 1328\u001b[0m \u001b[39mself\u001b[39;49m\u001b[39m.\u001b[39;49mendheaders(body, encode_chunked\u001b[39m=\u001b[39;49mencode_chunked)\n",
      "File \u001b[0;32m/Library/Frameworks/Python.framework/Versions/3.10/lib/python3.10/http/client.py:1277\u001b[0m, in \u001b[0;36mHTTPConnection.endheaders\u001b[0;34m(self, message_body, encode_chunked)\u001b[0m\n\u001b[1;32m   1276\u001b[0m     \u001b[39mraise\u001b[39;00m CannotSendHeader()\n\u001b[0;32m-> 1277\u001b[0m \u001b[39mself\u001b[39;49m\u001b[39m.\u001b[39;49m_send_output(message_body, encode_chunked\u001b[39m=\u001b[39;49mencode_chunked)\n",
      "File \u001b[0;32m/Library/Frameworks/Python.framework/Versions/3.10/lib/python3.10/http/client.py:1037\u001b[0m, in \u001b[0;36mHTTPConnection._send_output\u001b[0;34m(self, message_body, encode_chunked)\u001b[0m\n\u001b[1;32m   1036\u001b[0m \u001b[39mdel\u001b[39;00m \u001b[39mself\u001b[39m\u001b[39m.\u001b[39m_buffer[:]\n\u001b[0;32m-> 1037\u001b[0m \u001b[39mself\u001b[39;49m\u001b[39m.\u001b[39;49msend(msg)\n\u001b[1;32m   1039\u001b[0m \u001b[39mif\u001b[39;00m message_body \u001b[39mis\u001b[39;00m \u001b[39mnot\u001b[39;00m \u001b[39mNone\u001b[39;00m:\n\u001b[1;32m   1040\u001b[0m \n\u001b[1;32m   1041\u001b[0m     \u001b[39m# create a consistent interface to message_body\u001b[39;00m\n",
      "File \u001b[0;32m/Library/Frameworks/Python.framework/Versions/3.10/lib/python3.10/http/client.py:975\u001b[0m, in \u001b[0;36mHTTPConnection.send\u001b[0;34m(self, data)\u001b[0m\n\u001b[1;32m    974\u001b[0m \u001b[39mif\u001b[39;00m \u001b[39mself\u001b[39m\u001b[39m.\u001b[39mauto_open:\n\u001b[0;32m--> 975\u001b[0m     \u001b[39mself\u001b[39;49m\u001b[39m.\u001b[39;49mconnect()\n\u001b[1;32m    976\u001b[0m \u001b[39melse\u001b[39;00m:\n",
      "File \u001b[0;32m/Library/Frameworks/Python.framework/Versions/3.10/lib/python3.10/site-packages/urllib3/connection.py:205\u001b[0m, in \u001b[0;36mHTTPConnection.connect\u001b[0;34m(self)\u001b[0m\n\u001b[1;32m    204\u001b[0m \u001b[39mdef\u001b[39;00m \u001b[39mconnect\u001b[39m(\u001b[39mself\u001b[39m):\n\u001b[0;32m--> 205\u001b[0m     conn \u001b[39m=\u001b[39m \u001b[39mself\u001b[39;49m\u001b[39m.\u001b[39;49m_new_conn()\n\u001b[1;32m    206\u001b[0m     \u001b[39mself\u001b[39m\u001b[39m.\u001b[39m_prepare_conn(conn)\n",
      "File \u001b[0;32m/Library/Frameworks/Python.framework/Versions/3.10/lib/python3.10/site-packages/urllib3/connection.py:186\u001b[0m, in \u001b[0;36mHTTPConnection._new_conn\u001b[0;34m(self)\u001b[0m\n\u001b[1;32m    185\u001b[0m \u001b[39mexcept\u001b[39;00m SocketError \u001b[39mas\u001b[39;00m e:\n\u001b[0;32m--> 186\u001b[0m     \u001b[39mraise\u001b[39;00m NewConnectionError(\n\u001b[1;32m    187\u001b[0m         \u001b[39mself\u001b[39m, \u001b[39m\"\u001b[39m\u001b[39mFailed to establish a new connection: \u001b[39m\u001b[39m%s\u001b[39;00m\u001b[39m\"\u001b[39m \u001b[39m%\u001b[39m e\n\u001b[1;32m    188\u001b[0m     )\n\u001b[1;32m    190\u001b[0m \u001b[39mreturn\u001b[39;00m conn\n",
      "\u001b[0;31mNewConnectionError\u001b[0m: <urllib3.connection.HTTPConnection object at 0x12c6c37c0>: Failed to establish a new connection: [Errno 61] Connection refused",
      "\nDuring handling of the above exception, another exception occurred:\n",
      "\u001b[0;31mMaxRetryError\u001b[0m                             Traceback (most recent call last)",
      "File \u001b[0;32m/Library/Frameworks/Python.framework/Versions/3.10/lib/python3.10/site-packages/requests/adapters.py:486\u001b[0m, in \u001b[0;36mHTTPAdapter.send\u001b[0;34m(self, request, stream, timeout, verify, cert, proxies)\u001b[0m\n\u001b[1;32m    485\u001b[0m \u001b[39mtry\u001b[39;00m:\n\u001b[0;32m--> 486\u001b[0m     resp \u001b[39m=\u001b[39m conn\u001b[39m.\u001b[39;49murlopen(\n\u001b[1;32m    487\u001b[0m         method\u001b[39m=\u001b[39;49mrequest\u001b[39m.\u001b[39;49mmethod,\n\u001b[1;32m    488\u001b[0m         url\u001b[39m=\u001b[39;49murl,\n\u001b[1;32m    489\u001b[0m         body\u001b[39m=\u001b[39;49mrequest\u001b[39m.\u001b[39;49mbody,\n\u001b[1;32m    490\u001b[0m         headers\u001b[39m=\u001b[39;49mrequest\u001b[39m.\u001b[39;49mheaders,\n\u001b[1;32m    491\u001b[0m         redirect\u001b[39m=\u001b[39;49m\u001b[39mFalse\u001b[39;49;00m,\n\u001b[1;32m    492\u001b[0m         assert_same_host\u001b[39m=\u001b[39;49m\u001b[39mFalse\u001b[39;49;00m,\n\u001b[1;32m    493\u001b[0m         preload_content\u001b[39m=\u001b[39;49m\u001b[39mFalse\u001b[39;49;00m,\n\u001b[1;32m    494\u001b[0m         decode_content\u001b[39m=\u001b[39;49m\u001b[39mFalse\u001b[39;49;00m,\n\u001b[1;32m    495\u001b[0m         retries\u001b[39m=\u001b[39;49m\u001b[39mself\u001b[39;49m\u001b[39m.\u001b[39;49mmax_retries,\n\u001b[1;32m    496\u001b[0m         timeout\u001b[39m=\u001b[39;49mtimeout,\n\u001b[1;32m    497\u001b[0m         chunked\u001b[39m=\u001b[39;49mchunked,\n\u001b[1;32m    498\u001b[0m     )\n\u001b[1;32m    500\u001b[0m \u001b[39mexcept\u001b[39;00m (ProtocolError, \u001b[39mOSError\u001b[39;00m) \u001b[39mas\u001b[39;00m err:\n",
      "File \u001b[0;32m/Library/Frameworks/Python.framework/Versions/3.10/lib/python3.10/site-packages/urllib3/connectionpool.py:798\u001b[0m, in \u001b[0;36mHTTPConnectionPool.urlopen\u001b[0;34m(self, method, url, body, headers, retries, redirect, assert_same_host, timeout, pool_timeout, release_conn, chunked, body_pos, **response_kw)\u001b[0m\n\u001b[1;32m    796\u001b[0m     e \u001b[39m=\u001b[39m ProtocolError(\u001b[39m\"\u001b[39m\u001b[39mConnection aborted.\u001b[39m\u001b[39m\"\u001b[39m, e)\n\u001b[0;32m--> 798\u001b[0m retries \u001b[39m=\u001b[39m retries\u001b[39m.\u001b[39;49mincrement(\n\u001b[1;32m    799\u001b[0m     method, url, error\u001b[39m=\u001b[39;49me, _pool\u001b[39m=\u001b[39;49m\u001b[39mself\u001b[39;49m, _stacktrace\u001b[39m=\u001b[39;49msys\u001b[39m.\u001b[39;49mexc_info()[\u001b[39m2\u001b[39;49m]\n\u001b[1;32m    800\u001b[0m )\n\u001b[1;32m    801\u001b[0m retries\u001b[39m.\u001b[39msleep()\n",
      "File \u001b[0;32m/Library/Frameworks/Python.framework/Versions/3.10/lib/python3.10/site-packages/urllib3/util/retry.py:592\u001b[0m, in \u001b[0;36mRetry.increment\u001b[0;34m(self, method, url, response, error, _pool, _stacktrace)\u001b[0m\n\u001b[1;32m    591\u001b[0m \u001b[39mif\u001b[39;00m new_retry\u001b[39m.\u001b[39mis_exhausted():\n\u001b[0;32m--> 592\u001b[0m     \u001b[39mraise\u001b[39;00m MaxRetryError(_pool, url, error \u001b[39mor\u001b[39;00m ResponseError(cause))\n\u001b[1;32m    594\u001b[0m log\u001b[39m.\u001b[39mdebug(\u001b[39m\"\u001b[39m\u001b[39mIncremented Retry for (url=\u001b[39m\u001b[39m'\u001b[39m\u001b[39m%s\u001b[39;00m\u001b[39m'\u001b[39m\u001b[39m): \u001b[39m\u001b[39m%r\u001b[39;00m\u001b[39m\"\u001b[39m, url, new_retry)\n",
      "\u001b[0;31mMaxRetryError\u001b[0m: HTTPConnectionPool(host='localhost', port=8086): Max retries exceeded with url: /api/v2/buckets/your_organization/your_bucket (Caused by NewConnectionError('<urllib3.connection.HTTPConnection object at 0x12c6c37c0>: Failed to establish a new connection: [Errno 61] Connection refused'))",
      "\nDuring handling of the above exception, another exception occurred:\n",
      "\u001b[0;31mConnectionError\u001b[0m                           Traceback (most recent call last)",
      "\u001b[1;32m/Users/itaybraun/Documents/GitHub/db-observability-toolkit/Research_Notebooks/influx_v3.ipynb Cell 27\u001b[0m line \u001b[0;36m2\n\u001b[1;32m     <a href='vscode-notebook-cell:/Users/itaybraun/Documents/GitHub/db-observability-toolkit/Research_Notebooks/influx_v3.ipynb#X31sZmlsZQ%3D%3D?line=14'>15</a>\u001b[0m headers \u001b[39m=\u001b[39m {\n\u001b[1;32m     <a href='vscode-notebook-cell:/Users/itaybraun/Documents/GitHub/db-observability-toolkit/Research_Notebooks/influx_v3.ipynb#X31sZmlsZQ%3D%3D?line=15'>16</a>\u001b[0m     \u001b[39m\"\u001b[39m\u001b[39mAuthorization\u001b[39m\u001b[39m\"\u001b[39m: \u001b[39mf\u001b[39m\u001b[39m\"\u001b[39m\u001b[39mToken \u001b[39m\u001b[39m{\u001b[39;00mtoken\u001b[39m}\u001b[39;00m\u001b[39m\"\u001b[39m \u001b[39mif\u001b[39;00m token \u001b[39melse\u001b[39;00m \u001b[39m\"\u001b[39m\u001b[39m\"\u001b[39m,\n\u001b[1;32m     <a href='vscode-notebook-cell:/Users/itaybraun/Documents/GitHub/db-observability-toolkit/Research_Notebooks/influx_v3.ipynb#X31sZmlsZQ%3D%3D?line=16'>17</a>\u001b[0m }\n\u001b[1;32m     <a href='vscode-notebook-cell:/Users/itaybraun/Documents/GitHub/db-observability-toolkit/Research_Notebooks/influx_v3.ipynb#X31sZmlsZQ%3D%3D?line=18'>19</a>\u001b[0m \u001b[39m# Send the DELETE request to delete the bucket\u001b[39;00m\n\u001b[0;32m---> <a href='vscode-notebook-cell:/Users/itaybraun/Documents/GitHub/db-observability-toolkit/Research_Notebooks/influx_v3.ipynb#X31sZmlsZQ%3D%3D?line=19'>20</a>\u001b[0m response \u001b[39m=\u001b[39m requests\u001b[39m.\u001b[39;49mdelete(url, headers\u001b[39m=\u001b[39;49mheaders)\n\u001b[1;32m     <a href='vscode-notebook-cell:/Users/itaybraun/Documents/GitHub/db-observability-toolkit/Research_Notebooks/influx_v3.ipynb#X31sZmlsZQ%3D%3D?line=21'>22</a>\u001b[0m \u001b[39m# Check the response status code\u001b[39;00m\n\u001b[1;32m     <a href='vscode-notebook-cell:/Users/itaybraun/Documents/GitHub/db-observability-toolkit/Research_Notebooks/influx_v3.ipynb#X31sZmlsZQ%3D%3D?line=22'>23</a>\u001b[0m \u001b[39mif\u001b[39;00m response\u001b[39m.\u001b[39mstatus_code \u001b[39m==\u001b[39m \u001b[39m204\u001b[39m:\n",
      "File \u001b[0;32m/Library/Frameworks/Python.framework/Versions/3.10/lib/python3.10/site-packages/requests/api.py:157\u001b[0m, in \u001b[0;36mdelete\u001b[0;34m(url, **kwargs)\u001b[0m\n\u001b[1;32m    148\u001b[0m \u001b[39mdef\u001b[39;00m \u001b[39mdelete\u001b[39m(url, \u001b[39m*\u001b[39m\u001b[39m*\u001b[39mkwargs):\n\u001b[1;32m    149\u001b[0m     \u001b[39mr\u001b[39m\u001b[39m\"\"\"Sends a DELETE request.\u001b[39;00m\n\u001b[1;32m    150\u001b[0m \n\u001b[1;32m    151\u001b[0m \u001b[39m    :param url: URL for the new :class:`Request` object.\u001b[39;00m\n\u001b[0;32m   (...)\u001b[0m\n\u001b[1;32m    154\u001b[0m \u001b[39m    :rtype: requests.Response\u001b[39;00m\n\u001b[1;32m    155\u001b[0m \u001b[39m    \"\"\"\u001b[39;00m\n\u001b[0;32m--> 157\u001b[0m     \u001b[39mreturn\u001b[39;00m request(\u001b[39m\"\u001b[39;49m\u001b[39mdelete\u001b[39;49m\u001b[39m\"\u001b[39;49m, url, \u001b[39m*\u001b[39;49m\u001b[39m*\u001b[39;49mkwargs)\n",
      "File \u001b[0;32m/Library/Frameworks/Python.framework/Versions/3.10/lib/python3.10/site-packages/requests/api.py:59\u001b[0m, in \u001b[0;36mrequest\u001b[0;34m(method, url, **kwargs)\u001b[0m\n\u001b[1;32m     55\u001b[0m \u001b[39m# By using the 'with' statement we are sure the session is closed, thus we\u001b[39;00m\n\u001b[1;32m     56\u001b[0m \u001b[39m# avoid leaving sockets open which can trigger a ResourceWarning in some\u001b[39;00m\n\u001b[1;32m     57\u001b[0m \u001b[39m# cases, and look like a memory leak in others.\u001b[39;00m\n\u001b[1;32m     58\u001b[0m \u001b[39mwith\u001b[39;00m sessions\u001b[39m.\u001b[39mSession() \u001b[39mas\u001b[39;00m session:\n\u001b[0;32m---> 59\u001b[0m     \u001b[39mreturn\u001b[39;00m session\u001b[39m.\u001b[39;49mrequest(method\u001b[39m=\u001b[39;49mmethod, url\u001b[39m=\u001b[39;49murl, \u001b[39m*\u001b[39;49m\u001b[39m*\u001b[39;49mkwargs)\n",
      "File \u001b[0;32m/Library/Frameworks/Python.framework/Versions/3.10/lib/python3.10/site-packages/requests/sessions.py:589\u001b[0m, in \u001b[0;36mSession.request\u001b[0;34m(self, method, url, params, data, headers, cookies, files, auth, timeout, allow_redirects, proxies, hooks, stream, verify, cert, json)\u001b[0m\n\u001b[1;32m    584\u001b[0m send_kwargs \u001b[39m=\u001b[39m {\n\u001b[1;32m    585\u001b[0m     \u001b[39m\"\u001b[39m\u001b[39mtimeout\u001b[39m\u001b[39m\"\u001b[39m: timeout,\n\u001b[1;32m    586\u001b[0m     \u001b[39m\"\u001b[39m\u001b[39mallow_redirects\u001b[39m\u001b[39m\"\u001b[39m: allow_redirects,\n\u001b[1;32m    587\u001b[0m }\n\u001b[1;32m    588\u001b[0m send_kwargs\u001b[39m.\u001b[39mupdate(settings)\n\u001b[0;32m--> 589\u001b[0m resp \u001b[39m=\u001b[39m \u001b[39mself\u001b[39;49m\u001b[39m.\u001b[39;49msend(prep, \u001b[39m*\u001b[39;49m\u001b[39m*\u001b[39;49msend_kwargs)\n\u001b[1;32m    591\u001b[0m \u001b[39mreturn\u001b[39;00m resp\n",
      "File \u001b[0;32m/Library/Frameworks/Python.framework/Versions/3.10/lib/python3.10/site-packages/requests/sessions.py:703\u001b[0m, in \u001b[0;36mSession.send\u001b[0;34m(self, request, **kwargs)\u001b[0m\n\u001b[1;32m    700\u001b[0m start \u001b[39m=\u001b[39m preferred_clock()\n\u001b[1;32m    702\u001b[0m \u001b[39m# Send the request\u001b[39;00m\n\u001b[0;32m--> 703\u001b[0m r \u001b[39m=\u001b[39m adapter\u001b[39m.\u001b[39;49msend(request, \u001b[39m*\u001b[39;49m\u001b[39m*\u001b[39;49mkwargs)\n\u001b[1;32m    705\u001b[0m \u001b[39m# Total elapsed time of the request (approximately)\u001b[39;00m\n\u001b[1;32m    706\u001b[0m elapsed \u001b[39m=\u001b[39m preferred_clock() \u001b[39m-\u001b[39m start\n",
      "File \u001b[0;32m/Library/Frameworks/Python.framework/Versions/3.10/lib/python3.10/site-packages/requests/adapters.py:519\u001b[0m, in \u001b[0;36mHTTPAdapter.send\u001b[0;34m(self, request, stream, timeout, verify, cert, proxies)\u001b[0m\n\u001b[1;32m    515\u001b[0m     \u001b[39mif\u001b[39;00m \u001b[39misinstance\u001b[39m(e\u001b[39m.\u001b[39mreason, _SSLError):\n\u001b[1;32m    516\u001b[0m         \u001b[39m# This branch is for urllib3 v1.22 and later.\u001b[39;00m\n\u001b[1;32m    517\u001b[0m         \u001b[39mraise\u001b[39;00m SSLError(e, request\u001b[39m=\u001b[39mrequest)\n\u001b[0;32m--> 519\u001b[0m     \u001b[39mraise\u001b[39;00m \u001b[39mConnectionError\u001b[39;00m(e, request\u001b[39m=\u001b[39mrequest)\n\u001b[1;32m    521\u001b[0m \u001b[39mexcept\u001b[39;00m ClosedPoolError \u001b[39mas\u001b[39;00m e:\n\u001b[1;32m    522\u001b[0m     \u001b[39mraise\u001b[39;00m \u001b[39mConnectionError\u001b[39;00m(e, request\u001b[39m=\u001b[39mrequest)\n",
      "\u001b[0;31mConnectionError\u001b[0m: HTTPConnectionPool(host='localhost', port=8086): Max retries exceeded with url: /api/v2/buckets/your_organization/your_bucket (Caused by NewConnectionError('<urllib3.connection.HTTPConnection object at 0x12c6c37c0>: Failed to establish a new connection: [Errno 61] Connection refused'))"
     ]
    }
   ],
   "source": [
    "import requests\n",
    "\n",
    "# InfluxDB API endpoint\n",
    "base_url = \"http://localhost:8086\"\n",
    "org = \"your_organization\"  # Replace with your organization name\n",
    "bucket = \"your_bucket\"      # Replace with the name of the bucket you want to delete\n",
    "\n",
    "# Authentication token (if required)\n",
    "token = \"your_authentication_token\"  # Replace with your authentication token, if needed\n",
    "\n",
    "# Construct the URL for deleting the bucket\n",
    "url = f\"{base_url}/api/v2/buckets/{org}/{bucket}\"\n",
    "\n",
    "# Headers for the request (include the authentication token if required)\n",
    "headers = {\n",
    "    \"Authorization\": f\"Token {token}\" if token else \"\",\n",
    "}\n",
    "\n",
    "# Send the DELETE request to delete the bucket\n",
    "response = requests.delete(url, headers=headers)\n",
    "\n",
    "# Check the response status code\n",
    "if response.status_code == 204:\n",
    "    print(f\"Bucket '{bucket}' deleted successfully.\")\n",
    "else:\n",
    "    print(f\"Failed to delete bucket '{bucket}'. Status code: {response.status_code}\")\n",
    "    print(response.text)\n"
   ]
  }
 ],
 "metadata": {
  "kernelspec": {
   "display_name": "Python 3",
   "language": "python",
   "name": "python3"
  },
  "language_info": {
   "codemirror_mode": {
    "name": "ipython",
    "version": 3
   },
   "file_extension": ".py",
   "mimetype": "text/x-python",
   "name": "python",
   "nbconvert_exporter": "python",
   "pygments_lexer": "ipython3",
   "version": "3.10.2"
  },
  "orig_nbformat": 4
 },
 "nbformat": 4,
 "nbformat_minor": 2
}
