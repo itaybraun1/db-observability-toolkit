{
 "cells": [
  {
   "cell_type": "markdown",
   "metadata": {},
   "source": [
    "<!DOCTYPE html>\n",
    "<html>\n",
    "\n",
    "<body>\n",
    "    <h2><span style=\"color: lightblue;\">Influx v3</span></h2>\n",
    "    <h3><strong>Desc:</strong></h3>\n",
    "    <ul>\n",
    "        <li>Write metrics to Influx Database.</li>\n",
    "        <li>Read Metrics from a bucket.</li>\n",
    "    </ul>\n",
    "    <h3>Comments:</h3>\n",
    "    <ul>\n",
    "        <li>This notebook is still in <strong>DRAFT</strong> mode.</li>\n",
    "        <li>This notebook was developed for Influx cloud v3. Do NOT use it with v2</li>\n",
    "    </ul>\n",
    "</body>\n",
    "</html>"
   ]
  },
  {
   "cell_type": "markdown",
   "metadata": {},
   "source": [
    "## Pre Req\n",
    "1. Open an Iflux DB cloud account. Can be the free one. https://www.influxdata.com/get-influxdb/    \n",
    "2. Create a new Bucket. For ex. ```Tables_bucket```.   \n",
    "   \n",
    "The rest of the flow follows the built-in samples\n",
    "1. Open the \"Load Data\" option of \"Client\" \n",
    "2. Select \"Python\"\n",
    "3. Follow the instructions. Step \"install dependencies\" is pip install influxdb3-python, pip install pandas"
   ]
  },
  {
   "cell_type": "markdown",
   "metadata": {},
   "source": [
    "## Get Token. \n",
    "Without a token, the client code can't call the API. To get a Token, log in to the cloud console, Load Data, API Tokens, Generate API Token. "
   ]
  },
  {
   "cell_type": "code",
   "execution_count": 5,
   "metadata": {},
   "outputs": [],
   "source": [
    "%%bash\n",
    "export INFLUXDB_TOKEN=XE9AyZ-3y-HJNyupKWiLgzVo5JMew-Y31Vq7gbakekdP66wIkBslEdnyrCc-vQ0t9MGFj449z0LvFhepVOwFfw=="
   ]
  },
  {
   "cell_type": "markdown",
   "metadata": {},
   "source": [
    "## Initialize Client\n",
    "Copy the code. I named the organization in Influx \"Dev\"\n",
    "\n",
    "Notice. The original code, proivded by Influx returns an error: ```[SSL: CERTIFICATE_VERIFY_FAILED] certificate verify failed: unable to get local issuer certificate (_ssl.c:997)``` . To solve it, add the coomand ``` ssl_ca_cert=certifi.where()```. Resource: # https://stackoverflow.com/questions/69401104/influxdb-2-0-certificate-verify-failed-certificate-has-expired-ssl-c1129\n",
    "   "
   ]
  },
  {
   "cell_type": "code",
   "execution_count": 6,
   "metadata": {},
   "outputs": [
    {
     "name": "stdout",
     "output_type": "stream",
     "text": [
      "XE9AyZ-3y-HJNyupKWiLgzVo5JMew-Y31Vq7gbakekdP66wIkBslEdnyrCc-vQ0t9MGFj449z0LvFhepVOwFfw==\n"
     ]
    }
   ],
   "source": [
    "import os, time\n",
    "from influxdb_client_3 import InfluxDBClient3, Point\n",
    "import certifi # we need it to support their certification problems. \n",
    "\n",
    "# Read from the OS or pass the parameter directly. \n",
    "token = os.environ.get(\"INFLUXDB_TOKEN\")\n",
    "token = \"XE9AyZ-3y-HJNyupKWiLgzVo5JMew-Y31Vq7gbakekdP66wIkBslEdnyrCc-vQ0t9MGFj449z0LvFhepVOwFfw==\"\n",
    "print (token)\n",
    "org = \"Dev\"\n",
    "host = \"https://us-east-1-1.aws.cloud2.influxdata.com\"\n",
    "\n",
    "client = InfluxDBClient3(host=host, token=token, org=org, ssl_ca_cert=certifi.where())"
   ]
  },
  {
   "cell_type": "markdown",
   "metadata": {},
   "source": [
    "## Copy (Insert) Data  \n",
    "The object \"Bucket\" in the UI called \"database\" in python.\n",
    "The measurement called \"Census\". Notic the ```Point``` object uses it.  \n",
    "\n",
    "\n",
    "\n",
    "In this data example, we have some important concepts:\n",
    "- **measurement**: Primary filter for the thing you are measuring. Since we are measuring the sample census of insects, our measurement is \"census\".\n",
    "- **tag**: Key-value pair to store metadata about your fields. We are storing the \"location\" of where each census is taken. Tags form part of your primary key.\n",
    "- **field**:\tKey-value pair that stores the actual data you are measuring.\tWe are storing the insect \"species\" and \"count\" as the key-value pair. Fields are not indexed and can be stored as integers, floats, strings, or booleans."
   ]
  },
  {
   "cell_type": "code",
   "execution_count": 7,
   "metadata": {},
   "outputs": [
    {
     "name": "stdout",
     "output_type": "stream",
     "text": [
      "Complete. Return to the InfluxDB UI.\n"
     ]
    }
   ],
   "source": [
    "database=\"Tables_Bucket\"\n",
    "\n",
    "data = {\n",
    "  \"point1\": {\n",
    "    \"location\": \"Klamath\",\n",
    "    \"species\": \"bees\",\n",
    "    \"count\": 25,\n",
    "  },\n",
    "  \"point2\": {\n",
    "    \"location\": \"Portland\",\n",
    "    \"species\": \"ants\",\n",
    "    \"count\": 32,\n",
    "  },\n",
    "  \"point3\": {\n",
    "    \"location\": \"Klamath\",\n",
    "    \"species\": \"bees\",\n",
    "    \"count\": 28,\n",
    "  },\n",
    "  \"point4\": {\n",
    "    \"location\": \"Portland\",\n",
    "    \"species\": \"ants\",\n",
    "    \"count\": 36,\n",
    "  },\n",
    "  \"point5\": {\n",
    "    \"location\": \"Klamath\",\n",
    "    \"species\": \"bees\",\n",
    "    \"count\": 27,\n",
    "  },\n",
    "  \"point6\": {\n",
    "    \"location\": \"Portland\",\n",
    "    \"species\": \"ants\",\n",
    "    \"count\": 43,\n",
    "  },\n",
    "}\n",
    "\n",
    "for key in data:\n",
    "  point = (\n",
    "    Point(\"census\")\n",
    "    .tag(\"location\", data[key][\"location\"])\n",
    "    .field(data[key][\"species\"], data[key][\"count\"])\n",
    "  )\n",
    "  client.write(database=database, record=point)\n",
    "  time.sleep(1) # separate points by 1 second\n",
    "\n",
    "print(\"Complete. Return to the InfluxDB UI.\")\n"
   ]
  },
  {
   "cell_type": "markdown",
   "metadata": {},
   "source": [
    "## Insert data from a CSV\n",
    "The CLI Code uses a CSV stored in S3: https://influx-testdata.s3.amazonaws.com/air-sensor-data-annotated.csv"
   ]
  },
  {
   "cell_type": "code",
   "execution_count": 58,
   "metadata": {},
   "outputs": [],
   "source": [
    "%%bash\n",
    "# influx write --bucket Tables_Bucket --url https://influx-testdata.s3.amazonaws.com/air-sensor-data-annotated.csv"
   ]
  },
  {
   "cell_type": "markdown",
   "metadata": {},
   "source": [
    "## Execute a Simple Query - SQL \n",
    "v3 supports SQL. v2 couldn't."
   ]
  },
  {
   "cell_type": "code",
   "execution_count": 9,
   "metadata": {},
   "outputs": [
    {
     "name": "stdout",
     "output_type": "stream",
     "text": [
      "Index(['ants', 'bees', 'location', 'time'], dtype='object')\n",
      "    ants  bees  location                          time\n",
      "6    NaN  25.0   Klamath 2023-09-23 20:35:34.764041824\n",
      "9   32.0   NaN  Portland 2023-09-23 20:35:36.123439256\n",
      "7    NaN  28.0   Klamath 2023-09-23 20:35:37.362155251\n",
      "10  36.0   NaN  Portland 2023-09-23 20:35:38.603744675\n",
      "8    NaN  27.0   Klamath 2023-09-23 20:35:39.766943693\n",
      "11  43.0   NaN  Portland 2023-09-23 20:35:40.936207328\n",
      "0    NaN  25.0   Klamath 2023-09-25 19:01:26.022984180\n",
      "3   32.0   NaN  Portland 2023-09-25 19:01:27.187632481\n",
      "1    NaN  28.0   Klamath 2023-09-25 19:01:28.451863646\n",
      "4   36.0   NaN  Portland 2023-09-25 19:01:29.637631603\n",
      "2    NaN  27.0   Klamath 2023-09-25 19:01:30.798999958\n",
      "5   43.0   NaN  Portland 2023-09-25 19:01:31.976858112\n"
     ]
    }
   ],
   "source": [
    "query = \"\"\"SELECT *\n",
    "FROM 'census'\n",
    "WHERE time >= now() - interval '168 hours'\n",
    "AND ('bees' IS NOT NULL OR 'ants' IS NOT NULL)\"\"\"\n",
    "\n",
    "# Execute the query\n",
    "table = client.query(query=query, database=\"Tables_Bucket\", language='sql') \n",
    "\n",
    "# Convert to dataframe\n",
    "df = table.to_pandas().sort_values(by=\"time\")\n",
    "column_names = df.columns\n",
    "print(column_names)\n",
    "print(df)\n",
    "\n",
    "\n"
   ]
  },
  {
   "cell_type": "markdown",
   "metadata": {},
   "source": [
    "## Advance Query - SQL \n",
    "Sep 17 - doesn't work. Not sure why as it is copy paste from the demo. \n",
    "I suspect the fact I had to use \"sql\" as a language to make it work, and not \"influxql\" is the root cause. The documentation says using ```import influxdb_client_3 as InfluxDBClient3``` with influxql but it doesn't work.    \n",
    "\n",
    "Trying to implement ```GROUP BY``` using: https://docs.influxdata.com/influxdb/v1/query_language/explore-data/#the-group-by-clause "
   ]
  },
  {
   "cell_type": "code",
   "execution_count": 25,
   "metadata": {},
   "outputs": [
    {
     "name": "stdout",
     "output_type": "stream",
     "text": [
      "   location              MAX(census.time)  AVG(census.ants)\n",
      "0  Portland 2023-09-25 19:01:31.976858112              37.0\n"
     ]
    }
   ],
   "source": [
    "## Execute Aggregate Queries. The first one works\n",
    "query = \"\"\"\n",
    "SELECT  location, max(time), avg(census.ants)\n",
    "FROM \"census\"\n",
    "WHERE time >= now() - interval '1 hour'\n",
    "AND (ants IS NOT NULL)\n",
    "GROUP BY location\n",
    "\"\"\"\n",
    "\n",
    "\n",
    "# Execute the query\n",
    "table = client.query(query=query, database=\"Tables_Bucket\", language='sql') \n",
    "\n",
    "# Convert to dataframe\n",
    "df = table.to_pandas()#.sort_values(by='time')\n",
    "print(df)"
   ]
  },
  {
   "cell_type": "markdown",
   "metadata": {},
   "source": [
    "## Query the data - Group by time ranges\n",
    "You can always use a good olf Flux to run a GROUP BY query. Group the data every 5 min. \n",
    "It the query doesn't return any data, that means that no data was inserted to this Influx Bucket. See one of the cells above how to insert data.   \n",
    "\n",
    "- Example 1 - running using the Influx CLI ( ```brew install influxdb-cli```). Apparently it still works with Flux. \n",
    "- Exampel 2 - Running using Python. It can't use Flux anymore. Only InfluQL ( https://docs.influxdata.com/influxdb/v1/query_language/, supported languages now are only SQL or InfluxQL: https://docs.influxdata.com/influxdb/cloud-dedicated/reference/client-libraries/v3/python/#functions)"
   ]
  },
  {
   "cell_type": "code",
   "execution_count": 18,
   "metadata": {},
   "outputs": [
    {
     "name": "stdout",
     "output_type": "stream",
     "text": [
      "Result: _result\n",
      "Table: keys: [_start, _stop, _field, _measurement, sensor_id]\n",
      "                   _start:time                      _stop:time           _field:string     _measurement:string        sensor_id:string                      _time:time                  _value:float\n",
      "------------------------------  ------------------------------  ----------------------  ----------------------  ----------------------  ------------------------------  ----------------------------\n",
      "2023-09-25T18:10:07.450678986Z  2023-09-25T19:10:07.450678986Z                humidity              airSensors                 TLM0100  2023-09-25T18:15:00.000000000Z             35.38761862106402\n",
      "2023-09-25T18:10:07.450678986Z  2023-09-25T19:10:07.450678986Z                humidity              airSensors                 TLM0100  2023-09-25T18:30:00.000000000Z              35.6597007766778\n",
      "2023-09-25T18:10:07.450678986Z  2023-09-25T19:10:07.450678986Z                humidity              airSensors                 TLM0100  2023-09-25T18:45:00.000000000Z             35.55506341971462\n",
      "2023-09-25T18:10:07.450678986Z  2023-09-25T19:10:07.450678986Z                humidity              airSensors                 TLM0100  2023-09-25T19:00:00.000000000Z             34.83486410889696\n",
      "2023-09-25T18:10:07.450678986Z  2023-09-25T19:10:07.450678986Z                humidity              airSensors                 TLM0100  2023-09-25T19:10:07.450678986Z                              \n",
      "Table: keys: [_start, _stop, _field, _measurement, sensor_id]\n",
      "                   _start:time                      _stop:time           _field:string     _measurement:string        sensor_id:string                      _time:time                  _value:float\n",
      "------------------------------  ------------------------------  ----------------------  ----------------------  ----------------------  ------------------------------  ----------------------------\n",
      "2023-09-25T18:10:07.450678986Z  2023-09-25T19:10:07.450678986Z                humidity              airSensors                 TLM0101  2023-09-25T18:15:00.000000000Z             35.28066184019145\n",
      "2023-09-25T18:10:07.450678986Z  2023-09-25T19:10:07.450678986Z                humidity              airSensors                 TLM0101  2023-09-25T18:30:00.000000000Z             35.28892329284533\n",
      "2023-09-25T18:10:07.450678986Z  2023-09-25T19:10:07.450678986Z                humidity              airSensors                 TLM0101  2023-09-25T18:45:00.000000000Z             35.40864285122351\n",
      "2023-09-25T18:10:07.450678986Z  2023-09-25T19:10:07.450678986Z                humidity              airSensors                 TLM0101  2023-09-25T19:00:00.000000000Z             34.38853360286858\n",
      "2023-09-25T18:10:07.450678986Z  2023-09-25T19:10:07.450678986Z                humidity              airSensors                 TLM0101  2023-09-25T19:10:07.450678986Z                              \n",
      "Table: keys: [_start, _stop, _field, _measurement, sensor_id]\n",
      "                   _start:time                      _stop:time           _field:string     _measurement:string        sensor_id:string                      _time:time                  _value:float\n",
      "------------------------------  ------------------------------  ----------------------  ----------------------  ----------------------  ------------------------------  ----------------------------\n",
      "2023-09-25T18:10:07.450678986Z  2023-09-25T19:10:07.450678986Z                humidity              airSensors                 TLM0102  2023-09-25T18:15:00.000000000Z             34.85963909837288\n",
      "2023-09-25T18:10:07.450678986Z  2023-09-25T19:10:07.450678986Z                humidity              airSensors                 TLM0102  2023-09-25T18:30:00.000000000Z            34.962529621884634\n",
      "2023-09-25T18:10:07.450678986Z  2023-09-25T19:10:07.450678986Z                humidity              airSensors                 TLM0102  2023-09-25T18:45:00.000000000Z             35.23736419428542\n",
      "2023-09-25T18:10:07.450678986Z  2023-09-25T19:10:07.450678986Z                humidity              airSensors                 TLM0102  2023-09-25T19:00:00.000000000Z             35.50790112743331\n",
      "2023-09-25T18:10:07.450678986Z  2023-09-25T19:10:07.450678986Z                humidity              airSensors                 TLM0102  2023-09-25T19:10:07.450678986Z                              \n",
      "Table: keys: [_start, _stop, _field, _measurement, sensor_id]\n",
      "                   _start:time                      _stop:time           _field:string     _measurement:string        sensor_id:string                      _time:time                  _value:float\n",
      "------------------------------  ------------------------------  ----------------------  ----------------------  ----------------------  ------------------------------  ----------------------------\n",
      "2023-09-25T18:10:07.450678986Z  2023-09-25T19:10:07.450678986Z                humidity              airSensors                 TLM0103  2023-09-25T18:15:00.000000000Z            35.791155547296576\n",
      "2023-09-25T18:10:07.450678986Z  2023-09-25T19:10:07.450678986Z                humidity              airSensors                 TLM0103  2023-09-25T18:30:00.000000000Z             35.93076144792755\n",
      "2023-09-25T18:10:07.450678986Z  2023-09-25T19:10:07.450678986Z                humidity              airSensors                 TLM0103  2023-09-25T18:45:00.000000000Z             35.75976369107948\n",
      "2023-09-25T18:10:07.450678986Z  2023-09-25T19:10:07.450678986Z                humidity              airSensors                 TLM0103  2023-09-25T19:00:00.000000000Z            35.430981063395826\n",
      "2023-09-25T18:10:07.450678986Z  2023-09-25T19:10:07.450678986Z                humidity              airSensors                 TLM0103  2023-09-25T19:10:07.450678986Z                              \n",
      "Table: keys: [_start, _stop, _field, _measurement, sensor_id]\n",
      "                   _start:time                      _stop:time           _field:string     _measurement:string        sensor_id:string                      _time:time                  _value:float\n",
      "------------------------------  ------------------------------  ----------------------  ----------------------  ----------------------  ------------------------------  ----------------------------\n",
      "2023-09-25T18:10:07.450678986Z  2023-09-25T19:10:07.450678986Z                humidity              airSensors                 TLM0200  2023-09-25T18:15:00.000000000Z            36.233756546228854\n",
      "2023-09-25T18:10:07.450678986Z  2023-09-25T19:10:07.450678986Z                humidity              airSensors                 TLM0200  2023-09-25T18:30:00.000000000Z             36.07666393394519\n",
      "2023-09-25T18:10:07.450678986Z  2023-09-25T19:10:07.450678986Z                humidity              airSensors                 TLM0200  2023-09-25T18:45:00.000000000Z            36.088930450095454\n",
      "2023-09-25T18:10:07.450678986Z  2023-09-25T19:10:07.450678986Z                humidity              airSensors                 TLM0200  2023-09-25T19:00:00.000000000Z             36.15795961177467\n",
      "2023-09-25T18:10:07.450678986Z  2023-09-25T19:10:07.450678986Z                humidity              airSensors                 TLM0200  2023-09-25T19:10:07.450678986Z                              \n",
      "Table: keys: [_start, _stop, _field, _measurement, sensor_id]\n",
      "                   _start:time                      _stop:time           _field:string     _measurement:string        sensor_id:string                      _time:time                  _value:float\n",
      "------------------------------  ------------------------------  ----------------------  ----------------------  ----------------------  ------------------------------  ----------------------------\n",
      "2023-09-25T18:10:07.450678986Z  2023-09-25T19:10:07.450678986Z                humidity              airSensors                 TLM0201  2023-09-25T18:15:00.000000000Z             35.62523208836445\n",
      "2023-09-25T18:10:07.450678986Z  2023-09-25T19:10:07.450678986Z                humidity              airSensors                 TLM0201  2023-09-25T18:30:00.000000000Z             35.50670674501627\n",
      "2023-09-25T18:10:07.450678986Z  2023-09-25T19:10:07.450678986Z                humidity              airSensors                 TLM0201  2023-09-25T18:45:00.000000000Z            35.393961409225945\n",
      "2023-09-25T18:10:07.450678986Z  2023-09-25T19:10:07.450678986Z                humidity              airSensors                 TLM0201  2023-09-25T19:00:00.000000000Z             35.29123002246544\n",
      "2023-09-25T18:10:07.450678986Z  2023-09-25T19:10:07.450678986Z                humidity              airSensors                 TLM0201  2023-09-25T19:10:07.450678986Z                              \n",
      "Table: keys: [_start, _stop, _field, _measurement, sensor_id]\n",
      "                   _start:time                      _stop:time           _field:string     _measurement:string        sensor_id:string                      _time:time                  _value:float\n",
      "------------------------------  ------------------------------  ----------------------  ----------------------  ----------------------  ------------------------------  ----------------------------\n",
      "2023-09-25T18:10:07.450678986Z  2023-09-25T19:10:07.450678986Z                humidity              airSensors                 TLM0202  2023-09-25T18:15:00.000000000Z            35.900887025253155\n",
      "2023-09-25T18:10:07.450678986Z  2023-09-25T19:10:07.450678986Z                humidity              airSensors                 TLM0202  2023-09-25T18:30:00.000000000Z             36.02700903466819\n",
      "2023-09-25T18:10:07.450678986Z  2023-09-25T19:10:07.450678986Z                humidity              airSensors                 TLM0202  2023-09-25T18:45:00.000000000Z             35.89841137475924\n",
      "2023-09-25T18:10:07.450678986Z  2023-09-25T19:10:07.450678986Z                humidity              airSensors                 TLM0202  2023-09-25T19:00:00.000000000Z            35.921742538643336\n",
      "2023-09-25T18:10:07.450678986Z  2023-09-25T19:10:07.450678986Z                humidity              airSensors                 TLM0202  2023-09-25T19:10:07.450678986Z                              \n",
      "Table: keys: [_start, _stop, _field, _measurement, sensor_id]\n",
      "                   _start:time                      _stop:time           _field:string     _measurement:string        sensor_id:string                      _time:time                  _value:float\n",
      "------------------------------  ------------------------------  ----------------------  ----------------------  ----------------------  ------------------------------  ----------------------------\n",
      "2023-09-25T18:10:07.450678986Z  2023-09-25T19:10:07.450678986Z                humidity              airSensors                 TLM0203  2023-09-25T18:15:00.000000000Z             36.58078885731712\n",
      "2023-09-25T18:10:07.450678986Z  2023-09-25T19:10:07.450678986Z                humidity              airSensors                 TLM0203  2023-09-25T18:30:00.000000000Z             36.63759179194686\n",
      "2023-09-25T18:10:07.450678986Z  2023-09-25T19:10:07.450678986Z                humidity              airSensors                 TLM0203  2023-09-25T18:45:00.000000000Z            36.627758614570354\n",
      "2023-09-25T18:10:07.450678986Z  2023-09-25T19:10:07.450678986Z                humidity              airSensors                 TLM0203  2023-09-25T19:00:00.000000000Z             36.34594653478089\n",
      "2023-09-25T18:10:07.450678986Z  2023-09-25T19:10:07.450678986Z                humidity              airSensors                 TLM0203  2023-09-25T19:10:07.450678986Z                              \n"
     ]
    }
   ],
   "source": [
    "%%bash\n",
    "influx query \\\n",
    "'from(bucket: \"Tables_Bucket\")\n",
    "  |> range(start: -1h)\n",
    "  |> filter(fn: (r) => r._measurement == \"airSensors\" and r._field == \"humidity\")\n",
    "  |> aggregateWindow(every: 15m, fn: max)'\n",
    "\n"
   ]
  },
  {
   "cell_type": "code",
   "execution_count": 59,
   "metadata": {},
   "outputs": [
    {
     "name": "stdout",
     "output_type": "stream",
     "text": [
      "pyarrow.Table\n",
      "iox::measurement: string not null\n",
      "time: timestamp[ns]\n",
      "max: double\n",
      "----\n",
      "iox::measurement: [[\"airSensors\",\"airSensors\",\"airSensors\",\"airSensors\",\"airSensors\",...,\"airSensors\",\"airSensors\",\"airSensors\",\"airSensors\",\"airSensors\"]]\n",
      "time: [[2023-09-25 00:00:00.000000000,2023-09-25 01:00:00.000000000,2023-09-25 02:00:00.000000000,2023-09-25 03:00:00.000000000,2023-09-25 04:00:00.000000000,...,2023-09-25 16:00:00.000000000,2023-09-25 17:00:00.000000000,2023-09-25 18:00:00.000000000,2023-09-25 19:00:00.000000000,2023-09-25 20:00:00.000000000]]\n",
      "max: [[null,null,null,null,null,...,null,36.68608222448508,36.72902315153046,36.61669941198891,null]]\n",
      "   Measurement                Time        Max\n",
      "0   airSensors 2023-09-25 00:00:00        NaN\n",
      "1   airSensors 2023-09-25 01:00:00        NaN\n",
      "2   airSensors 2023-09-25 02:00:00        NaN\n",
      "3   airSensors 2023-09-25 03:00:00        NaN\n",
      "4   airSensors 2023-09-25 04:00:00        NaN\n",
      "5   airSensors 2023-09-25 05:00:00        NaN\n",
      "6   airSensors 2023-09-25 06:00:00        NaN\n",
      "7   airSensors 2023-09-25 07:00:00        NaN\n",
      "8   airSensors 2023-09-25 08:00:00        NaN\n",
      "9   airSensors 2023-09-25 09:00:00        NaN\n",
      "10  airSensors 2023-09-25 10:00:00        NaN\n",
      "11  airSensors 2023-09-25 11:00:00        NaN\n",
      "12  airSensors 2023-09-25 12:00:00        NaN\n",
      "13  airSensors 2023-09-25 13:00:00        NaN\n",
      "14  airSensors 2023-09-25 14:00:00        NaN\n",
      "15  airSensors 2023-09-25 15:00:00        NaN\n",
      "16  airSensors 2023-09-25 16:00:00        NaN\n",
      "17  airSensors 2023-09-25 17:00:00  36.686082\n",
      "18  airSensors 2023-09-25 18:00:00  36.729023\n",
      "19  airSensors 2023-09-25 19:00:00  36.616699\n",
      "20  airSensors 2023-09-25 20:00:00        NaN\n"
     ]
    },
    {
     "data": {
      "application/vnd.plotly.v1+json": {
       "config": {
        "plotlyServerURL": "https://plot.ly"
       },
       "data": [
        {
         "hovertemplate": "Time=%{x}<br>Max Value=%{y}<extra></extra>",
         "legendgroup": "",
         "line": {
          "color": "#636efa",
          "dash": "solid"
         },
         "marker": {
          "symbol": "circle"
         },
         "mode": "lines",
         "name": "",
         "orientation": "v",
         "showlegend": false,
         "type": "scatter",
         "x": [
          "2023-09-25T00:00:00",
          "2023-09-25T01:00:00",
          "2023-09-25T02:00:00",
          "2023-09-25T03:00:00",
          "2023-09-25T04:00:00",
          "2023-09-25T05:00:00",
          "2023-09-25T06:00:00",
          "2023-09-25T07:00:00",
          "2023-09-25T08:00:00",
          "2023-09-25T09:00:00",
          "2023-09-25T10:00:00",
          "2023-09-25T11:00:00",
          "2023-09-25T12:00:00",
          "2023-09-25T13:00:00",
          "2023-09-25T14:00:00",
          "2023-09-25T15:00:00",
          "2023-09-25T16:00:00",
          "2023-09-25T17:00:00",
          "2023-09-25T18:00:00",
          "2023-09-25T19:00:00",
          "2023-09-25T20:00:00"
         ],
         "xaxis": "x",
         "y": [
          null,
          null,
          null,
          null,
          null,
          null,
          null,
          null,
          null,
          null,
          null,
          null,
          null,
          null,
          null,
          null,
          null,
          36.68608222448508,
          36.72902315153046,
          36.61669941198891,
          null
         ],
         "yaxis": "y"
        }
       ],
       "layout": {
        "legend": {
         "tracegroupgap": 0
        },
        "template": {
         "data": {
          "bar": [
           {
            "error_x": {
             "color": "#2a3f5f"
            },
            "error_y": {
             "color": "#2a3f5f"
            },
            "marker": {
             "line": {
              "color": "#E5ECF6",
              "width": 0.5
             },
             "pattern": {
              "fillmode": "overlay",
              "size": 10,
              "solidity": 0.2
             }
            },
            "type": "bar"
           }
          ],
          "barpolar": [
           {
            "marker": {
             "line": {
              "color": "#E5ECF6",
              "width": 0.5
             },
             "pattern": {
              "fillmode": "overlay",
              "size": 10,
              "solidity": 0.2
             }
            },
            "type": "barpolar"
           }
          ],
          "carpet": [
           {
            "aaxis": {
             "endlinecolor": "#2a3f5f",
             "gridcolor": "white",
             "linecolor": "white",
             "minorgridcolor": "white",
             "startlinecolor": "#2a3f5f"
            },
            "baxis": {
             "endlinecolor": "#2a3f5f",
             "gridcolor": "white",
             "linecolor": "white",
             "minorgridcolor": "white",
             "startlinecolor": "#2a3f5f"
            },
            "type": "carpet"
           }
          ],
          "choropleth": [
           {
            "colorbar": {
             "outlinewidth": 0,
             "ticks": ""
            },
            "type": "choropleth"
           }
          ],
          "contour": [
           {
            "colorbar": {
             "outlinewidth": 0,
             "ticks": ""
            },
            "colorscale": [
             [
              0,
              "#0d0887"
             ],
             [
              0.1111111111111111,
              "#46039f"
             ],
             [
              0.2222222222222222,
              "#7201a8"
             ],
             [
              0.3333333333333333,
              "#9c179e"
             ],
             [
              0.4444444444444444,
              "#bd3786"
             ],
             [
              0.5555555555555556,
              "#d8576b"
             ],
             [
              0.6666666666666666,
              "#ed7953"
             ],
             [
              0.7777777777777778,
              "#fb9f3a"
             ],
             [
              0.8888888888888888,
              "#fdca26"
             ],
             [
              1,
              "#f0f921"
             ]
            ],
            "type": "contour"
           }
          ],
          "contourcarpet": [
           {
            "colorbar": {
             "outlinewidth": 0,
             "ticks": ""
            },
            "type": "contourcarpet"
           }
          ],
          "heatmap": [
           {
            "colorbar": {
             "outlinewidth": 0,
             "ticks": ""
            },
            "colorscale": [
             [
              0,
              "#0d0887"
             ],
             [
              0.1111111111111111,
              "#46039f"
             ],
             [
              0.2222222222222222,
              "#7201a8"
             ],
             [
              0.3333333333333333,
              "#9c179e"
             ],
             [
              0.4444444444444444,
              "#bd3786"
             ],
             [
              0.5555555555555556,
              "#d8576b"
             ],
             [
              0.6666666666666666,
              "#ed7953"
             ],
             [
              0.7777777777777778,
              "#fb9f3a"
             ],
             [
              0.8888888888888888,
              "#fdca26"
             ],
             [
              1,
              "#f0f921"
             ]
            ],
            "type": "heatmap"
           }
          ],
          "heatmapgl": [
           {
            "colorbar": {
             "outlinewidth": 0,
             "ticks": ""
            },
            "colorscale": [
             [
              0,
              "#0d0887"
             ],
             [
              0.1111111111111111,
              "#46039f"
             ],
             [
              0.2222222222222222,
              "#7201a8"
             ],
             [
              0.3333333333333333,
              "#9c179e"
             ],
             [
              0.4444444444444444,
              "#bd3786"
             ],
             [
              0.5555555555555556,
              "#d8576b"
             ],
             [
              0.6666666666666666,
              "#ed7953"
             ],
             [
              0.7777777777777778,
              "#fb9f3a"
             ],
             [
              0.8888888888888888,
              "#fdca26"
             ],
             [
              1,
              "#f0f921"
             ]
            ],
            "type": "heatmapgl"
           }
          ],
          "histogram": [
           {
            "marker": {
             "pattern": {
              "fillmode": "overlay",
              "size": 10,
              "solidity": 0.2
             }
            },
            "type": "histogram"
           }
          ],
          "histogram2d": [
           {
            "colorbar": {
             "outlinewidth": 0,
             "ticks": ""
            },
            "colorscale": [
             [
              0,
              "#0d0887"
             ],
             [
              0.1111111111111111,
              "#46039f"
             ],
             [
              0.2222222222222222,
              "#7201a8"
             ],
             [
              0.3333333333333333,
              "#9c179e"
             ],
             [
              0.4444444444444444,
              "#bd3786"
             ],
             [
              0.5555555555555556,
              "#d8576b"
             ],
             [
              0.6666666666666666,
              "#ed7953"
             ],
             [
              0.7777777777777778,
              "#fb9f3a"
             ],
             [
              0.8888888888888888,
              "#fdca26"
             ],
             [
              1,
              "#f0f921"
             ]
            ],
            "type": "histogram2d"
           }
          ],
          "histogram2dcontour": [
           {
            "colorbar": {
             "outlinewidth": 0,
             "ticks": ""
            },
            "colorscale": [
             [
              0,
              "#0d0887"
             ],
             [
              0.1111111111111111,
              "#46039f"
             ],
             [
              0.2222222222222222,
              "#7201a8"
             ],
             [
              0.3333333333333333,
              "#9c179e"
             ],
             [
              0.4444444444444444,
              "#bd3786"
             ],
             [
              0.5555555555555556,
              "#d8576b"
             ],
             [
              0.6666666666666666,
              "#ed7953"
             ],
             [
              0.7777777777777778,
              "#fb9f3a"
             ],
             [
              0.8888888888888888,
              "#fdca26"
             ],
             [
              1,
              "#f0f921"
             ]
            ],
            "type": "histogram2dcontour"
           }
          ],
          "mesh3d": [
           {
            "colorbar": {
             "outlinewidth": 0,
             "ticks": ""
            },
            "type": "mesh3d"
           }
          ],
          "parcoords": [
           {
            "line": {
             "colorbar": {
              "outlinewidth": 0,
              "ticks": ""
             }
            },
            "type": "parcoords"
           }
          ],
          "pie": [
           {
            "automargin": true,
            "type": "pie"
           }
          ],
          "scatter": [
           {
            "fillpattern": {
             "fillmode": "overlay",
             "size": 10,
             "solidity": 0.2
            },
            "type": "scatter"
           }
          ],
          "scatter3d": [
           {
            "line": {
             "colorbar": {
              "outlinewidth": 0,
              "ticks": ""
             }
            },
            "marker": {
             "colorbar": {
              "outlinewidth": 0,
              "ticks": ""
             }
            },
            "type": "scatter3d"
           }
          ],
          "scattercarpet": [
           {
            "marker": {
             "colorbar": {
              "outlinewidth": 0,
              "ticks": ""
             }
            },
            "type": "scattercarpet"
           }
          ],
          "scattergeo": [
           {
            "marker": {
             "colorbar": {
              "outlinewidth": 0,
              "ticks": ""
             }
            },
            "type": "scattergeo"
           }
          ],
          "scattergl": [
           {
            "marker": {
             "colorbar": {
              "outlinewidth": 0,
              "ticks": ""
             }
            },
            "type": "scattergl"
           }
          ],
          "scattermapbox": [
           {
            "marker": {
             "colorbar": {
              "outlinewidth": 0,
              "ticks": ""
             }
            },
            "type": "scattermapbox"
           }
          ],
          "scatterpolar": [
           {
            "marker": {
             "colorbar": {
              "outlinewidth": 0,
              "ticks": ""
             }
            },
            "type": "scatterpolar"
           }
          ],
          "scatterpolargl": [
           {
            "marker": {
             "colorbar": {
              "outlinewidth": 0,
              "ticks": ""
             }
            },
            "type": "scatterpolargl"
           }
          ],
          "scatterternary": [
           {
            "marker": {
             "colorbar": {
              "outlinewidth": 0,
              "ticks": ""
             }
            },
            "type": "scatterternary"
           }
          ],
          "surface": [
           {
            "colorbar": {
             "outlinewidth": 0,
             "ticks": ""
            },
            "colorscale": [
             [
              0,
              "#0d0887"
             ],
             [
              0.1111111111111111,
              "#46039f"
             ],
             [
              0.2222222222222222,
              "#7201a8"
             ],
             [
              0.3333333333333333,
              "#9c179e"
             ],
             [
              0.4444444444444444,
              "#bd3786"
             ],
             [
              0.5555555555555556,
              "#d8576b"
             ],
             [
              0.6666666666666666,
              "#ed7953"
             ],
             [
              0.7777777777777778,
              "#fb9f3a"
             ],
             [
              0.8888888888888888,
              "#fdca26"
             ],
             [
              1,
              "#f0f921"
             ]
            ],
            "type": "surface"
           }
          ],
          "table": [
           {
            "cells": {
             "fill": {
              "color": "#EBF0F8"
             },
             "line": {
              "color": "white"
             }
            },
            "header": {
             "fill": {
              "color": "#C8D4E3"
             },
             "line": {
              "color": "white"
             }
            },
            "type": "table"
           }
          ]
         },
         "layout": {
          "annotationdefaults": {
           "arrowcolor": "#2a3f5f",
           "arrowhead": 0,
           "arrowwidth": 1
          },
          "autotypenumbers": "strict",
          "coloraxis": {
           "colorbar": {
            "outlinewidth": 0,
            "ticks": ""
           }
          },
          "colorscale": {
           "diverging": [
            [
             0,
             "#8e0152"
            ],
            [
             0.1,
             "#c51b7d"
            ],
            [
             0.2,
             "#de77ae"
            ],
            [
             0.3,
             "#f1b6da"
            ],
            [
             0.4,
             "#fde0ef"
            ],
            [
             0.5,
             "#f7f7f7"
            ],
            [
             0.6,
             "#e6f5d0"
            ],
            [
             0.7,
             "#b8e186"
            ],
            [
             0.8,
             "#7fbc41"
            ],
            [
             0.9,
             "#4d9221"
            ],
            [
             1,
             "#276419"
            ]
           ],
           "sequential": [
            [
             0,
             "#0d0887"
            ],
            [
             0.1111111111111111,
             "#46039f"
            ],
            [
             0.2222222222222222,
             "#7201a8"
            ],
            [
             0.3333333333333333,
             "#9c179e"
            ],
            [
             0.4444444444444444,
             "#bd3786"
            ],
            [
             0.5555555555555556,
             "#d8576b"
            ],
            [
             0.6666666666666666,
             "#ed7953"
            ],
            [
             0.7777777777777778,
             "#fb9f3a"
            ],
            [
             0.8888888888888888,
             "#fdca26"
            ],
            [
             1,
             "#f0f921"
            ]
           ],
           "sequentialminus": [
            [
             0,
             "#0d0887"
            ],
            [
             0.1111111111111111,
             "#46039f"
            ],
            [
             0.2222222222222222,
             "#7201a8"
            ],
            [
             0.3333333333333333,
             "#9c179e"
            ],
            [
             0.4444444444444444,
             "#bd3786"
            ],
            [
             0.5555555555555556,
             "#d8576b"
            ],
            [
             0.6666666666666666,
             "#ed7953"
            ],
            [
             0.7777777777777778,
             "#fb9f3a"
            ],
            [
             0.8888888888888888,
             "#fdca26"
            ],
            [
             1,
             "#f0f921"
            ]
           ]
          },
          "colorway": [
           "#636efa",
           "#EF553B",
           "#00cc96",
           "#ab63fa",
           "#FFA15A",
           "#19d3f3",
           "#FF6692",
           "#B6E880",
           "#FF97FF",
           "#FECB52"
          ],
          "font": {
           "color": "#2a3f5f"
          },
          "geo": {
           "bgcolor": "white",
           "lakecolor": "white",
           "landcolor": "#E5ECF6",
           "showlakes": true,
           "showland": true,
           "subunitcolor": "white"
          },
          "hoverlabel": {
           "align": "left"
          },
          "hovermode": "closest",
          "mapbox": {
           "style": "light"
          },
          "paper_bgcolor": "white",
          "plot_bgcolor": "#E5ECF6",
          "polar": {
           "angularaxis": {
            "gridcolor": "white",
            "linecolor": "white",
            "ticks": ""
           },
           "bgcolor": "#E5ECF6",
           "radialaxis": {
            "gridcolor": "white",
            "linecolor": "white",
            "ticks": ""
           }
          },
          "scene": {
           "xaxis": {
            "backgroundcolor": "#E5ECF6",
            "gridcolor": "white",
            "gridwidth": 2,
            "linecolor": "white",
            "showbackground": true,
            "ticks": "",
            "zerolinecolor": "white"
           },
           "yaxis": {
            "backgroundcolor": "#E5ECF6",
            "gridcolor": "white",
            "gridwidth": 2,
            "linecolor": "white",
            "showbackground": true,
            "ticks": "",
            "zerolinecolor": "white"
           },
           "zaxis": {
            "backgroundcolor": "#E5ECF6",
            "gridcolor": "white",
            "gridwidth": 2,
            "linecolor": "white",
            "showbackground": true,
            "ticks": "",
            "zerolinecolor": "white"
           }
          },
          "shapedefaults": {
           "line": {
            "color": "#2a3f5f"
           }
          },
          "ternary": {
           "aaxis": {
            "gridcolor": "white",
            "linecolor": "white",
            "ticks": ""
           },
           "baxis": {
            "gridcolor": "white",
            "linecolor": "white",
            "ticks": ""
           },
           "bgcolor": "#E5ECF6",
           "caxis": {
            "gridcolor": "white",
            "linecolor": "white",
            "ticks": ""
           }
          },
          "title": {
           "x": 0.05
          },
          "xaxis": {
           "automargin": true,
           "gridcolor": "white",
           "linecolor": "white",
           "ticks": "",
           "title": {
            "standoff": 15
           },
           "zerolinecolor": "white",
           "zerolinewidth": 2
          },
          "yaxis": {
           "automargin": true,
           "gridcolor": "white",
           "linecolor": "white",
           "ticks": "",
           "title": {
            "standoff": 15
           },
           "zerolinecolor": "white",
           "zerolinewidth": 2
          }
         }
        },
        "title": {
         "text": "Max Values Over Time"
        },
        "xaxis": {
         "anchor": "y",
         "domain": [
          0,
          1
         ],
         "title": {
          "text": "Time"
         }
        },
        "yaxis": {
         "anchor": "x",
         "domain": [
          0,
          1
         ],
         "title": {
          "text": "Max Value"
         }
        }
       }
      }
     },
     "metadata": {},
     "output_type": "display_data"
    }
   ],
   "source": [
    "# Resource: Query Data with InfluxQL: https://docs.influxdata.com/influxdb/cloud/query-data/influxql/\n",
    "import pandas as pd\n",
    "import plotly.express as px\n",
    "from influxdb_client import InfluxDBClient, Point\n",
    "from datetime import timedelta\n",
    "\n",
    "\n",
    "# Define your InfluxDB connection details\n",
    "#url = \"http://localhost:8086\"\n",
    "#token = \"your_influxdb_token\"\n",
    "#org = \"your_organization\"\n",
    "bucket = \"Tables_Bucket\"\n",
    "\n",
    "# Create an InfluxDB client instance\n",
    "#client = InfluxDBClient(url=url, token=token, org=org)\n",
    "\n",
    "# SQL Query (NOT Flux)\n",
    "query = \"\"\"\n",
    "SELECT max(humidity)\n",
    "FROM airSensors\n",
    "WHERE time >= '2023-09-25T00:00:00Z'\n",
    "GROUP BY time(60m)\n",
    "\"\"\"\n",
    "\n",
    "token = os.environ.get(\"INFLUXDB_TOKEN\")\n",
    "token = \"XE9AyZ-3y-HJNyupKWiLgzVo5JMew-Y31Vq7gbakekdP66wIkBslEdnyrCc-vQ0t9MGFj449z0LvFhepVOwFfw==\"\n",
    "org = \"Dev\"\n",
    "host = \"https://us-east-1-1.aws.cloud2.influxdata.com\"\n",
    "\n",
    "client = InfluxDBClient3(host=host, token=token, org=org, ssl_ca_cert=certifi.where())\n",
    "# You can bring only the schema to help troubleshooting\n",
    "# schema = client.query(query=query, database=\"Tables_Bucket\", mode=\"schema\", language=\"influxql\")\n",
    "# print(schema)\n",
    "\n",
    "table = client.query(query=query, database=\"Tables_Bucket\", mode =\"all\", language=\"influxql\")\n",
    "dataframe = table.to_pandas() # This one automatically eliminitaes the NULL values. Not good. \n",
    "print (table)\n",
    "\n",
    "# Create a dictionary from the data\n",
    "data_dict = {\n",
    "    \"Measurement\": table[0],\n",
    "    \"Time\": table[1],\n",
    "    \"Max\": table[2]\n",
    "}\n",
    "\n",
    "# Create a Pandas DataFrame\n",
    "df = pd.DataFrame(data_dict)\n",
    "\n",
    "print(df)\n",
    "\n",
    "# Create a line plot using Plotly Express\n",
    "fig = px.line(df, x=\"Time\", y=\"Max\", title=\"Max Values Over Time\", labels={\"Max\": \"Max Value\"})\n",
    "\n",
    "# Show the plot\n",
    "fig.show()\n",
    "\n",
    "# Close the client connection\n",
    "client.close()\n"
   ]
  },
  {
   "cell_type": "markdown",
   "metadata": {},
   "source": [
    "## Delete a bucket\n"
   ]
  },
  {
   "cell_type": "code",
   "execution_count": null,
   "metadata": {},
   "outputs": [],
   "source": [
    "import requests\n",
    "\n",
    "# InfluxDB API endpoint\n",
    "base_url = \"http://localhost:8086\"\n",
    "org = \"your_organization\"  # Replace with your organization name\n",
    "bucket = \"your_bucket\"      # Replace with the name of the bucket you want to delete\n",
    "\n",
    "# Authentication token (if required)\n",
    "token = \"your_authentication_token\"  # Replace with your authentication token, if needed\n",
    "\n",
    "# Construct the URL for deleting the bucket\n",
    "url = f\"{base_url}/api/v2/buckets/{org}/{bucket}\"\n",
    "\n",
    "# Headers for the request (include the authentication token if required)\n",
    "headers = {\n",
    "    \"Authorization\": f\"Token {token}\" if token else \"\",\n",
    "}\n",
    "\n",
    "# Send the DELETE request to delete the bucket\n",
    "response = requests.delete(url, headers=headers)\n",
    "\n",
    "# Check the response status code\n",
    "if response.status_code == 204:\n",
    "    print(f\"Bucket '{bucket}' deleted successfully.\")\n",
    "else:\n",
    "    print(f\"Failed to delete bucket '{bucket}'. Status code: {response.status_code}\")\n",
    "    print(response.text)\n"
   ]
  }
 ],
 "metadata": {
  "kernelspec": {
   "display_name": "Python 3",
   "language": "python",
   "name": "python3"
  },
  "language_info": {
   "codemirror_mode": {
    "name": "ipython",
    "version": 3
   },
   "file_extension": ".py",
   "mimetype": "text/x-python",
   "name": "python",
   "nbconvert_exporter": "python",
   "pygments_lexer": "ipython3",
   "version": "3.10.2"
  },
  "orig_nbformat": 4
 },
 "nbformat": 4,
 "nbformat_minor": 2
}
