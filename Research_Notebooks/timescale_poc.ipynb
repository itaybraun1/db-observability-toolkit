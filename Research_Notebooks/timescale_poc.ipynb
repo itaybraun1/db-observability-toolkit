{
 "cells": [
  {
   "cell_type": "code",
   "execution_count": 6,
   "metadata": {},
   "outputs": [
    {
     "name": "stdout",
     "output_type": "stream",
     "text": [
      "Opened Connection\n"
     ]
    }
   ],
   "source": [
    "import sqlalchemy\n",
    "import pandas as pd\n",
    "import configparser\n",
    "import matplotlib.pyplot as plt \n",
    "\n",
    "# Read from the Config file\n",
    "config = configparser.ConfigParser() \n",
    "\n",
    "\n",
    "try:\n",
    "    config.read_file(open(r'../ipynb.cfg'))\n",
    "    con_str = config.get('con_str', 'TIMESCALE') \n",
    "    engine = sqlalchemy.create_engine(con_str)\n",
    "    connection = engine.connect()\n",
    "    print (\"Opened Connection\")\n",
    "except (Exception, sqlalchemy.exc.SQLAlchemyError) as error:\n",
    "    print(\"Error while connecting to PostgreSQL database:\", error)\n"
   ]
  },
  {
   "cell_type": "code",
   "execution_count": 17,
   "metadata": {},
   "outputs": [],
   "source": [
    "import pandas as pd\n",
    "import numpy as np\n",
    "\n",
    "# Create a DataFrame with 1 million rows and three columns\n",
    "data = {'Column1': np.random.randint(1, 100, size=100000),\n",
    "        'Column2': np.random.rand(100000),\n",
    "        'Column3': np.random.choice(['A', 'B', 'C', 'D'], size=100000)}\n",
    "\n",
    "df = pd.DataFrame(data)\n",
    "\n",
    "# Create a table 'your_table_name' in the PostgreSQL database\n",
    "table_name = 'test_python'\n",
    "# df.to_sql(table_name, engine, index=False, if_exists='replace')\n",
    "\n"
   ]
  },
  {
   "cell_type": "code",
   "execution_count": 25,
   "metadata": {},
   "outputs": [
    {
     "data": {
      "text/plain": [
       "100000"
      ]
     },
     "execution_count": 25,
     "metadata": {},
     "output_type": "execute_result"
    }
   ],
   "source": [
    "# Copy the DataFrame to the PostgreSQL table\n",
    "\n",
    "df.to_sql(table_name, connection, index=False, if_exists='append', method='multi', chunksize=50000)\n",
    "\n",
    "\n",
    "# Close the connection\n",
    "# connection.close()"
   ]
  },
  {
   "cell_type": "code",
   "execution_count": 8,
   "metadata": {},
   "outputs": [],
   "source": [
    "import pandas as pd\n",
    "import numpy as np\n",
    "from datetime import datetime, timedelta\n",
    "\n",
    "# Number of hosts, databases, and tables\n",
    "num_hosts = 1\n",
    "num_databases_per_host = 10\n",
    "num_tables_per_database = 300\n",
    "\n",
    "# Number of days of data\n",
    "num_days = 14\n",
    "\n",
    "# Iterate over databases\n",
    "for db_id in range(1, 11):  # Assuming 10 databases per host\n",
    "    data = {'time': [], 'host_id': [], 'db_id': [], 'table_name': [], 'rows_read': [], 'rows_inserted': [],\n",
    "            'rows_deleted': [], 'rows_updated': []}\n",
    "\n",
    "    start_date = datetime(2023, 1, 1)\n",
    "\n",
    "    # Generate data for the DataFrame\n",
    "    for table_id in range(1, num_tables_per_database + 1):\n",
    "        for day in range(num_days):\n",
    "            for minute in range(0, 24 * 60, 5):\n",
    "                timestamp = start_date + timedelta(days=day, minutes=minute)\n",
    "\n",
    "                # Append data to the DataFrame\n",
    "                data['time'].append(timestamp)\n",
    "                data['host_id'].append(f'host_{db_id}')\n",
    "                data['db_id'].append(f'db_{db_id}')\n",
    "                data['table_name'].append(f'table_{table_id}')\n",
    "                data['rows_read'].append(np.random.randint(0, 1000))\n",
    "                data['rows_inserted'].append(np.random.randint(0, 500))\n",
    "                data['rows_deleted'].append(np.random.randint(0, 200))\n",
    "                data['rows_updated'].append(np.random.randint(0, 300))\n",
    "\n",
    "    # Create the DataFrame for the current database\n",
    "    df = pd.DataFrame(data)\n",
    "\n",
    "    # Write the DataFrame to the PostgreSQL table\n",
    "    df.to_sql(\"df_tables\", connection, index=False, if_exists='append', method='multi', chunksize=50000)\n",
    "\n",
    "    # Clear the DataFrame for the next iteration\n",
    "    df = pd.DataFrame()\n",
    "\n",
    "# Close the PostgreSQL connection\n",
    "connection.close()\n"
   ]
  },
  {
   "cell_type": "code",
   "execution_count": 4,
   "metadata": {},
   "outputs": [
    {
     "data": {
      "text/plain": [
       "1209600"
      ]
     },
     "execution_count": 4,
     "metadata": {},
     "output_type": "execute_result"
    }
   ],
   "source": [
    "# Copy the DataFrame to the PostgreSQL table\n",
    "\n",
    "df.to_sql(\"df_tables\", connection, index=False, if_exists='append', method='multi', chunksize=50000)\n",
    "\n",
    "\n",
    "# Close the connection\n",
    "# connection.close()"
   ]
  }
 ],
 "metadata": {
  "kernelspec": {
   "display_name": "Python 3",
   "language": "python",
   "name": "python3"
  },
  "language_info": {
   "codemirror_mode": {
    "name": "ipython",
    "version": 3
   },
   "file_extension": ".py",
   "mimetype": "text/x-python",
   "name": "python",
   "nbconvert_exporter": "python",
   "pygments_lexer": "ipython3",
   "version": "3.10.2"
  },
  "orig_nbformat": 4
 },
 "nbformat": 4,
 "nbformat_minor": 2
}
