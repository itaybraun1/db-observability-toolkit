{
 "cells": [
  {
   "cell_type": "markdown",
   "metadata": {},
   "source": [
    "# runbook_pg_server___high_cpu_v1\n",
    "This runbook based on this post [Troubleshooting High CPU Utilization in PostgreSQL Databases: A How-To Guide](https://jfrog.com/community/data-science/troubleshooting-high-cpu-utilization-in-postgresql-databases-a-how-to-guide/) by Dmitry Romanoff\n",
    "\n",
    "It is provided as-is. Future versions of the runbook will provide more in-depth analysis"
   ]
  },
  {
   "cell_type": "markdown",
   "metadata": {},
   "source": [
    "## SQL Query #1 – Connections summary\n",
    "**Query Desc:** One of the patterns of PostgreSQL DB’s leading to high CPU utilization is a high number of active connections  \n",
    "**Analysis:** The recommendation for SQL Query one is to examine running sessions on the PostgreSQL DB instance, trying to identify and analyze using EXPLAIN long-running, badly written, too-frequent, queries. In case the number of active connections is more than one per CPU core it’s recommended to check and tune the application(s) working with the DB."
   ]
  },
  {
   "cell_type": "code",
   "execution_count": 14,
   "metadata": {},
   "outputs": [
    {
     "name": "stdout",
     "output_type": "stream",
     "text": [
      "Opened Connection\n"
     ]
    }
   ],
   "source": [
    "import sqlalchemy\n",
    "import pandas as pd\n",
    "import configparser\n",
    "import matplotlib.pyplot as plt \n",
    "\n",
    "# Read from the Config file\n",
    "config = configparser.ConfigParser() \n",
    "config.read_file(open(r'../ipynb.cfg'))\n",
    "\n",
    "con_str = config.get('con_str', 'PG_AIRBASES') \n",
    "engine = sqlalchemy.create_engine(con_str)\n",
    "\n",
    "try:\n",
    "    connection = engine.connect()\n",
    "    print (\"Opened Connection\")\n",
    "except (Exception, sqlalchemy.exc.SQLAlchemyError) as error:\n",
    "    print(\"Error while connecting to PostgreSQL database:\", error)\n"
   ]
  },
  {
   "cell_type": "code",
   "execution_count": 15,
   "metadata": {},
   "outputs": [
    {
     "data": {
      "text/html": [
       "<div>\n",
       "<style scoped>\n",
       "    .dataframe tbody tr th:only-of-type {\n",
       "        vertical-align: middle;\n",
       "    }\n",
       "\n",
       "    .dataframe tbody tr th {\n",
       "        vertical-align: top;\n",
       "    }\n",
       "\n",
       "    .dataframe thead th {\n",
       "        text-align: right;\n",
       "    }\n",
       "</style>\n",
       "<table border=\"1\" class=\"dataframe\">\n",
       "  <thead>\n",
       "    <tr style=\"text-align: right;\">\n",
       "      <th></th>\n",
       "      <th>total_connections</th>\n",
       "      <th>non_idle_connections</th>\n",
       "      <th>max_connections</th>\n",
       "      <th>connections_utilization_pctg</th>\n",
       "    </tr>\n",
       "  </thead>\n",
       "  <tbody>\n",
       "    <tr>\n",
       "      <th>0</th>\n",
       "      <td>61</td>\n",
       "      <td>3</td>\n",
       "      <td>835</td>\n",
       "      <td>7.31</td>\n",
       "    </tr>\n",
       "  </tbody>\n",
       "</table>\n",
       "</div>"
      ],
      "text/plain": [
       "   total_connections  non_idle_connections max_connections  \\\n",
       "0                 61                     3             835   \n",
       "\n",
       "   connections_utilization_pctg  \n",
       "0                          7.31  "
      ]
     },
     "execution_count": 15,
     "metadata": {},
     "output_type": "execute_result"
    }
   ],
   "source": [
    "qry_connections = \"\"\"\n",
    "select \n",
    "    A.total_connections, \n",
    "    A.non_idle_connections, \n",
    "    B.max_connections,\n",
    "    round((100 * A.total_connections::numeric / B.max_connections::numeric), 2) connections_utilization_pctg\n",
    "from\n",
    "  (select count(1) as total_connections, sum(case when state!='idle' then 1 else 0 end) as non_idle_connections from pg_stat_activity) A,\n",
    "  (select setting as max_connections from pg_settings where name='max_connections') B;\n",
    " \"\"\"\n",
    "df = pd.read_sql_query(qry_connections, connection)\n",
    "df"
   ]
  },
  {
   "cell_type": "markdown",
   "metadata": {},
   "source": [
    "## SQL Query #2 – Distribution of non-idle connections per database\n",
    "**Query Desc:** Use the below query to check the distribution of non-idle connections number per database, sorted in descending order  \n",
    "**Analysis:** The recommendation in such a case would be to examine running sessions of the top database on the PostgreSQL DB instance, trying to identify long-running, badly written, too-frequent queries."
   ]
  },
  {
   "cell_type": "code",
   "execution_count": 16,
   "metadata": {},
   "outputs": [
    {
     "data": {
      "text/html": [
       "<div>\n",
       "<style scoped>\n",
       "    .dataframe tbody tr th:only-of-type {\n",
       "        vertical-align: middle;\n",
       "    }\n",
       "\n",
       "    .dataframe tbody tr th {\n",
       "        vertical-align: top;\n",
       "    }\n",
       "\n",
       "    .dataframe thead th {\n",
       "        text-align: right;\n",
       "    }\n",
       "</style>\n",
       "<table border=\"1\" class=\"dataframe\">\n",
       "  <thead>\n",
       "    <tr style=\"text-align: right;\">\n",
       "      <th></th>\n",
       "      <th>db_name</th>\n",
       "      <th>num_non_idle_connections</th>\n",
       "    </tr>\n",
       "  </thead>\n",
       "  <tbody>\n",
       "    <tr>\n",
       "      <th>0</th>\n",
       "      <td>airbases</td>\n",
       "      <td>3</td>\n",
       "    </tr>\n",
       "  </tbody>\n",
       "</table>\n",
       "</div>"
      ],
      "text/plain": [
       "    db_name  num_non_idle_connections\n",
       "0  airbases                         3"
      ]
     },
     "execution_count": 16,
     "metadata": {},
     "output_type": "execute_result"
    }
   ],
   "source": [
    "qry_non_idle_connection = \"\"\"\n",
    "select \n",
    "datname as db_name, \n",
    "count(1) as num_non_idle_connections \n",
    "from pg_stat_activity \n",
    "where state!='idle' \n",
    "group by 1 \n",
    "order by 2 desc;\n",
    "\"\"\"\n",
    "df = pd.read_sql_query(qry_non_idle_connection, connection)\n",
    "df"
   ]
  },
  {
   "cell_type": "markdown",
   "metadata": {},
   "source": [
    "## SQL Query #3 – Distribution of non-idle connections per database and per query\n",
    "**Query Desc:** Check the distribution of non-idle connections per database and per query, sorted in descending order  \n",
    "**Analysis:** The recommendation in such a case would be to examine the SQL queries having the top non-idle connections. It happens that a high number of non-idle connections may appear to indicate ineffective, not scalable architecture or workload, not matching the system resources.\n",
    "TODO: show the full length of the SQL in the dataframe "
   ]
  },
  {
   "cell_type": "code",
   "execution_count": 17,
   "metadata": {},
   "outputs": [
    {
     "data": {
      "text/html": [
       "<div>\n",
       "<style scoped>\n",
       "    .dataframe tbody tr th:only-of-type {\n",
       "        vertical-align: middle;\n",
       "    }\n",
       "\n",
       "    .dataframe tbody tr th {\n",
       "        vertical-align: top;\n",
       "    }\n",
       "\n",
       "    .dataframe thead th {\n",
       "        text-align: right;\n",
       "    }\n",
       "</style>\n",
       "<table border=\"1\" class=\"dataframe\">\n",
       "  <thead>\n",
       "    <tr style=\"text-align: right;\">\n",
       "      <th></th>\n",
       "      <th>db_name</th>\n",
       "      <th>short_query</th>\n",
       "      <th>num_non_idle_connections</th>\n",
       "    </tr>\n",
       "  </thead>\n",
       "  <tbody>\n",
       "    <tr>\n",
       "      <th>0</th>\n",
       "      <td>airbases</td>\n",
       "      <td>\\nselect \\n    A.total_connections, \\n    A.no...</td>\n",
       "      <td>1</td>\n",
       "    </tr>\n",
       "    <tr>\n",
       "      <th>1</th>\n",
       "      <td>airbases</td>\n",
       "      <td>\\nwith\\na as (select dbid, queryid, query, ca...</td>\n",
       "      <td>1</td>\n",
       "    </tr>\n",
       "    <tr>\n",
       "      <th>2</th>\n",
       "      <td>airbases</td>\n",
       "      <td>\\nSELECT datname as database, \\n       COUNT(*...</td>\n",
       "      <td>1</td>\n",
       "    </tr>\n",
       "  </tbody>\n",
       "</table>\n",
       "</div>"
      ],
      "text/plain": [
       "    db_name                                        short_query  \\\n",
       "0  airbases  \\nselect \\n    A.total_connections, \\n    A.no...   \n",
       "1  airbases   \\nwith\\na as (select dbid, queryid, query, ca...   \n",
       "2  airbases  \\nSELECT datname as database, \\n       COUNT(*...   \n",
       "\n",
       "   num_non_idle_connections  \n",
       "0                         1  \n",
       "1                         1  \n",
       "2                         1  "
      ]
     },
     "execution_count": 17,
     "metadata": {},
     "output_type": "execute_result"
    }
   ],
   "source": [
    "qry_non_idle_connections_by_query = \"\"\"\n",
    "select \n",
    "datname as db_name, \n",
    "substr(query, 1, 200) short_query, \n",
    "count(1) as num_non_idle_connections \n",
    "from pg_stat_activity \n",
    "where state!='idle' \n",
    "group by 1, 2 \n",
    "order by 3 desc;\n",
    "\"\"\";\n",
    "df = pd.read_sql_query(qry_non_idle_connections_by_query, connection)\n",
    "df"
   ]
  },
  {
   "cell_type": "markdown",
   "metadata": {},
   "source": [
    "## SQL Query #4 – Non-idle sessions detailed\n",
    "**Query Desc:** List non-idle PostgreSQL sessions that take more than five seconds, sorted by the runtime in descending order  \n",
    "**Analysis:** In some scenarios, long-running queries can cause high CPU utilization. In these instances, the queries obtained in the resultset should be analyzed and appropriately tuned. \n",
    "\n",
    "In case the query runs too long, causing a high load on the DB CPU and other resources, you may want to terminate it explicitly. To terminate a PostgreSQL DB session by <process id> run the following command: ```select pg_terminate_backend(<process_id>);```"
   ]
  },
  {
   "cell_type": "code",
   "execution_count": 18,
   "metadata": {},
   "outputs": [
    {
     "data": {
      "text/html": [
       "<div>\n",
       "<style scoped>\n",
       "    .dataframe tbody tr th:only-of-type {\n",
       "        vertical-align: middle;\n",
       "    }\n",
       "\n",
       "    .dataframe tbody tr th {\n",
       "        vertical-align: top;\n",
       "    }\n",
       "\n",
       "    .dataframe thead th {\n",
       "        text-align: right;\n",
       "    }\n",
       "</style>\n",
       "<table border=\"1\" class=\"dataframe\">\n",
       "  <thead>\n",
       "    <tr style=\"text-align: right;\">\n",
       "      <th></th>\n",
       "      <th>runtime</th>\n",
       "      <th>process_id</th>\n",
       "      <th>db_name</th>\n",
       "      <th>client_addr</th>\n",
       "      <th>client_hostname</th>\n",
       "      <th>the_query</th>\n",
       "    </tr>\n",
       "  </thead>\n",
       "  <tbody>\n",
       "    <tr>\n",
       "      <th>0</th>\n",
       "      <td>0 days 01:40:27.596158</td>\n",
       "      <td>23425</td>\n",
       "      <td>airbases</td>\n",
       "      <td>5.28.129.66</td>\n",
       "      <td>None</td>\n",
       "      <td>\\nSELECT datname as database, \\n       COUNT(*...</td>\n",
       "    </tr>\n",
       "    <tr>\n",
       "      <th>1</th>\n",
       "      <td>0 days 00:02:33.047272</td>\n",
       "      <td>27903</td>\n",
       "      <td>airbases</td>\n",
       "      <td>5.28.129.66</td>\n",
       "      <td>None</td>\n",
       "      <td>\\nwith\\na as (select dbid, queryid, query, ca...</td>\n",
       "    </tr>\n",
       "  </tbody>\n",
       "</table>\n",
       "</div>"
      ],
      "text/plain": [
       "                 runtime  process_id   db_name  client_addr client_hostname  \\\n",
       "0 0 days 01:40:27.596158       23425  airbases  5.28.129.66            None   \n",
       "1 0 days 00:02:33.047272       27903  airbases  5.28.129.66            None   \n",
       "\n",
       "                                           the_query  \n",
       "0  \\nSELECT datname as database, \\n       COUNT(*...  \n",
       "1   \\nwith\\na as (select dbid, queryid, query, ca...  "
      ]
     },
     "execution_count": 18,
     "metadata": {},
     "output_type": "execute_result"
    }
   ],
   "source": [
    "qry_non_idle_sessions_details = \"\"\" \n",
    "select \n",
    "\tnow()-query_start as runtime, \n",
    "\tpid as process_id, \n",
    "\tdatname as db_name, \n",
    "\tclient_addr,\n",
    "\tclient_hostname,\n",
    "\tsubstr(query, 1, 200) the_query\n",
    "from pg_stat_activity\n",
    "where state!='idle'\n",
    "and now() - query_start > '5 seconds'::interval\n",
    "order by 1 desc; \"\"\" \n",
    "\n",
    "df = pd.read_sql_query(qry_non_idle_sessions_details, connection)\n",
    "df"
   ]
  },
  {
   "cell_type": "markdown",
   "metadata": {},
   "source": [
    "# SQL Query #5 – Running frequent SQL queries\n",
    "The root cause of high CPU utilization in PostgreSQL databases may not be a necessary long-running query. Quick, but too frequent queries running hundreds of times per second can cause high CPU utilization too. "
   ]
  },
  {
   "cell_type": "code",
   "execution_count": 19,
   "metadata": {},
   "outputs": [
    {
     "data": {
      "text/html": [
       "<div>\n",
       "<style scoped>\n",
       "    .dataframe tbody tr th:only-of-type {\n",
       "        vertical-align: middle;\n",
       "    }\n",
       "\n",
       "    .dataframe tbody tr th {\n",
       "        vertical-align: top;\n",
       "    }\n",
       "\n",
       "    .dataframe thead th {\n",
       "        text-align: right;\n",
       "    }\n",
       "</style>\n",
       "<table border=\"1\" class=\"dataframe\">\n",
       "  <thead>\n",
       "    <tr style=\"text-align: right;\">\n",
       "      <th></th>\n",
       "      <th>db_name</th>\n",
       "      <th>the_query</th>\n",
       "      <th>runs_per_second</th>\n",
       "    </tr>\n",
       "  </thead>\n",
       "  <tbody>\n",
       "    <tr>\n",
       "      <th>0</th>\n",
       "      <td>platform-v2</td>\n",
       "      <td>$1</td>\n",
       "      <td>393664.0</td>\n",
       "    </tr>\n",
       "    <tr>\n",
       "      <th>1</th>\n",
       "      <td>airbases-demo</td>\n",
       "      <td>EXPLAIN (FORMAT JSON) SELECT public.load_postg...</td>\n",
       "      <td>45449.0</td>\n",
       "    </tr>\n",
       "    <tr>\n",
       "      <th>2</th>\n",
       "      <td>airbases</td>\n",
       "      <td>EXPLAIN (FORMAT JSON) SELECT public.load_postg...</td>\n",
       "      <td>36241.0</td>\n",
       "    </tr>\n",
       "    <tr>\n",
       "      <th>3</th>\n",
       "      <td>airbases</td>\n",
       "      <td>EXPLAIN (FORMAT JSON) \\n        -- Your SQL qu...</td>\n",
       "      <td>26042.0</td>\n",
       "    </tr>\n",
       "    <tr>\n",
       "      <th>4</th>\n",
       "      <td>airbases-demo</td>\n",
       "      <td>EXPLAIN (FORMAT JSON) \\n        SELECT \\n\\tdat...</td>\n",
       "      <td>24723.0</td>\n",
       "    </tr>\n",
       "    <tr>\n",
       "      <th>...</th>\n",
       "      <td>...</td>\n",
       "      <td>...</td>\n",
       "      <td>...</td>\n",
       "    </tr>\n",
       "    <tr>\n",
       "      <th>6808</th>\n",
       "      <td>airbases-demo</td>\n",
       "      <td>SELECT \\n\\tdatid as dbid, \\n  datname as db_na...</td>\n",
       "      <td>-24723.0</td>\n",
       "    </tr>\n",
       "    <tr>\n",
       "      <th>6809</th>\n",
       "      <td>airbases</td>\n",
       "      <td>--\\nINSERT INTO metis.pg_stat_database_snapsho...</td>\n",
       "      <td>-26042.0</td>\n",
       "    </tr>\n",
       "    <tr>\n",
       "      <th>6810</th>\n",
       "      <td>airbases</td>\n",
       "      <td>SELECT public.load_postgres_log_files()</td>\n",
       "      <td>-36241.0</td>\n",
       "    </tr>\n",
       "    <tr>\n",
       "      <th>6811</th>\n",
       "      <td>airbases-demo</td>\n",
       "      <td>SELECT public.load_postgres_log_files()</td>\n",
       "      <td>-45449.0</td>\n",
       "    </tr>\n",
       "    <tr>\n",
       "      <th>6812</th>\n",
       "      <td>platform-v2</td>\n",
       "      <td>SELECT $1</td>\n",
       "      <td>-393664.0</td>\n",
       "    </tr>\n",
       "  </tbody>\n",
       "</table>\n",
       "<p>6813 rows × 3 columns</p>\n",
       "</div>"
      ],
      "text/plain": [
       "            db_name                                          the_query  \\\n",
       "0       platform-v2                                                 $1   \n",
       "1     airbases-demo  EXPLAIN (FORMAT JSON) SELECT public.load_postg...   \n",
       "2          airbases  EXPLAIN (FORMAT JSON) SELECT public.load_postg...   \n",
       "3          airbases  EXPLAIN (FORMAT JSON) \\n        -- Your SQL qu...   \n",
       "4     airbases-demo  EXPLAIN (FORMAT JSON) \\n        SELECT \\n\\tdat...   \n",
       "...             ...                                                ...   \n",
       "6808  airbases-demo  SELECT \\n\\tdatid as dbid, \\n  datname as db_na...   \n",
       "6809       airbases  --\\nINSERT INTO metis.pg_stat_database_snapsho...   \n",
       "6810       airbases            SELECT public.load_postgres_log_files()   \n",
       "6811  airbases-demo            SELECT public.load_postgres_log_files()   \n",
       "6812    platform-v2                                          SELECT $1   \n",
       "\n",
       "      runs_per_second  \n",
       "0            393664.0  \n",
       "1             45449.0  \n",
       "2             36241.0  \n",
       "3             26042.0  \n",
       "4             24723.0  \n",
       "...               ...  \n",
       "6808         -24723.0  \n",
       "6809         -26042.0  \n",
       "6810         -36241.0  \n",
       "6811         -45449.0  \n",
       "6812        -393664.0  \n",
       "\n",
       "[6813 rows x 3 columns]"
      ]
     },
     "execution_count": 19,
     "metadata": {},
     "output_type": "execute_result"
    }
   ],
   "source": [
    "qry_frequent_sql_calls = \"\"\" \n",
    "with\n",
    "a as (select dbid, queryid, query, calls s from pg_stat_statements),\n",
    "b as (select dbid, queryid, query, calls s from pg_stat_statements, pg_sleep(1))\n",
    "select\n",
    "        pd.datname as db_name, \n",
    "        substr(a.query, 1, 400) as the_query, \n",
    "        sum(b.s-a.s) as runs_per_second\n",
    "from a, b, pg_database pd\n",
    "where \n",
    "  a.dbid= b.dbid \n",
    "and \n",
    "  a.queryid = b.queryid \n",
    "and \n",
    "  pd.oid=a.dbid\n",
    "group by 1, 2\n",
    "order by 3 desc; \"\"\" \n",
    "\n",
    "df = pd.read_sql_query(qry_frequent_sql_calls, connection)\n",
    "df"
   ]
  },
  {
   "cell_type": "markdown",
   "metadata": {},
   "source": [
    "# SQL Query #6 – PostgreSQL Database CPU distribution per database, and per query\n",
    "**Query Desc:** This query checks how much each query in each database uses the CPU. It provides a resultset sorted in descending order by the most CPU-intensive queries.   \n",
    "**Analysis:** Check SQL queries that use a lot of CPU or time. Also, look for queries with a high mean time and/or a number of calls. ```GRANT pg_read_all_stats TO <db_user>;```"
   ]
  },
  {
   "cell_type": "code",
   "execution_count": null,
   "metadata": {},
   "outputs": [],
   "source": [
    "## The query below only works on PG 13 or higher\n",
    "## For PG 12 or older use this query: https://jfrog.com/community/data-science/troubleshooting-high-cpu-utilization-in-postgresql-databases-a-how-to-guide/\n",
    "\n",
    "qry_cpu_per_db = \"\"\" \n",
    "SELECT \n",
    "        pss.userid,\n",
    "        pss.dbid,\n",
    "        pd.datname as db_name,\n",
    "        round((pss.total_exec_time + pss.total_plan_time)::numeric, 2) as total_time, \n",
    "        pss.calls, \n",
    "        round((pss.mean_exec_time+pss.mean_plan_time)::numeric, 2) as mean, \n",
    "        round((100 * (pss.total_exec_time + pss.total_plan_time) / sum((pss.total_exec_time + pss.total_plan_time)::numeric) OVER ())::numeric, 2) as cpu_portion_pctg,\n",
    "        substr(pss.query, 1, 200) short_query\n",
    "FROM pg_stat_statements pss, pg_database pd \n",
    "WHERE pd.oid=pss.dbid\n",
    "ORDER BY (pss.total_exec_time + pss.total_plan_time)\n",
    "DESC LIMIT 30;\n",
    "\"\"\" \n",
    "\n",
    "df = pd.read_sql_query(qry_cpu_per_db, connection)\n",
    "df\n"
   ]
  },
  {
   "cell_type": "markdown",
   "metadata": {},
   "source": [
    "# SQL Query #7 – Check PostgreSQL DB tables statistics\n",
    "Outdated PostgreSQL statistics can be another root cause for high CPU utilization. When statistical data isn’t updated, the PostgreSQL query planner may generate non-efficient execution plans for queries, which will lead to a bad performance of the entire PostgreSQL DB Server.\n",
    "**Query Desc:** Checks the last date and time the statistics were updated for each table in the PostgreSQL DB Server for a specific DB"
   ]
  },
  {
   "cell_type": "code",
   "execution_count": null,
   "metadata": {},
   "outputs": [],
   "source": [
    "qry_table_statistics = \"\"\" \n",
    "select\n",
    "  schemaname,\n",
    "  relname,\n",
    "  DATE_TRUNC('minute', last_analyze) last_analyze,\n",
    "  DATE_TRUNC('minute', last_autoanalyze) last_autoanalyze\n",
    "from\n",
    "  pg_stat_all_tables\n",
    "where\n",
    "  schemaname = 'public'\n",
    "order by\n",
    "  last_analyze desc NULLS FIRST,\n",
    "  last_autoanalyze desc NULLS FIRST; \"\"\" \n",
    "\n",
    "df = pd.read_sql_query(qry_table_statistics, connection)\n",
    "df"
   ]
  }
 ],
 "metadata": {
  "kernelspec": {
   "display_name": "Python 3",
   "language": "python",
   "name": "python3"
  },
  "language_info": {
   "codemirror_mode": {
    "name": "ipython",
    "version": 3
   },
   "file_extension": ".py",
   "mimetype": "text/x-python",
   "name": "python",
   "nbconvert_exporter": "python",
   "pygments_lexer": "ipython3",
   "version": "3.10.2"
  },
  "orig_nbformat": 4
 },
 "nbformat": 4,
 "nbformat_minor": 2
}
